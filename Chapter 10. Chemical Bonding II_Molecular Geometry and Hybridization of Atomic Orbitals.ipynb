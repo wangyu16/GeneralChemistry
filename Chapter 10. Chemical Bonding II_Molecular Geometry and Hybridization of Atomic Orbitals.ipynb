{
 "cells": [
  {
   "cell_type": "code",
   "execution_count": 1,
   "metadata": {},
   "outputs": [
    {
     "data": {
      "text/html": [
       "\n",
       "<script>\n",
       "code_show=false;\n",
       "function code_toggle(){\n",
       "    if(code_show){$('.prompt, .input, .output_stderr, .output_error').hide();}\n",
       "    else{$('.input, .prompt, .output_stderr, .output_error').show();}\n",
       "    code_show=!code_show;\n",
       "}\n",
       "function initialize(){\n",
       "    document.body.style.fontFamily='Palatino';\n",
       "    var output=$('.output_subarea.output_text.output_stream.output_stdout');\n",
       "    $.merge(output,$('.output_subarea.output_text.output_result'));\n",
       "    for(var i=0;i<output.length;i++)for(var j=0;j<output[i].children.length;j++)\n",
       "        output[i].children[j].style.fontFamily='Palatino';\n",
       "    code_toggle();\n",
       "}\n",
       "$(document).ready(initialize);\n",
       "</script>\n",
       "Click <a href=\"javascript:code_toggle()\">here</a> to show/hide codes in this notebook.\n"
      ],
      "text/plain": [
       "<IPython.core.display.HTML object>"
      ]
     },
     "execution_count": 1,
     "metadata": {},
     "output_type": "execute_result"
    }
   ],
   "source": [
    "from IPython.display import HTML\n",
    "HTML('''\n",
    "<script>\n",
    "code_show=false;\n",
    "function code_toggle(){\n",
    "    if(code_show){$('.prompt, .input, .output_stderr, .output_error').hide();}\n",
    "    else{$('.input, .prompt, .output_stderr, .output_error').show();}\n",
    "    code_show=!code_show;\n",
    "}\n",
    "function initialize(){\n",
    "    document.body.style.fontFamily='Palatino';\n",
    "    var output=$('.output_subarea.output_text.output_stream.output_stdout');\n",
    "    $.merge(output,$('.output_subarea.output_text.output_result'));\n",
    "    for(var i=0;i<output.length;i++)for(var j=0;j<output[i].children.length;j++)\n",
    "        output[i].children[j].style.fontFamily='Palatino';\n",
    "    code_toggle();\n",
    "}\n",
    "$(document).ready(initialize);\n",
    "</script>\n",
    "Click <a href=\"javascript:code_toggle()\">here</a> to show/hide codes in this notebook.\n",
    "''')"
   ]
  },
  {
   "cell_type": "markdown",
   "metadata": {},
   "source": [
    "$$\\require{mhchem}$$\n",
    "\n",
    "### [HOME](https://wangyu16.github.io/GeneralChemistry/)\n",
    "\n",
    "# <center>General Chemistry Study Guide</center>\n",
    "\n",
    "### <center>Chapter 10. Chemical Bonding II: Molecular Geometry and Hybridization of Atomic Orbitals</center>\n",
    "\n",
    "---\n",
    "\n",
    "*<center>Yu Wang</center>*\n",
    "\n",
    "##### <b>OpenStax</b> 7.6  Molecular Structure and Polarity, 8 Advanced Theories of Covalent Bonding. <b>Brown</b> 9 Molecular Geometry and Bonding Theories. #####"
   ]
  },
  {
   "cell_type": "markdown",
   "metadata": {
    "collapsed": true
   },
   "source": [
    "## 1. Molecular Geomety\n",
    "\n",
    "The **valence shell** is the outermost electron-occupied shell of an atom; it holds the electrons that are usually involved in bonding. \n",
    "\n",
    "The **valence-shell electron-pair repulsion (VSEPR)** model accounts for the geometric arrangements of electron pairs around a central atom in terms of the electrostatic repulsion between electron pairs.\n",
    "\n",
    "Two general rules govern the use of the VSEPR model:\n",
    "1. As far as electron-pair repulsion is concerned, double bonds and triple bonds can be treated like single bonds.\n",
    "2. If a molecule has two or more resonance structures, we can apply the VSEPR model to any one of them. Formal charges are usually not shown.\n",
    "\n",
    "### 1.1. The Central Atom Has No Lone Pairs\n",
    "\n",
    "$\\ce{AB2}$, linear, example $\\ce{BeH2}$. \n",
    "\n",
    "$\\ce{AB3}$, trigonal planar, example $\\ce{BH3}$. \n",
    "\n",
    "$\\ce{AB4}$, tetrahedral, example $\\ce{CH4}$. \n",
    "\n",
    "$\\ce{AB5}$, trigonal bipyramidal, example $\\ce{PF5}$. \n",
    "\n",
    "$\\ce{AB6}$, octahedral, example $\\ce{SF6}$. \n",
    "\n",
    "<img src =\"https://cnx.org/resources/c2beac8066f72ec7e1464ef0622871822a1a722d\" />"
   ]
  },
  {
   "cell_type": "markdown",
   "metadata": {},
   "source": [
    "### 1.2. The Central Atom Has One or More Lone Pairs\n",
    "\n",
    "\n",
    "<img src=\"https://cnx.org/resources/ceb1497c257d8b992f11a3fd296414bcffeac34f\" />"
   ]
  },
  {
   "cell_type": "markdown",
   "metadata": {},
   "source": [
    "### 1.3. More than One Central Atom\n",
    "\n",
    "The overall geometry of molecules with more than one central atom is difficult to define in most cases. Often we can describe only the shape around each of the central atoms. \n",
    "\n",
    "Example, $\\ce{CH3OH}$\n",
    "\n",
    "<img src=\"https://upload.wikimedia.org/wikipedia/commons/d/db/Methanol-3D-balls.png\" style=\"width:300px\"/>"
   ]
  },
  {
   "cell_type": "markdown",
   "metadata": {},
   "source": [
    "> #### Requirements\n",
    "> 1. Remember the examples. \n",
    "> 2. Rmemeber the geometry of following molecules: $\\ce{H2O}$, $\\ce{BeCl2}$, $\\ce{CO2}$, $\\ce{SH2}$, $\\ce{SO2}$; $\\ce{BF3}$, $\\ce{NH3}$, $\\ce{PH3}$; $\\ce{CH4}$, $\\ce{SF4}$; $\\ce{PCl5}$; $\\ce{SF6}$; $\\ce{ClF3}$; $\\ce{I3^-}$; $\\ce{BrF5}$; $\\ce{XeF4}$. "
   ]
  },
  {
   "cell_type": "markdown",
   "metadata": {},
   "source": [
    "## 2. Dipole Moments\n",
    "\n",
    "**Dipole moment** ($\\mu$) is the product of the charge $Q$ and the distance $r$ between the charges.\n",
    "\n",
    "Diatomic molecules containing atoms of different elements (for example, $\\ce{HCl}$, $\\ce{CO}$, and $\\ce{NO}$) have dipole moments and are called polar molecules. Diatomic molecules containing atoms of the same element (for example, $\\ce{H2}$, $\\ce{O2}$, and $\\ce{F2}$) are examples of nonpolar molecules because they do not have dipole moments.\n",
    "\n",
    "For a molecule made up of three or more atoms, both the polarity of the bonds and the molecular geometry determine whether there is a dipole moment. Polar molecules must 1) have polar bonds; 2) those polar bonds do not cancel each other. \n",
    "\n",
    "For example, $\\ce{CO2}$ have two polar $\\ce{C=O}$ bonds, but those two bonds have opposite directions and cancel each other. Thus, $\\ce{CO2}$ is not a polar molecule. \n",
    "\n",
    "$\\ce{H2O}$ have two polar $\\ce{O-H}$ bonds. The molecule has a bended structure, so the two polar bonds do not cancel each other. Thus, $\\ce{H2O}$ is a polar molecule. \n",
    "\n",
    "$\\ce{BF3}$ is a trigonal planar structure and is non-polar. $\\ce{NH3}$ is a tetrahedral structure and is polar. "
   ]
  },
  {
   "cell_type": "markdown",
   "metadata": {},
   "source": [
    "> #### Requirements \n",
    "> 1. Remember the examples in the textbook. "
   ]
  },
  {
   "cell_type": "markdown",
   "metadata": {},
   "source": [
    "## 3. Valence Bond Theory\n",
    "\n"
   ]
  },
  {
   "cell_type": "markdown",
   "metadata": {},
   "source": [
    "### Basic Concepts\n",
    "\n",
    "**Valence bond (VB) theory** assumes that the electrons in a molecule occupy atomic orbitals of the individual atoms. \n",
    "\n",
    "**Molecular orbital (MO) theory**, assumes the formation of molecular orbitals from the atomic orbitals.\n",
    "\n",
    "Valence bond theory: When the two atoms are far apart, there is no interaction. We say that the potential energy of this system (that is, the two H atoms) is zero. As the atoms approach each other, each electron is attracted by the nucleus of the other atom; at the same time, the electrons repel each other, as do the nuclei. While the atoms are still separated, attraction is stronger than repulsion, so that the potential energy of the system decreases (that is, it becomes negative) as the atoms approach each other. This trend continues until the potential energy reaches a minimum value. At this point, when the system has the lowest potential energy, it is most stable. This condition corresponds to substantial overlap of the $1s$ orbitals and the formation of a stable $\\ce{H2}$ molecule. If the distance between nuclei were to decrease further, the potential energy would rise steeply and finally become positive as a result of the increased electron-electron and nuclear-nuclear repulsions. In accord with the law of conservation of energy, the decrease in potential energy as a result of $\\ce{H2}$ formation must be accompanied by a release of energy. The converse is also true. To break a $\\ce{H-H}$ bond, energy must be supplied to the molecule. \n",
    "\n",
    "The concept of overlapping atomic orbitals applies equally well to diatomic molecules other than $\\ce{H2}$. Thus, a stable $\\ce{F2}$ molecule forms when the $2p$ orbitals (containing the unpaired electrons) in the two $\\ce{F}$ atoms overlap to form a covalent bond. Similarly, the formation of the $\\ce{HF}$ molecule can be explained by the overlap of the $1s$ orbital in $\\ce{H}$ with the $2p$ orbital in $\\ce{F}$. In each case, valence bond theory accounts for the changes in potential energy as the distance between the reacting atoms changes. Because the orbitals involved are not the same kind in all cases, we can see why the bond enthalpies and bond lengths in $\\ce{H2}$, $\\ce{F2}$, and $\\ce{HF}$ might be different. "
   ]
  },
  {
   "cell_type": "markdown",
   "metadata": {},
   "source": [
    "### 3.2. Hybridization of Atomic Orbitals\n",
    "\n",
    "**Hybrid orbitals** are atomic orbitals obtained when two or more nonequivalent orbitals of the same atom combine in preparation for covalent bond formation. Hybridization is the term applied to the mixing of atomic orbitals in an atom (usually a central atom) to generate a set of hybrid orbitals. \n",
    "\n",
    "#### $sp^3$ hybridization. \n",
    "\n",
    "Example $\\ce{CH4}$.\n",
    "\n",
    "C has a pair of $2s$ electrons and two unpaired $2p$ electrons. \n",
    "\n",
    "\n",
    "When forming coumponds with 4 single bonds, one of the $2s$ electron would be promoted to the empty $2p$ orbital. \n",
    "\n",
    "\n",
    "Then, the $2s$ and $2p$ orbitals mix to four identical $sp^3$ orbitals. By accepting four other electrons from other atoms, four identical single bonds would be formed. \n",
    "\n",
    "\n",
    "<img src=\"https://cnx.org/resources/72f8b46e3e4a5404e3fd9c32ff7deb54ef97dfa3\" />\n",
    "\n",
    "<img src=\"https://cnx.org/resources/fb840ba4dfbbde49946be3f2ce20591475770f2b\" />\n",
    "\n",
    "Example $\\ce{NH3}$\n",
    "\n",
    "\n",
    "#### $sp$ hybridization. \n",
    "\n",
    "Example $\\ce{BeCl2}$\n",
    "\n",
    "<img src=\"https://cnx.org/resources/a8dc468b76628efa37d401b79c5ce325faeb92b6\" />\n",
    "\n",
    "<img src=\"https://cnx.org/resources/67536a85ccdd666a2051f3808ef9334b706fae79\" />\n",
    "\n",
    "#### $sp^2$ hybridization\n",
    "\n",
    "Example $\\ce{BF3}$\n",
    "\n",
    "<img src=\"https://cnx.org/resources/1e560523dbe34df752953f254f18f9d559ad46f5\" />"
   ]
  },
  {
   "cell_type": "markdown",
   "metadata": {},
   "source": [
    "### 3.3. Hybridization in Molecules Containing Double and Triple Bonds\n",
    "\n",
    "Example $\\ce{CH2=CH2}$\n",
    "\n",
    "We assume that only the $2p_x$ and $2p_y$ orbitals combine with the $2s$ orbital, and that the $2p_z$ orbital remains unchanged. Each carbon atom uses the three $sp^2$ hybrid orbitals to form two bonds with the two hydrogen $1s$ orbitals and one bond with the $sp^2$ hybrid orbital of the adjacent C atom. In addition, the two unhybridized $2p_z$ orbitals of the C atoms form another bond by overlapping sideways. \n",
    "\n",
    "<img src=\"https://cnx.org/resources/b4b07dc09356d11bd68da53cd2096bc2e7e70664\" />\n",
    "\n",
    "<img src=\"https://cnx.org/resources/fb8f27e65f4e47bc6e29ddef0f125d85c84894e9\" />\n",
    "\n",
    "The three bonds formed by each C atom are all **sigma bonds ($\\sigma$ bonds)**, covalent bonds formed by orbitals overlapping end-to-end, with the electron density concentrated between the nuclei of the bonding atoms. The second type is called a **pi bond ($\\pi$ bond)**, which is defined as a covalent bond formed by sideways overlapping orbitals with electron density concentrated above and below the plane of the nuclei of the bonding atoms.\n",
    "\n",
    "Example $\\ce{CH#CH}$\n",
    "\n",
    "Each C atom is $sp$-hybridized by mixing the $2s$ with the $2p_x$ orbital. The two $sp$ hybrid orbitals of each C atom form one $\\sigma$ bond with a hydrogen $1s$ orbital and another $\\sigma$ bond with the other C atom. In addition, two $\\pi$ bonds are formed by the sideways overlap of the unhybridized $2p_y$ and $2p_z$ orbitals. Thus, the $\\ce{C#C}$ bond is made up of one $\\sigma$ bond and two $\\pi$ bonds.\n",
    "\n",
    "<img src=\"https://cnx.org/resources/b75509ed450a3d2727f65f9b83df9a01cf52f7ae\" />\n",
    "\n",
    "<img src=\"https://cnx.org/resources/c31eb58ac87c198317e3cbb310a9e1cafa6d421c\" />\n",
    "\n",
    "The following rule helps us predict hybridization in molecules containing multiple bonds: If the central atom forms a double bond, it is $sp^2$-hybridized; if it forms two double bonds or a triple bond, it is $sp$-hybridized. Note that this rule applies only to atoms of the second-period elements. "
   ]
  },
  {
   "cell_type": "markdown",
   "metadata": {},
   "source": [
    "> #### Requirements \n",
    "> 1. Understand valence bond theory.\n",
    "> 2. Remember examples of $sp$, $sp^2$, $sp^3$ hybridization.\n",
    "> 3. Pay attention on $\\ce{CH4}$, $\\ce{CH2=CH2}$, $\\ce{CH#CH}$. Understand $\\sigma$ bonds and $\\pi$ bonds. "
   ]
  },
  {
   "cell_type": "markdown",
   "metadata": {},
   "source": [
    "<div class=practice>\n",
    "\n",
    "    \n",
    "<b>Practice:</b> <br>\n",
    "    \n",
    "1. Give the number of lone pairs around the central atom and the molecular geometry of $\\ce{CBr4}$. <br><br>\n",
    "\n",
    "2. Give the number of lone pairs around the central atom and the molecular geometry of $\\ce{SO2}$. <br><br>\n",
    "\n",
    "3. Which of the following substances is/are bent? (i) $\\ce{H2S}$; (ii) $\\ce{CO2}$; (iii) $\\ce{ClNO}$; (iv) $\\ce{NH2^-}$; (v) $\\ce{O3}$?<br><br>    \n",
    "\n",
    "4. Which of the following molecules is polar?  <br>  \n",
    "\n",
    "(A) $\\ce{BeCl2}$<br>\n",
    "(B) $\\ce{Br2}$<br>\n",
    "(C) $\\ce{BF3}$<br>\n",
    "(D) $\\ce{IBr}$<br>\n",
    "(E) $\\ce{CO2}$<br><br>\n",
    "\n",
    "5. Which of the following species has the largest dipole moment (i.e., is the most polar)?<br>\n",
    "\n",
    "(A) $\\ce{CH4}$<br>\n",
    "(B) $\\ce{CH3Br}$<br>\n",
    "(C) $\\ce{CH3Cl}$<br>\n",
    "(D) $\\ce{CH3F}$<br>\n",
    "(E) $\\ce{CH3I}$<br><br>\n",
    "\n",
    "6. Predict the molecular geometry and polarity of the $\\ce{CO2}$ molecule.<br><br>\n",
    "\n",
    "7. Indicate the type of hybrid orbitals used by the central atom in $\\ce{PCl3}$.<br><br>    \n",
    "    \n",
    "8. N,N-diethyl-m-tolumide (DEET) is the active ingredient in many mosquito repellents. What is the hybridization state of the carbon in DEET molecule that bonded to an oxygen atom, i.e., $\\ce{C=O}$? The structure of DEET is shown below. <br><br>\n",
    "\n",
    "9. What is the number of $\\pi$ bonds in the molecule shown below?<br><br>\n",
    "\n",
    "10. What is the number of $\\sigma$ bonds in the molecule shown below?<br><br>    \n",
    "    \n",
    "</div>    "
   ]
  },
  {
   "cell_type": "code",
   "execution_count": 2,
   "metadata": {},
   "outputs": [
    {
     "ename": "ModuleNotFoundError",
     "evalue": "No module named 'rdkit'",
     "output_type": "error",
     "traceback": [
      "\u001b[1;31m---------------------------------------------------------------------------\u001b[0m",
      "\u001b[1;31mModuleNotFoundError\u001b[0m                       Traceback (most recent call last)",
      "\u001b[1;32m~\\AppData\\Local\\Temp\\ipykernel_20032\\1521152666.py\u001b[0m in \u001b[0;36m<module>\u001b[1;34m\u001b[0m\n\u001b[1;32m----> 1\u001b[1;33m \u001b[1;32mfrom\u001b[0m \u001b[0mrdkit\u001b[0m \u001b[1;32mimport\u001b[0m \u001b[0mChem\u001b[0m\u001b[1;33m\u001b[0m\u001b[1;33m\u001b[0m\u001b[0m\n\u001b[0m\u001b[0;32m      2\u001b[0m \u001b[1;32mfrom\u001b[0m \u001b[0mrdkit\u001b[0m\u001b[1;33m.\u001b[0m\u001b[0mChem\u001b[0m \u001b[1;32mimport\u001b[0m \u001b[0mDraw\u001b[0m\u001b[1;33m\u001b[0m\u001b[1;33m\u001b[0m\u001b[0m\n\u001b[0;32m      3\u001b[0m \u001b[1;32mfrom\u001b[0m \u001b[0mrdkit\u001b[0m\u001b[1;33m.\u001b[0m\u001b[0mChem\u001b[0m\u001b[1;33m.\u001b[0m\u001b[0mDraw\u001b[0m \u001b[1;32mimport\u001b[0m \u001b[0mIPythonConsole\u001b[0m\u001b[1;33m\u001b[0m\u001b[1;33m\u001b[0m\u001b[0m\n\u001b[0;32m      4\u001b[0m \u001b[1;32mfrom\u001b[0m \u001b[0mrdkit\u001b[0m\u001b[1;33m.\u001b[0m\u001b[0mChem\u001b[0m\u001b[1;33m.\u001b[0m\u001b[0mDraw\u001b[0m\u001b[1;33m.\u001b[0m\u001b[0mMolDrawing\u001b[0m \u001b[1;32mimport\u001b[0m \u001b[0mMolDrawing\u001b[0m\u001b[1;33m,\u001b[0m \u001b[0mDrawingOptions\u001b[0m\u001b[1;33m\u001b[0m\u001b[1;33m\u001b[0m\u001b[0m\n\u001b[0;32m      5\u001b[0m \u001b[1;31m#DrawingOptions.bondLineWidth=1\u001b[0m\u001b[1;33m\u001b[0m\u001b[1;33m\u001b[0m\u001b[1;33m\u001b[0m\u001b[0m\n",
      "\u001b[1;31mModuleNotFoundError\u001b[0m: No module named 'rdkit'"
     ]
    }
   ],
   "source": [
    "from rdkit import Chem\n",
    "from rdkit.Chem import Draw\n",
    "from rdkit.Chem.Draw import IPythonConsole\n",
    "from rdkit.Chem.Draw.MolDrawing import MolDrawing, DrawingOptions\n",
    "#DrawingOptions.bondLineWidth=1\n",
    "#DrawingOptions.atomLabelFontSize = 16\n",
    "IPythonConsole.ipython_useSVG = True"
   ]
  },
  {
   "cell_type": "markdown",
   "metadata": {},
   "source": [
    "(For practice question 8) The structure of DEET:"
   ]
  },
  {
   "cell_type": "code",
   "execution_count": null,
   "metadata": {},
   "outputs": [],
   "source": [
    "IPythonConsole.molSize = (300, 200)\n",
    "m = Chem.MolFromSmiles('O=C(c1cc(ccc1)C)N(CC)CC')\n",
    "m = Chem.AddHs(m)\n",
    "m"
   ]
  },
  {
   "cell_type": "markdown",
   "metadata": {},
   "source": [
    "(For practice questions 9 and 10) The structure of the compound: "
   ]
  },
  {
   "cell_type": "code",
   "execution_count": null,
   "metadata": {},
   "outputs": [],
   "source": [
    "IPythonConsole.molSize = (300, 200)\n",
    "m = Chem.MolFromSmiles('N#CC=C')\n",
    "m = Chem.AddHs(m)\n",
    "m"
   ]
  },
  {
   "cell_type": "markdown",
   "metadata": {
    "collapsed": true
   },
   "source": [
    "----"
   ]
  },
  {
   "cell_type": "code",
   "execution_count": null,
   "metadata": {},
   "outputs": [],
   "source": [
    "from IPython.core.display import HTML\n",
    "def css_styling():\n",
    "    styles = open(\"custom.css\", \"r\").read()\n",
    "    return HTML(styles)\n",
    "css_styling()"
   ]
  },
  {
   "cell_type": "code",
   "execution_count": null,
   "metadata": {},
   "outputs": [],
   "source": [
    "import requests\n",
    "copyright = requests.get(\"https://raw.githubusercontent.com/wangyu16/GeneralChemistry/master/copyright.md\")\n",
    "HTML(copyright.text)"
   ]
  }
 ],
 "metadata": {
  "anaconda-cloud": {},
  "kernelspec": {
   "display_name": "Python 3 (ipykernel)",
   "language": "python",
   "name": "python3"
  },
  "language_info": {
   "codemirror_mode": {
    "name": "ipython",
    "version": 3
   },
   "file_extension": ".py",
   "mimetype": "text/x-python",
   "name": "python",
   "nbconvert_exporter": "python",
   "pygments_lexer": "ipython3",
   "version": "3.7.1"
  }
 },
 "nbformat": 4,
 "nbformat_minor": 1
}
