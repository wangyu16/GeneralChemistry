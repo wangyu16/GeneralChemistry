{
 "cells": [
  {
   "cell_type": "markdown",
   "metadata": {},
   "source": [
    "$$\\require{mhchem}$$\n",
    "\n",
    "### [HOME](https://wangyu16.github.io/GeneralChemistry/)\n",
    "\n",
    "# <center>General Chemistry Study Guide</center>\n",
    "\n",
    "### <center>Chapter 10. Chemical Bonding II: Molecular Geometry and Hybridization of Atomic Orbitals</center>\n",
    "\n",
    "---\n",
    "\n",
    "*<center>Yu Wang</center>*\n",
    "\n",
    "##### <b>OpenStax</b> 7.6  Molecular Structure and Polarity, 8 Advanced Theories of Covalent Bonding. <b>Brown</b> 9 Molecular Geometry and Bonding Theories. #####"
   ]
  },
  {
   "cell_type": "markdown",
   "metadata": {
    "collapsed": true
   },
   "source": [
    "## 1. Molecular Geomety\n",
    "\n",
    "The **valence shell** is the outermost electron-occupied shell of an atom; it holds the electrons that are usually involved in bonding. \n",
    "\n",
    "The **valence-shell electron-pair repulsion (VSEPR)** model accounts for the geometric arrangements of electron pairs around a central atom in terms of the electrostatic repulsion between electron pairs.\n",
    "\n",
    "Two general rules govern the use of the VSEPR model:\n",
    "1. As far as electron-pair repulsion is concerned, double bonds and triple bonds can be treated like single bonds.\n",
    "2. If a molecule has two or more resonance structures, we can apply the VSEPR model to any one of them. Formal charges are usually not shown.\n",
    "\n",
    "### 1.1. The Central Atom Has No Lone Pairs\n",
    "\n",
    "$\\ce{AB2}$, linear, example $\\ce{BeH2}$. \n",
    "\n",
    "$\\ce{AB3}$, trigonal planar, example $\\ce{BH3}$. \n",
    "\n",
    "$\\ce{AB4}$, tetrahedral, example $\\ce{CH4}$. \n",
    "\n",
    "$\\ce{AB5}$, trigonal bipyramidal, example $\\ce{PF5}$. \n",
    "\n",
    "$\\ce{AB6}$, octahedral, example $\\ce{SF6}$. \n",
    "\n",
    "<img src =\"https://cnx.org/resources/c2beac8066f72ec7e1464ef0622871822a1a722d\" />"
   ]
  },
  {
   "cell_type": "markdown",
   "metadata": {},
   "source": [
    "### 1.2. The Central Atom Has One or More Lone Pairs\n",
    "\n",
    "\n",
    "<img src=\"https://cnx.org/resources/ceb1497c257d8b992f11a3fd296414bcffeac34f\" />"
   ]
  },
  {
   "cell_type": "markdown",
   "metadata": {},
   "source": [
    "### 1.3. More than One Central Atom\n",
    "\n",
    "The overall geometry of molecules with more than one central atom is difficult to define in most cases. Often we can describe only the shape around each of the central atoms. \n",
    "\n",
    "Example, $\\ce{CH3OH}$\n",
    "\n",
    "<img src=\"https://upload.wikimedia.org/wikipedia/commons/d/db/Methanol-3D-balls.png\" style=\"width:300px\"/>"
   ]
  },
  {
   "cell_type": "markdown",
   "metadata": {},
   "source": [
    "> #### Requirements\n",
    "> 1. Remember the examples. \n",
    "> 2. Rmemeber the geometry of following molecules: $\\ce{H2O}$, $\\ce{BeCl2}$, $\\ce{CO2}$, $\\ce{SH2}$, $\\ce{SO2}$; $\\ce{BF3}$, $\\ce{NH3}$, $\\ce{PH3}$; $\\ce{CH4}$, $\\ce{SF4}$; $\\ce{PCl5}$; $\\ce{SF6}$; $\\ce{ClF3}$; $\\ce{I3^-}$; $\\ce{BrF5}$; $\\ce{XeF4}$. "
   ]
  },
  {
   "cell_type": "markdown",
   "metadata": {},
   "source": [
    "## 2. Dipole Moments\n",
    "\n",
    "**Dipole moment** ($\\mu$) is the product of the charge $Q$ and the distance $r$ between the charges.\n",
    "\n",
    "Diatomic molecules containing atoms of different elements (for example, $\\ce{HCl}$, $\\ce{CO}$, and $\\ce{NO}$) have dipole moments and are called polar molecules. Diatomic molecules containing atoms of the same element (for example, $\\ce{H2}$, $\\ce{O2}$, and $\\ce{F2}$) are examples of nonpolar molecules because they do not have dipole moments.\n",
    "\n",
    "For a molecule made up of three or more atoms, both the polarity of the bonds and the molecular geometry determine whether there is a dipole moment. Polar molecules must 1) have polar bonds; 2) those polar bonds do not cancel each other. \n",
    "\n",
    "For example, $\\ce{CO2}$ have two polar $\\ce{C=O}$ bonds, but those two bonds have opposite directions and cancel each other. Thus, $\\ce{CO2}$ is not a polar molecule. \n",
    "\n",
    "$\\ce{H2O}$ have two polar $\\ce{O-H}$ bonds. The molecule has a bended structure, so the two polar bonds do not cancel each other. Thus, $\\ce{H2O}$ is a polar molecule. \n",
    "\n",
    "$\\ce{BF3}$ is a trigonal planar structure and is non-polar. $\\ce{NH3}$ is a tetrahedral structure and is polar. "
   ]
  },
  {
   "cell_type": "markdown",
   "metadata": {},
   "source": [
    "> #### Requirements \n",
    "> 1. Remember the examples in the textbook. "
   ]
  },
  {
   "cell_type": "markdown",
   "metadata": {},
   "source": [
    "## 3. Valence Bond Theory\n",
    "\n"
   ]
  },
  {
   "cell_type": "markdown",
   "metadata": {},
   "source": [
    "### Basic Concepts\n",
    "\n",
    "**Valence bond (VB) theory** assumes that the electrons in a molecule occupy atomic orbitals of the individual atoms. \n",
    "\n",
    "**Molecular orbital (MO) theory**, assumes the formation of molecular orbitals from the atomic orbitals.\n",
    "\n",
    "Valence bond theory: When the two atoms are far apart, there is no interaction. We say that the potential energy of this system (that is, the two H atoms) is zero. As the atoms approach each other, each electron is attracted by the nucleus of the other atom; at the same time, the electrons repel each other, as do the nuclei. While the atoms are still separated, attraction is stronger than repulsion, so that the potential energy of the system decreases (that is, it becomes negative) as the atoms approach each other. This trend continues until the potential energy reaches a minimum value. At this point, when the system has the lowest potential energy, it is most stable. This condition corresponds to substantial overlap of the $1s$ orbitals and the formation of a stable $\\ce{H2}$ molecule. If the distance between nuclei were to decrease further, the potential energy would rise steeply and finally become positive as a result of the increased electron-electron and nuclear-nuclear repulsions. In accord with the law of conservation of energy, the decrease in potential energy as a result of $\\ce{H2}$ formation must be accompanied by a release of energy. The converse is also true. To break a $\\ce{H-H}$ bond, energy must be supplied to the molecule. \n",
    "\n",
    "The concept of overlapping atomic orbitals applies equally well to diatomic molecules other than $\\ce{H2}$. Thus, a stable $\\ce{F2}$ molecule forms when the $2p$ orbitals (containing the unpaired electrons) in the two $\\ce{F}$ atoms overlap to form a covalent bond. Similarly, the formation of the $\\ce{HF}$ molecule can be explained by the overlap of the $1s$ orbital in $\\ce{H}$ with the $2p$ orbital in $\\ce{F}$. In each case, valence bond theory accounts for the changes in potential energy as the distance between the reacting atoms changes. Because the orbitals involved are not the same kind in all cases, we can see why the bond enthalpies and bond lengths in $\\ce{H2}$, $\\ce{F2}$, and $\\ce{HF}$ might be different. "
   ]
  },
  {
   "cell_type": "markdown",
   "metadata": {},
   "source": [
    "### 3.2. Hybridization of Atomic Orbitals\n",
    "\n",
    "**Hybrid orbitals** are atomic orbitals obtained when two or more nonequivalent orbitals of the same atom combine in preparation for covalent bond formation. Hybridization is the term applied to the mixing of atomic orbitals in an atom (usually a central atom) to generate a set of hybrid orbitals. \n",
    "\n",
    "#### $sp^3$ hybridization. \n",
    "\n",
    "Example $\\ce{CH4}$.\n",
    "\n",
    "C has a pair of $2s$ electrons and two unpaired $2p$ electrons. \n",
    "\n",
    "\n",
    "When forming coumponds with 4 single bonds, one of the $2s$ electron would be promoted to the empty $2p$ orbital. \n",
    "\n",
    "\n",
    "Then, the $2s$ and $2p$ orbitals mix to four identical $sp^3$ orbitals. By accepting four other electrons from other atoms, four identical single bonds would be formed. \n",
    "\n",
    "\n",
    "<img src=\"https://cnx.org/resources/72f8b46e3e4a5404e3fd9c32ff7deb54ef97dfa3\" />\n",
    "\n",
    "<img src=\"https://cnx.org/resources/fb840ba4dfbbde49946be3f2ce20591475770f2b\" />\n",
    "\n",
    "Example $\\ce{NH3}$\n",
    "\n",
    "\n",
    "#### $sp$ hybridization. \n",
    "\n",
    "Example $\\ce{BeCl2}$\n",
    "\n",
    "<img src=\"https://cnx.org/resources/a8dc468b76628efa37d401b79c5ce325faeb92b6\" />\n",
    "\n",
    "<img src=\"https://cnx.org/resources/67536a85ccdd666a2051f3808ef9334b706fae79\" />\n",
    "\n",
    "#### $sp^2$ hybridization\n",
    "\n",
    "Example $\\ce{BF3}$\n",
    "\n",
    "<img src=\"https://cnx.org/resources/1e560523dbe34df752953f254f18f9d559ad46f5\" />"
   ]
  },
  {
   "cell_type": "markdown",
   "metadata": {},
   "source": [
    "### 3.3. Hybridization in Molecules Containing Double and Triple Bonds\n",
    "\n",
    "Example $\\ce{CH2=CH2}$\n",
    "\n",
    "We assume that only the $2p_x$ and $2p_y$ orbitals combine with the $2s$ orbital, and that the $2p_z$ orbital remains unchanged. Each carbon atom uses the three $sp^2$ hybrid orbitals to form two bonds with the two hydrogen $1s$ orbitals and one bond with the $sp^2$ hybrid orbital of the adjacent C atom. In addition, the two unhybridized $2p_z$ orbitals of the C atoms form another bond by overlapping sideways. \n",
    "\n",
    "<img src=\"https://cnx.org/resources/b4b07dc09356d11bd68da53cd2096bc2e7e70664\" />\n",
    "\n",
    "<img src=\"https://cnx.org/resources/fb8f27e65f4e47bc6e29ddef0f125d85c84894e9\" />\n",
    "\n",
    "The three bonds formed by each C atom are all **sigma bonds ($\\sigma$ bonds)**, covalent bonds formed by orbitals overlapping end-to-end, with the electron density concentrated between the nuclei of the bonding atoms. The second type is called a **pi bond ($\\pi$ bond)**, which is defined as a covalent bond formed by sideways overlapping orbitals with electron density concentrated above and below the plane of the nuclei of the bonding atoms.\n",
    "\n",
    "Example $\\ce{CH#CH}$\n",
    "\n",
    "Each C atom is $sp$-hybridized by mixing the $2s$ with the $2p_x$ orbital. The two $sp$ hybrid orbitals of each C atom form one $\\sigma$ bond with a hydrogen $1s$ orbital and another $\\sigma$ bond with the other C atom. In addition, two $\\pi$ bonds are formed by the sideways overlap of the unhybridized $2p_y$ and $2p_z$ orbitals. Thus, the $\\ce{C#C}$ bond is made up of one $\\sigma$ bond and two $\\pi$ bonds.\n",
    "\n",
    "<img src=\"https://cnx.org/resources/b75509ed450a3d2727f65f9b83df9a01cf52f7ae\" />\n",
    "\n",
    "<img src=\"https://cnx.org/resources/c31eb58ac87c198317e3cbb310a9e1cafa6d421c\" />\n",
    "\n",
    "The following rule helps us predict hybridization in molecules containing multiple bonds: If the central atom forms a double bond, it is $sp^2$-hybridized; if it forms two double bonds or a triple bond, it is $sp$-hybridized. Note that this rule applies only to atoms of the second-period elements. "
   ]
  },
  {
   "cell_type": "markdown",
   "metadata": {},
   "source": [
    "> #### Requirements \n",
    "> 1. Understand valence bond theory.\n",
    "> 2. Remember examples of $sp$, $sp^2$, $sp^3$ hybridization.\n",
    "> 3. Pay attention on $\\ce{CH4}$, $\\ce{CH2=CH2}$, $\\ce{CH#CH}$. Understand $\\sigma$ bonds and $\\pi$ bonds. "
   ]
  },
  {
   "cell_type": "markdown",
   "metadata": {},
   "source": [
    "<div class=practice>\n",
    "\n",
    "    \n",
    "<b>Practice:</b> <br>\n",
    "    \n",
    "1. Give the number of lone pairs around the central atom and the molecular geometry of $\\ce{CBr4}$. <br><br>\n",
    "\n",
    "2. Give the number of lone pairs around the central atom and the molecular geometry of $\\ce{SO2}$. <br><br>\n",
    "\n",
    "3. Which of the following substances is/are bent? (i) $\\ce{H2S}$; (ii) $\\ce{CO2}$; (iii) $\\ce{ClNO}$; (iv) $\\ce{NH2^-}$; (v) $\\ce{O3}$?<br><br>    \n",
    "\n",
    "4. Which of the following molecules is polar?  <br>  \n",
    "\n",
    "(A) $\\ce{BeCl2}$<br>\n",
    "(B) $\\ce{Br2}$<br>\n",
    "(C) $\\ce{BF3}$<br>\n",
    "(D) $\\ce{IBr}$<br>\n",
    "(E) $\\ce{CO2}$<br><br>\n",
    "\n",
    "5. Which of the following species has the largest dipole moment (i.e., is the most polar)?<br>\n",
    "\n",
    "(A) $\\ce{CH4}$<br>\n",
    "(B) $\\ce{CH3Br}$<br>\n",
    "(C) $\\ce{CH3Cl}$<br>\n",
    "(D) $\\ce{CH3F}$<br>\n",
    "(E) $\\ce{CH3I}$<br><br>\n",
    "\n",
    "6. Predict the molecular geometry and polarity of the $\\ce{CO2}$ molecule.<br><br>\n",
    "\n",
    "7. Indicate the type of hybrid orbitals used by the central atom in $\\ce{PCl3}$.<br><br>    \n",
    "    \n",
    "8. N,N-diethyl-m-tolumide (DEET) is the active ingredient in many mosquito repellents. What is the hybridization state of the carbon in DEET molecule that bonded to an oxygen atom, i.e., $\\ce{C=O}$? The structure of DEET is shown below. <br><br>\n",
    "\n",
    "9. What is the number of $\\pi$ bonds in the molecule shown below?<br><br>\n",
    "\n",
    "10. What is the number of $\\sigma$ bonds in the molecule shown below?<br><br>    \n",
    "    \n",
    "</div>    "
   ]
  },
  {
   "cell_type": "code",
   "execution_count": 17,
   "metadata": {},
   "outputs": [],
   "source": [
    "from rdkit import Chem\n",
    "from rdkit.Chem import Draw\n",
    "from rdkit.Chem.Draw import IPythonConsole\n",
    "from rdkit.Chem.Draw.MolDrawing import MolDrawing, DrawingOptions\n",
    "#DrawingOptions.bondLineWidth=1\n",
    "#DrawingOptions.atomLabelFontSize = 16\n",
    "IPythonConsole.ipython_useSVG = True"
   ]
  },
  {
   "cell_type": "markdown",
   "metadata": {},
   "source": [
    "(For practice question 8) The structure of DEET:"
   ]
  },
  {
   "cell_type": "code",
   "execution_count": 21,
   "metadata": {},
   "outputs": [
    {
     "data": {
      "image/png": "[encoded data removed]",
      "image/svg+xml": [
       "<?xml version='1.0' encoding='iso-8859-1'?>\n",
       "<svg version='1.1' baseProfile='full'\n",
       "              xmlns='http://www.w3.org/2000/svg'\n",
       "                      xmlns:rdkit='http://www.rdkit.org/xml'\n",
       "                      xmlns:xlink='http://www.w3.org/1999/xlink'\n",
       "                  xml:space='preserve'\n",
       "width='300px' height='200px' viewBox='0 0 300 200'>\n",
       "<!-- END OF HEADER -->\n",
       "<rect style='opacity:1.0;fill:#FFFFFF;stroke:none' width='300' height='200' x='0' y='0'> </rect>\n",
       "<path class='bond-0' d='M 138.655,166.683 L 139.387,152.674' style='fill:none;fill-rule:evenodd;stroke:#FF0000;stroke-width:2px;stroke-linecap:butt;stroke-linejoin:miter;stroke-opacity:1' />\n",
       "<path class='bond-0' d='M 139.387,152.674 L 140.12,138.666' style='fill:none;fill-rule:evenodd;stroke:#000000;stroke-width:2px;stroke-linecap:butt;stroke-linejoin:miter;stroke-opacity:1' />\n",
       "<path class='bond-0' d='M 131.929,166.331 L 132.661,152.322' style='fill:none;fill-rule:evenodd;stroke:#FF0000;stroke-width:2px;stroke-linecap:butt;stroke-linejoin:miter;stroke-opacity:1' />\n",
       "<path class='bond-0' d='M 132.661,152.322 L 133.394,138.314' style='fill:none;fill-rule:evenodd;stroke:#000000;stroke-width:2px;stroke-linecap:butt;stroke-linejoin:miter;stroke-opacity:1' />\n",
       "<path class='bond-1' d='M 136.757,138.49 L 166.761,123.198' style='fill:none;fill-rule:evenodd;stroke:#000000;stroke-width:2px;stroke-linecap:butt;stroke-linejoin:miter;stroke-opacity:1' />\n",
       "<path class='bond-8' d='M 136.757,138.49 L 125.067,130.9' style='fill:none;fill-rule:evenodd;stroke:#000000;stroke-width:2px;stroke-linecap:butt;stroke-linejoin:miter;stroke-opacity:1' />\n",
       "<path class='bond-8' d='M 125.067,130.9 L 113.377,123.31' style='fill:none;fill-rule:evenodd;stroke:#0000FF;stroke-width:2px;stroke-linecap:butt;stroke-linejoin:miter;stroke-opacity:1' />\n",
       "<path class='bond-2' d='M 166.761,123.198 L 195.006,141.537' style='fill:none;fill-rule:evenodd;stroke:#000000;stroke-width:2px;stroke-linecap:butt;stroke-linejoin:miter;stroke-opacity:1' />\n",
       "<path class='bond-2' d='M 174.665,120.3 L 194.437,133.137' style='fill:none;fill-rule:evenodd;stroke:#000000;stroke-width:2px;stroke-linecap:butt;stroke-linejoin:miter;stroke-opacity:1' />\n",
       "<path class='bond-13' d='M 166.761,123.198 L 168.52,89.5684' style='fill:none;fill-rule:evenodd;stroke:#000000;stroke-width:2px;stroke-linecap:butt;stroke-linejoin:miter;stroke-opacity:1' />\n",
       "<path class='bond-3' d='M 195.006,141.537 L 225.01,126.245' style='fill:none;fill-rule:evenodd;stroke:#000000;stroke-width:2px;stroke-linecap:butt;stroke-linejoin:miter;stroke-opacity:1' />\n",
       "<path class='bond-14' d='M 195.006,141.537 L 193.54,169.554' style='fill:none;fill-rule:evenodd;stroke:#000000;stroke-width:2px;stroke-linecap:butt;stroke-linejoin:miter;stroke-opacity:1' />\n",
       "<path class='bond-4' d='M 225.01,126.245 L 226.769,92.6153' style='fill:none;fill-rule:evenodd;stroke:#000000;stroke-width:2px;stroke-linecap:butt;stroke-linejoin:miter;stroke-opacity:1' />\n",
       "<path class='bond-4' d='M 218.547,120.849 L 219.779,97.3079' style='fill:none;fill-rule:evenodd;stroke:#000000;stroke-width:2px;stroke-linecap:butt;stroke-linejoin:miter;stroke-opacity:1' />\n",
       "<path class='bond-7' d='M 225.01,126.245 L 253.254,144.583' style='fill:none;fill-rule:evenodd;stroke:#000000;stroke-width:2px;stroke-linecap:butt;stroke-linejoin:miter;stroke-opacity:1' />\n",
       "<path class='bond-5' d='M 226.769,92.6153 L 198.524,74.277' style='fill:none;fill-rule:evenodd;stroke:#000000;stroke-width:2px;stroke-linecap:butt;stroke-linejoin:miter;stroke-opacity:1' />\n",
       "<path class='bond-15' d='M 226.769,92.6153 L 251.908,79.8032' style='fill:none;fill-rule:evenodd;stroke:#000000;stroke-width:2px;stroke-linecap:butt;stroke-linejoin:miter;stroke-opacity:1' />\n",
       "<path class='bond-6' d='M 198.524,74.277 L 168.52,89.5684' style='fill:none;fill-rule:evenodd;stroke:#000000;stroke-width:2px;stroke-linecap:butt;stroke-linejoin:miter;stroke-opacity:1' />\n",
       "<path class='bond-6' d='M 197.082,82.5714 L 176.079,93.2755' style='fill:none;fill-rule:evenodd;stroke:#000000;stroke-width:2px;stroke-linecap:butt;stroke-linejoin:miter;stroke-opacity:1' />\n",
       "<path class='bond-16' d='M 198.524,74.277 L 199.989,46.2598' style='fill:none;fill-rule:evenodd;stroke:#000000;stroke-width:2px;stroke-linecap:butt;stroke-linejoin:miter;stroke-opacity:1' />\n",
       "<path class='bond-17' d='M 168.52,89.5684 L 156.641,76.831' style='fill:none;fill-rule:evenodd;stroke:#000000;stroke-width:2px;stroke-linecap:butt;stroke-linejoin:miter;stroke-opacity:1' />\n",
       "<path class='bond-18' d='M 253.254,144.583 L 276.634,159.763' style='fill:none;fill-rule:evenodd;stroke:#000000;stroke-width:2px;stroke-linecap:butt;stroke-linejoin:miter;stroke-opacity:1' />\n",
       "<path class='bond-19' d='M 253.254,144.583 L 267.948,121.951' style='fill:none;fill-rule:evenodd;stroke:#000000;stroke-width:2px;stroke-linecap:butt;stroke-linejoin:miter;stroke-opacity:1' />\n",
       "<path class='bond-20' d='M 253.254,144.583 L 238.56,167.215' style='fill:none;fill-rule:evenodd;stroke:#000000;stroke-width:2px;stroke-linecap:butt;stroke-linejoin:miter;stroke-opacity:1' />\n",
       "<path class='bond-9' d='M 103.648,122.631 L 91.0783,129.037' style='fill:none;fill-rule:evenodd;stroke:#0000FF;stroke-width:2px;stroke-linecap:butt;stroke-linejoin:miter;stroke-opacity:1' />\n",
       "<path class='bond-9' d='M 91.0783,129.037 L 78.5087,135.443' style='fill:none;fill-rule:evenodd;stroke:#000000;stroke-width:2px;stroke-linecap:butt;stroke-linejoin:miter;stroke-opacity:1' />\n",
       "<path class='bond-11' d='M 108.806,114.539 L 109.539,100.53' style='fill:none;fill-rule:evenodd;stroke:#0000FF;stroke-width:2px;stroke-linecap:butt;stroke-linejoin:miter;stroke-opacity:1' />\n",
       "<path class='bond-11' d='M 109.539,100.53 L 110.272,86.5215' style='fill:none;fill-rule:evenodd;stroke:#000000;stroke-width:2px;stroke-linecap:butt;stroke-linejoin:miter;stroke-opacity:1' />\n",
       "<path class='bond-10' d='M 78.5087,135.443 L 48.5049,150.734' style='fill:none;fill-rule:evenodd;stroke:#000000;stroke-width:2px;stroke-linecap:butt;stroke-linejoin:miter;stroke-opacity:1' />\n",
       "<path class='bond-21' d='M 78.5087,135.443 L 90.9397,159.834' style='fill:none;fill-rule:evenodd;stroke:#000000;stroke-width:2px;stroke-linecap:butt;stroke-linejoin:miter;stroke-opacity:1' />\n",
       "<path class='bond-22' d='M 78.5087,135.443 L 66.0777,111.052' style='fill:none;fill-rule:evenodd;stroke:#000000;stroke-width:2px;stroke-linecap:butt;stroke-linejoin:miter;stroke-opacity:1' />\n",
       "<path class='bond-23' d='M 48.5049,150.734 L 23.3658,163.546' style='fill:none;fill-rule:evenodd;stroke:#000000;stroke-width:2px;stroke-linecap:butt;stroke-linejoin:miter;stroke-opacity:1' />\n",
       "<path class='bond-24' d='M 48.5049,150.734 L 60.9359,175.125' style='fill:none;fill-rule:evenodd;stroke:#000000;stroke-width:2px;stroke-linecap:butt;stroke-linejoin:miter;stroke-opacity:1' />\n",
       "<path class='bond-25' d='M 48.5049,150.734 L 36.0739,126.343' style='fill:none;fill-rule:evenodd;stroke:#000000;stroke-width:2px;stroke-linecap:butt;stroke-linejoin:miter;stroke-opacity:1' />\n",
       "<path class='bond-12' d='M 110.272,86.5215 L 112.031,52.8917' style='fill:none;fill-rule:evenodd;stroke:#000000;stroke-width:2px;stroke-linecap:butt;stroke-linejoin:miter;stroke-opacity:1' />\n",
       "<path class='bond-26' d='M 110.272,86.5215 L 129.897,85.1467' style='fill:none;fill-rule:evenodd;stroke:#000000;stroke-width:2px;stroke-linecap:butt;stroke-linejoin:miter;stroke-opacity:1' />\n",
       "<path class='bond-27' d='M 110.272,86.5215 L 81.5066,85.0169' style='fill:none;fill-rule:evenodd;stroke:#000000;stroke-width:2px;stroke-linecap:butt;stroke-linejoin:miter;stroke-opacity:1' />\n",
       "<path class='bond-28' d='M 112.031,52.8917 L 113.496,24.8746' style='fill:none;fill-rule:evenodd;stroke:#000000;stroke-width:2px;stroke-linecap:butt;stroke-linejoin:miter;stroke-opacity:1' />\n",
       "<path class='bond-29' d='M 112.031,52.8917 L 83.2657,51.3871' style='fill:none;fill-rule:evenodd;stroke:#000000;stroke-width:2px;stroke-linecap:butt;stroke-linejoin:miter;stroke-opacity:1' />\n",
       "<path class='bond-30' d='M 112.031,52.8917 L 140.759,50.8792' style='fill:none;fill-rule:evenodd;stroke:#000000;stroke-width:2px;stroke-linecap:butt;stroke-linejoin:miter;stroke-opacity:1' />\n",
       "<text dominant-baseline=\"central\" text-anchor=\"start\" x='130.879' y='173.803' style='font-size:11px;font-style:normal;font-weight:normal;fill-opacity:1;stroke:none;font-family:sans-serif;fill:#FF0000' ><tspan>O</tspan></text>\n",
       "<text dominant-baseline=\"central\" text-anchor=\"middle\" x='108.513' y='121.835' style='font-size:11px;font-style:normal;font-weight:normal;fill-opacity:1;stroke:none;font-family:sans-serif;fill:#0000FF' ><tspan>N</tspan></text>\n",
       "<text dominant-baseline=\"central\" text-anchor=\"start\" x='189.504' y='176.85' style='font-size:11px;font-style:normal;font-weight:normal;fill-opacity:1;stroke:none;font-family:sans-serif;fill:#000000' ><tspan>H</tspan></text>\n",
       "<text dominant-baseline=\"central\" text-anchor=\"start\" x='253.03' y='79.0076' style='font-size:11px;font-style:normal;font-weight:normal;fill-opacity:1;stroke:none;font-family:sans-serif;fill:#000000' ><tspan>H</tspan></text>\n",
       "<text dominant-baseline=\"central\" text-anchor=\"start\" x='196.541' y='42.331' style='font-size:11px;font-style:normal;font-weight:normal;fill-opacity:1;stroke:none;font-family:sans-serif;fill:#000000' ><tspan>H</tspan></text>\n",
       "<text dominant-baseline=\"central\" text-anchor=\"end\" x='155.519' y='73.2985' style='font-size:11px;font-style:normal;font-weight:normal;fill-opacity:1;stroke:none;font-family:sans-serif;fill:#000000' ><tspan>H</tspan></text>\n",
       "<text dominant-baseline=\"central\" text-anchor=\"start\" x='277.757' y='164.606' style='font-size:11px;font-style:normal;font-weight:normal;fill-opacity:1;stroke:none;font-family:sans-serif;fill:#000000' ><tspan>H</tspan></text>\n",
       "<text dominant-baseline=\"central\" text-anchor=\"start\" x='267.85' y='118.023' style='font-size:11px;font-style:normal;font-weight:normal;fill-opacity:1;stroke:none;font-family:sans-serif;fill:#000000' ><tspan>H</tspan></text>\n",
       "<text dominant-baseline=\"central\" text-anchor=\"end\" x='238.658' y='174.512' style='font-size:11px;font-style:normal;font-weight:normal;fill-opacity:1;stroke:none;font-family:sans-serif;fill:#000000' ><tspan>H</tspan></text>\n",
       "<text dominant-baseline=\"central\" text-anchor=\"start\" x='90.058' y='167.13' style='font-size:11px;font-style:normal;font-weight:normal;fill-opacity:1;stroke:none;font-family:sans-serif;fill:#000000' ><tspan>H</tspan></text>\n",
       "<text dominant-baseline=\"central\" text-anchor=\"end\" x='66.9595' y='107.123' style='font-size:11px;font-style:normal;font-weight:normal;fill-opacity:1;stroke:none;font-family:sans-serif;fill:#000000' ><tspan>H</tspan></text>\n",
       "<text dominant-baseline=\"central\" text-anchor=\"end\" x='22.2433' y='167.709' style='font-size:11px;font-style:normal;font-weight:normal;fill-opacity:1;stroke:none;font-family:sans-serif;fill:#000000' ><tspan>H</tspan></text>\n",
       "<text dominant-baseline=\"central\" text-anchor=\"start\" x='60.0542' y='182.422' style='font-size:11px;font-style:normal;font-weight:normal;fill-opacity:1;stroke:none;font-family:sans-serif;fill:#000000' ><tspan>H</tspan></text>\n",
       "<text dominant-baseline=\"central\" text-anchor=\"end\" x='36.9556' y='122.414' style='font-size:11px;font-style:normal;font-weight:normal;fill-opacity:1;stroke:none;font-family:sans-serif;fill:#000000' ><tspan>H</tspan></text>\n",
       "<text dominant-baseline=\"central\" text-anchor=\"start\" x='131.019' y='86.4897' style='font-size:11px;font-style:normal;font-weight:normal;fill-opacity:1;stroke:none;font-family:sans-serif;fill:#000000' ><tspan>H</tspan></text>\n",
       "<text dominant-baseline=\"central\" text-anchor=\"end\" x='80.384' y='86.4462' style='font-size:11px;font-style:normal;font-weight:normal;fill-opacity:1;stroke:none;font-family:sans-serif;fill:#000000' ><tspan>H</tspan></text>\n",
       "<text dominant-baseline=\"central\" text-anchor=\"start\" x='110.048' y='20.9457' style='font-size:11px;font-style:normal;font-weight:normal;fill-opacity:1;stroke:none;font-family:sans-serif;fill:#000000' ><tspan>H</tspan></text>\n",
       "<text dominant-baseline=\"central\" text-anchor=\"end\" x='82.1432' y='52.8164' style='font-size:11px;font-style:normal;font-weight:normal;fill-opacity:1;stroke:none;font-family:sans-serif;fill:#000000' ><tspan>H</tspan></text>\n",
       "<text dominant-baseline=\"central\" text-anchor=\"start\" x='141.882' y='52.2222' style='font-size:11px;font-style:normal;font-weight:normal;fill-opacity:1;stroke:none;font-family:sans-serif;fill:#000000' ><tspan>H</tspan></text>\n",
       "</svg>\n"
      ],
      "text/plain": [
       "<rdkit.Chem.rdchem.Mol at 0x22aec43d670>"
      ]
     },
     "execution_count": 21,
     "metadata": {},
     "output_type": "execute_result"
    }
   ],
   "source": [
    "IPythonConsole.molSize = (300, 200)\n",
    "m = Chem.MolFromSmiles('O=C(c1cc(ccc1)C)N(CC)CC')\n",
    "m = Chem.AddHs(m)\n",
    "m"
   ]
  },
  {
   "cell_type": "markdown",
   "metadata": {},
   "source": [
    "(For practice questions 9 and 10) The structure of the compound: "
   ]
  },
  {
   "cell_type": "code",
   "execution_count": 19,
   "metadata": {},
   "outputs": [
    {
     "data": {
      "image/png": "[encoded data removed]",
      "image/svg+xml": [
       "<?xml version='1.0' encoding='iso-8859-1'?>\n",
       "<svg version='1.1' baseProfile='full'\n",
       "              xmlns='http://www.w3.org/2000/svg'\n",
       "                      xmlns:rdkit='http://www.rdkit.org/xml'\n",
       "                      xmlns:xlink='http://www.w3.org/1999/xlink'\n",
       "                  xml:space='preserve'\n",
       "width='300px' height='200px' viewBox='0 0 300 200'>\n",
       "<!-- END OF HEADER -->\n",
       "<rect style='opacity:1.0;fill:#FFFFFF;stroke:none' width='300' height='200' x='0' y='0'> </rect>\n",
       "<path class='bond-0' d='M 48.255,120.17 L 72.7416,111.041' style='fill:none;fill-rule:evenodd;stroke:#0000FF;stroke-width:2px;stroke-linecap:butt;stroke-linejoin:miter;stroke-opacity:1' />\n",
       "<path class='bond-0' d='M 72.7416,111.041 L 97.2282,101.912' style='fill:none;fill-rule:evenodd;stroke:#000000;stroke-width:2px;stroke-linecap:butt;stroke-linejoin:miter;stroke-opacity:1' />\n",
       "<path class='bond-0' d='M 52.5723,131.75 L 73.3859,123.99' style='fill:none;fill-rule:evenodd;stroke:#0000FF;stroke-width:2px;stroke-linecap:butt;stroke-linejoin:miter;stroke-opacity:1' />\n",
       "<path class='bond-0' d='M 73.3859,123.99 L 94.1995,116.23' style='fill:none;fill-rule:evenodd;stroke:#000000;stroke-width:2px;stroke-linecap:butt;stroke-linejoin:miter;stroke-opacity:1' />\n",
       "<path class='bond-0' d='M 43.9378,108.59 L 64.7513,100.83' style='fill:none;fill-rule:evenodd;stroke:#0000FF;stroke-width:2px;stroke-linecap:butt;stroke-linejoin:miter;stroke-opacity:1' />\n",
       "<path class='bond-0' d='M 64.7513,100.83 L 85.5649,93.0706' style='fill:none;fill-rule:evenodd;stroke:#000000;stroke-width:2px;stroke-linecap:butt;stroke-linejoin:miter;stroke-opacity:1' />\n",
       "<path class='bond-1' d='M 97.2282,101.912 L 155.128,80.3254' style='fill:none;fill-rule:evenodd;stroke:#000000;stroke-width:2px;stroke-linecap:butt;stroke-linejoin:miter;stroke-opacity:1' />\n",
       "<path class='bond-2' d='M 155.128,80.3254 L 202.772,119.675' style='fill:none;fill-rule:evenodd;stroke:#000000;stroke-width:2px;stroke-linecap:butt;stroke-linejoin:miter;stroke-opacity:1' />\n",
       "<path class='bond-2' d='M 154.404,95.7566 L 187.755,123.301' style='fill:none;fill-rule:evenodd;stroke:#000000;stroke-width:2px;stroke-linecap:butt;stroke-linejoin:miter;stroke-opacity:1' />\n",
       "<path class='bond-3' d='M 155.128,80.3254 L 163.65,29.6885' style='fill:none;fill-rule:evenodd;stroke:#000000;stroke-width:2px;stroke-linecap:butt;stroke-linejoin:miter;stroke-opacity:1' />\n",
       "<path class='bond-4' d='M 202.772,119.675 L 251.745,101.416' style='fill:none;fill-rule:evenodd;stroke:#000000;stroke-width:2px;stroke-linecap:butt;stroke-linejoin:miter;stroke-opacity:1' />\n",
       "<path class='bond-5' d='M 202.772,119.675 L 194.25,170.312' style='fill:none;fill-rule:evenodd;stroke:#000000;stroke-width:2px;stroke-linecap:butt;stroke-linejoin:miter;stroke-opacity:1' />\n",
       "<text dominant-baseline=\"central\" text-anchor=\"end\" x='46.1953' y='126.588' style='font-size:20px;font-style:normal;font-weight:normal;fill-opacity:1;stroke:none;font-family:sans-serif;fill:#0000FF' ><tspan>N</tspan></text>\n",
       "<text dominant-baseline=\"central\" text-anchor=\"start\" x='158.516' y='22.4793' style='font-size:20px;font-style:normal;font-weight:normal;fill-opacity:1;stroke:none;font-family:sans-serif;fill:#000000' ><tspan>H</tspan></text>\n",
       "<text dominant-baseline=\"central\" text-anchor=\"start\" x='253.805' y='101.178' style='font-size:20px;font-style:normal;font-weight:normal;fill-opacity:1;stroke:none;font-family:sans-serif;fill:#000000' ><tspan>H</tspan></text>\n",
       "<text dominant-baseline=\"central\" text-anchor=\"start\" x='185.65' y='183.7' style='font-size:20px;font-style:normal;font-weight:normal;fill-opacity:1;stroke:none;font-family:sans-serif;fill:#000000' ><tspan>H</tspan></text>\n",
       "</svg>\n"
      ],
      "text/plain": [
       "<rdkit.Chem.rdchem.Mol at 0x22aec43d030>"
      ]
     },
     "execution_count": 19,
     "metadata": {},
     "output_type": "execute_result"
    }
   ],
   "source": [
    "IPythonConsole.molSize = (300, 200)\n",
    "m = Chem.MolFromSmiles('N#CC=C')\n",
    "m = Chem.AddHs(m)\n",
    "m"
   ]
  },
  {
   "cell_type": "markdown",
   "metadata": {
    "collapsed": true
   },
   "source": [
    "----"
   ]
  },
  {
   "cell_type": "raw",
   "metadata": {},
   "source": [
    "Please ignore the cell below. It just loads our style for the notebook."
   ]
  },
  {
   "cell_type": "code",
   "execution_count": 1,
   "metadata": {},
   "outputs": [
    {
     "data": {
      "text/html": [
       "<link href=\"https://fonts.googleapis.com/css?family=Lora:400,400i,700,700i|Open+Sans:400,400i|Raleway:400,400i,700,700i\" rel=\"stylesheet\" type='text/css'>\n",
       "<style  type=\"text/css\">\n",
       "div.text_cell_render {\n",
       "\tfont-family: Lora, serif;\n",
       "\tcolor: #222222;\n",
       "}\n",
       ".text_cell_render p {\n",
       "\tpadding-left: 1.5em;\n",
       "\ttext-align: justify;\n",
       "}\n",
       ".text_cell_render h3, h4, h6 {\n",
       "\tfont-family: Raleway, sans-serif;\n",
       "\tcolor: #005c99;\n",
       "}\n",
       ".text_cell_render h1 {\n",
       "\tfont-family: \"Open Sans\", sans-serif;\n",
       "\tfont-weight: 700;\n",
       "\tmargin: auto;\n",
       "\tdisplay: block;\n",
       "}\n",
       ".text_cell_render h2 {\n",
       "\tfont-family: Raleway, sans-serif;\n",
       "\tfont-weight: 700; \n",
       "\tmargin-top: 50px;\n",
       "\tdisplay:inline-block;\n",
       "\tpadding: 10px 15px;\n",
       "\tbackground-color: #007acc;\n",
       "\tcolor: #f8f8f8;\n",
       "\tborder-radius: 10px 40px 10px 40px;\n",
       "\tletter-spacing: 3px;\n",
       "\tfont-variant: small-caps;\n",
       "}\n",
       ".text_cell_render h5 {\n",
       "\tfont-family: \"Open Sans\", sans-serif;\n",
       "\tfont-weight: 400;\n",
       "\tborder-style: groove;\n",
       "\tpadding:0.5em 0.5em 0.5em 0.5em;\n",
       "\tmargin: 1em 0 1em 0;\n",
       "\tline-height: 1.6;\n",
       "}\n",
       "div #notebook {\n",
       "\tbackground-color: #f8f8f8;\n",
       "\twidth: 1110px;\t\n",
       "\tmargin: auto;\n",
       "\tpadding-left: 0em;\n",
       "\tborder: 3px solid #cbd3e5; \n",
       "\tbox-shadow: 0px 0px 7px 1px #cccccc;\n",
       "}\n",
       "div.example {\n",
       "    background-color:#007acc;\n",
       "    color: #ffffff;\n",
       "    margin: auto;\n",
       "    width: 100%; \n",
       "\tpadding: 1.4em; \n",
       "\tborder: 3px solid #007acc; \n",
       "\tborder-radius: 10px; \n",
       "\tmargin-bottom: 14px; \n",
       "\tmargin-top: 14px;  \n",
       "\tbox-shadow: 7px 7px 5px #cccccc; \n",
       "\toverflow: hidden;\n",
       "}\n",
       "div.practice {\n",
       "    background-color:#fbfbfb;\n",
       "    color: #007acc;\n",
       "    margin: auto;\n",
       "    width: 100%; \n",
       "\tpadding: 1.4em; \n",
       "\tborder: 3px solid #eeeeee; \n",
       "\tborder-radius: 10px; \n",
       "\tmargin-bottom: 14px; \n",
       "\tmargin-top: 14px;  \n",
       "\tbox-shadow: 7px 7px 5px #cccccc; \n",
       "\toverflow: hidden;\n",
       "}\n",
       "div #notebook-container {\n",
       "\tbackground-color: #ffffff;\n",
       "\tfont-size: 1.5em; \n",
       "\tline-height: 1.6;\n",
       "\twidth: 1100px;\n",
       "\tmargin: auto;\n",
       "\tpadding-right: 150px;\n",
       "}\n",
       ".CodeMirror-code {\n",
       "\tfont-size: 1.2em;\n",
       "\tline-height: 125%;\n",
       "\topacity: 0.9;\n",
       "}\n",
       "\n",
       ".text_cell_render td {\n",
       "    border-style: hidden;\n",
       "}\n",
       ".text_cell_render table {\n",
       "    border-style: hidden;\n",
       "\tborder-collapse: collapse;\n",
       "\twidth: 100%;\n",
       "    font-size: 80%;\n",
       "}\n",
       "\n",
       ".text_cell_render th, td {\n",
       "\tpadding: 8px;\n",
       "}\n",
       "\n",
       ".text_cell_render tr:nth-child(even){background-color: #e8e8e8}\n",
       "\n",
       ".text_cell_render th {\n",
       "    border-style: hidden;\n",
       "\tbackground-color: #004c80;\n",
       "\tcolor: #f8f8f8;\n",
       "}\n",
       "table td, table th, table tr {\n",
       "    text-align:left !important;\n",
       "}\n",
       "</style>"
      ],
      "text/plain": [
       "<IPython.core.display.HTML object>"
      ]
     },
     "execution_count": 1,
     "metadata": {},
     "output_type": "execute_result"
    }
   ],
   "source": [
    "from IPython.core.display import HTML\n",
    "def css_styling():\n",
    "    styles = open(\"custom.css\", \"r\").read()\n",
    "    return HTML(styles)\n",
    "css_styling()"
   ]
  },
  {
   "cell_type": "code",
   "execution_count": null,
   "metadata": {
    "collapsed": true
   },
   "outputs": [],
   "source": []
  }
 ],
 "metadata": {
  "anaconda-cloud": {},
  "kernelspec": {
   "display_name": "Python 3",
   "language": "python",
   "name": "python3"
  },
  "language_info": {
   "codemirror_mode": {
    "name": "ipython",
    "version": 3
   },
   "file_extension": ".py",
   "mimetype": "text/x-python",
   "name": "python",
   "nbconvert_exporter": "python",
   "pygments_lexer": "ipython3",
   "version": "3.7.6"
  }
 },
 "nbformat": 4,
 "nbformat_minor": 1
}
