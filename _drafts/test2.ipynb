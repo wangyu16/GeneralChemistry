{
 "cells": [
  {
   "cell_type": "markdown",
   "id": "47b92a10",
   "metadata": {},
   "source": [
    "This is a test"
   ]
  },
  {
   "cell_type": "code",
   "execution_count": 3,
   "id": "ab710ee1",
   "metadata": {},
   "outputs": [
    {
     "data": {
      "text/html": [
       "<script>\n",
       "  jQuery(document).ready(function($) {  \n",
       "  \n",
       "  $(window).on('load', function(){\n",
       "    $('#preloader').fadeOut('slow',function(){$(this).remove();});\n",
       "  });\n",
       "  \n",
       "  });\n",
       "</script>\n",
       "\n",
       "<style type=\"text/css\">\n",
       "  div#preloader { position: fixed; \n",
       "      left: 0; \n",
       "      top: 0; \n",
       "      z-index: 999; \n",
       "      width: 100%; \n",
       "      height: 100%; \n",
       "      overflow: visible; \n",
       "      background: #fff url('http://preloaders.net/preloaders/720/Moving%20line.gif') no-repeat center center; \n",
       "  }\n",
       "\n",
       "</style>\n",
       "\n",
       "<div id=\"preloader\">\n",
       "\n",
       "</div>\n",
       "\n",
       "<script>\n",
       "  function code_toggle() {\n",
       "    if (code_shown){\n",
       "      $('div.input').hide('500');\n",
       "      $('#toggleButton').val('Show Code')\n",
       "    } else {\n",
       "      $('div.input').show('500');\n",
       "      $('#toggleButton').val('Hide Code')\n",
       "    }\n",
       "    code_shown = !code_shown\n",
       "  } \n",
       "  \n",
       "  $( document ).ready(function(){\n",
       "    code_shown=false; \n",
       "    $('div.input').hide()\n",
       "  });\n",
       "</script>\n",
       "<form action=\"javascript:code_toggle()\"><input type=\"submit\" id=\"toggleButton\" value=\"Show Code\"></form>\n",
       "\n",
       "<script>\n",
       "  $(document).ready(function(){\n",
       "    $('div.prompt').hide();\n",
       "    $('div.back-to-top').hide();\n",
       "    $('nav#menubar').hide();\n",
       "    $('.breadcrumb').hide();\n",
       "    $('.hidden-print').hide();\n",
       "  });\n",
       "</script>\n",
       "\n",
       "<footer id=\"attribution\" style=\"float:right; color:#999; background:#fff;\">\n",
       "Created with Jupyter, delivered by Fastly, rendered by OVHcloud.\n",
       "</footer>"
      ],
      "text/plain": [
       "<IPython.core.display.HTML object>"
      ]
     },
     "execution_count": 3,
     "metadata": {},
     "output_type": "execute_result"
    }
   ],
   "source": [
    "from IPython.core.display import HTML\n",
    "import requests\n",
    "copyright = requests.get(\"https://raw.githubusercontent.com/wangyu16/GeneralChemistry/master/_drafts/hide_code.txt\")\n",
    "HTML(copyright.text)"
   ]
  },
  {
   "cell_type": "code",
   "execution_count": 2,
   "id": "1adcffa5",
   "metadata": {},
   "outputs": [
    {
     "name": "stdout",
     "output_type": "stream",
     "text": [
      "Hello world\n"
     ]
    }
   ],
   "source": [
    "print(\"Hello world\")"
   ]
  },
  {
   "cell_type": "code",
   "execution_count": null,
   "id": "e7989b70",
   "metadata": {},
   "outputs": [],
   "source": []
  }
 ],
 "metadata": {
  "kernelspec": {
   "display_name": "Python 3 (ipykernel)",
   "language": "python",
   "name": "python3"
  },
  "language_info": {
   "codemirror_mode": {
    "name": "ipython",
    "version": 3
   },
   "file_extension": ".py",
   "mimetype": "text/x-python",
   "name": "python",
   "nbconvert_exporter": "python",
   "pygments_lexer": "ipython3",
   "version": "3.8.13"
  }
 },
 "nbformat": 4,
 "nbformat_minor": 5
}
