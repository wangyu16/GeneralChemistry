{
 "cells": [
  {
   "cell_type": "markdown",
   "metadata": {},
   "source": [
    "$$\\require{mhchem}$$\n",
    "\n",
    "### [HOME](https://wangyu16.github.io/GeneralChemistry/)\n",
    "\n",
    "# <center>General Chemistry Study Guide</center>\n",
    "\n",
    "### <center>Chapter 21. Nuclear Chemistry</center>\n",
    "\n",
    "---\n",
    "\n",
    "*<center>Yu Wang</center>*\n",
    "\n",
    "##### <b>OpenStax</b> 21 Neclear Chemistry. <b>Brown</b> 21 Nuclear Chemistry. #####"
   ]
  },
  {
   "cell_type": "markdown",
   "metadata": {
    "collapsed": true
   },
   "source": [
    "## 1. The Nature of Nuclear Reactions \n",
    "\n",
    "**Atomic Number (Z):** The number of protons in nucleus.  \n",
    "**Mass Number (A):** The number of protons and neutrons in nucleus.  \n",
    "An atom X with atomic number Z and mass number A can be expressed as:  \n",
    "$$\\ce{^{A}_{Z}X}$$\n",
    "\n",
    "Two types of nuclear reactions:  \n",
    "* **Radioactivity Decay** is spontaneous decay of unstable nuclei during which process particles and/or electromagnetic radiation are emitted.  \n",
    "* **Nuclear Transmutation** results from the bombardment of nuclei by neutrons, protons, or other nuclei.\n",
    "\n",
    "### Balancing Nuclear Equations\n",
    "\n",
    "1. Mass number conservation; \n",
    "2. Charge conservation. \n",
    "\n",
    "**Comparison of chemical reactions and nuclear reactions**. The most important difference is chemical reactions do not break atoms while nuclear reactions do. \n",
    "\n"
   ]
  },
  {
   "cell_type": "markdown",
   "metadata": {},
   "source": [
    "<div class=example> \n",
    "    \n",
    "<b>Example:</b> The nuclide $\\ce{^{125}_{53}I}$ combines with an electron and produces a new nucleus and no other massive particles. What is the equation for this reaction?<br>\n",
    "\n",
    "<b>Answer:</b> <br>\n",
    "(1) An electron would not change the mass number of the atom, so the mass number of the new atom should be $125+0=125$;  \n",
    "(2) The charge must be balanced before and after the reaction, so the atomic number of the new atom should be $53+(-1)=52$;  \n",
    "(3) The 52nd element is Te.    \n",
    "    \n",
    "\\begin{align*}\n",
    "    \\ce{^{125}_{53}I + ^0_{-1}e -> ^{125}_{52}Te}\n",
    "\\end{align*}    \n",
    "    \n",
    "</div>  "
   ]
  },
  {
   "cell_type": "markdown",
   "metadata": {},
   "source": [
    "<div class=example> \n",
    "    \n",
    "<b>Example:</b> The reaction of an $\\alpha$ particle with magnesium-25 ($\\ce{^{25}_{12}Mg}$) produces a proton and a nuclide of another element. Identify the new nuclide produced.<br>\n",
    "\n",
    "<b>Answer:</b> <br>\n",
    "    \n",
    "\\begin{align*}\n",
    "    \\ce{^{25}_{12}Mg + ^4_2He -> ^1_1H + ^{28}_{13}Al}\n",
    "\\end{align*}    \n",
    "    \n",
    "</div>  "
   ]
  },
  {
   "cell_type": "markdown",
   "metadata": {},
   "source": [
    "### Nuclear Stability\n",
    "\n",
    "1. Certain numbers (2, 8, 20, 50, 82, or 126) of neutrons and protons are more stable than others. \n",
    "2. Nuclei with even numbers of both protons and neutrons are generally more stable than those with odd numbers of these particles. \n",
    "3. All isotopes of the elements with atomic numbers higher than 83 are radioactive. All isotopes of Tc and Pm are radioactive. \n",
    "\n",
    "<img src=\"https://cnx.org/resources/539d41aacd19bbf4b955b70763366c5543851dbd\" width = 500px /> \n",
    "\n",
    "**Nuclear Binding Energy:** The energy required to break up a nucleus into its component protons and neutrons. \n",
    "\n",
    "**Example**\n",
    "$\\ce{^19_9F}$ contains 9 protons, 10 neutrons and 9 electrons. The mass of 9 protons, 10 neutrons and 9 electrons is \n",
    "\n",
    "$$9\\times 1.0073\\,\\text{amu}+10\\times 1.0087\\,\\text{amu}+9\\times0.00055\\text{ amu}=19.15765\\,\\text{amu}$$\n",
    "The mass of a $\\ce{^19_9F}$ atom is $18.9984\\,\\text{amu}$.  \n",
    "The difference in mass is associated with the energy required to break up a nucleus into its component protons and neutrons.  \n",
    "$$E=mc^2$$\n",
    "Thus\n",
    "$$\\Delta E = (\\Delta m)c^2$$\n",
    "In this example, $\\Delta m = -0.15925\\,\\text{amu}$ and $\\Delta E = -2.377\\times 10^{-11}\\,\\text{J}$ per atom. For one mole atoms, $\\Delta E = -1.431\\times 10^{10}\\,\\text{kJ/mol}$. The negative sign means the formation of the atom would release energy to the environment. Some textbooks do not include the negative sign but state the direction of energy flow in words. \n",
    "\n",
    "Since there are 19 nucleons in one atom. The nuclear binding energy per nucleon is $\\Delta E = -2.377\\times 10^{-11}/19 = -1.251\\times 10^{-12}\\,\\text{J}$.\n",
    "\n",
    "In nuclear science, MeV is widely used as the unit for energy. $1\\text{ MeV}=1.602\\times10^{-13}\\text{ J}$. Thus, the binding energy per $\\ce{^19_9F}$ atom is $-148.4\\text{ MeV}$ \n",
    "\n",
    "Nuclei with larger nuclear binding energy per nucleon is more stable. \n",
    "\n",
    "<img src=\"https://cnx.org/resources/1a7839335850995f5ad4630b4557dba8f3fccf60\" width=500px />"
   ]
  },
  {
   "cell_type": "markdown",
   "metadata": {},
   "source": [
    "<div class=example> \n",
    "    \n",
    "<b>Example:</b> Calculate the nuclear binding energy for the nuclide $\\ce{^56_26Fe}$ in (a) J per nucleus; (b) J per mole of nuclei; (c) MeV per nucleus; (d) MeV per nucleon. (The atomic mass of $\\ce{^56_26Fe}$ is 55.9349 amu.)<br>\n",
    "\n",
    "<b>Answer:</b> <br>\n",
    "(a)    \n",
    "\\begin{align*}\n",
    "\\Delta M & = 55.9349\\text{ amu}-26\\times1.0073\\text{ amu}\\\\\n",
    "    & -30\\times1.0087\\text{ amu}-26\\times0.00055\\text{ amu}\\\\\n",
    "    & = 55.9349\\text{ amu} - 56.4651\\text{ amu}\\\\\n",
    "    & = -0.5302\\text{ amu}\\\\\n",
    "\\Delta E & = mc^2\\\\\n",
    "    & = -0.5302\\text{ amu}\\times\\frac{1.6605\\times10^{-27}\\text{ kg}}{1\\text{ amu}}\\times(2.998\\times10^8\\text{ m/s})^2\\\\\n",
    "    & = -7.913\\times10^{-11}\\text{ J}\n",
    "\\end{align*}   \n",
    "(b) \n",
    "\\begin{align*}\n",
    "\\Delta E = -7.913\\times10^{-11}\\text{ J}\\times\\frac{6.02\\times10^{23}}{1\\text{ mol}} = -4.76\\times10^{13}\\text{ J/mol}    \n",
    "\\end{align*}    \n",
    "(c)\n",
    "\\begin{align*}\n",
    "\\Delta E = -7.913\\times10^{-11}\\text{ J}\\times\\frac{1\\text{ MeV}}{1.602\\times10^{-13}\\text{ J}}=-494\\text{ MeV}    \n",
    "\\end{align*}\n",
    "(d)\n",
    "\\begin{align*}\n",
    "\\Delta E\\text{ per nucleon} = \\frac{-494\\text{ MeV}}{56} = -8.82\\text{ MeV/nucleon}   \n",
    "\\end{align*}    \n",
    "</div>  "
   ]
  },
  {
   "cell_type": "markdown",
   "metadata": {},
   "source": [
    "> **Requirements**\n",
    "> 1. Understand the concepts; \n",
    "> 2. Know how to balance a nuclear reaction equation; \n",
    "> 3. Understand what is nuclear binding energy and its correlation with the nuclear stability. "
   ]
  },
  {
   "cell_type": "markdown",
   "metadata": {},
   "source": [
    "## 2. Radioactive Decay\n",
    "\n",
    "**Radioactive Decay:** The process by which the nucleus of an unstable atom loses energy by emitting radiation, including alpha particles, beta particles, gamma rays, and conversion electrons. \n",
    "\n",
    "Types of radioactive decay\n",
    "* Beta decay emits $\\beta$ ray which is a beam of electrons ($\\ce{^0_{-1}\\beta}$ can be written as $\\ce{^0_{-1}e}$);\n",
    "$$\\ce{^14_6C -> ^14_7N + ^0_{-1}\\beta}$$\n",
    "* Positron decay emits positrons which are the  antiparticles or the antimatter counterpart of the electrons ($\\ce{^0_{+1}\\beta}$ can be written as $\\ce{^0_{+1}e}$).\n",
    "$$\\ce{^11_6C -> ^11_5B + ^0_{+1}\\beta}$$\n",
    "* Electron capture decay;\n",
    "$$\\ce{^37_18Ar + ^0_{-1}e -> ^37_17Cl}$$\n",
    "* Alpha decay emits $\\alpha$ ray wichi is a beam of $\\ce{^4_2He}$ nuclei;\n",
    "$$\\ce{^212_84Po -> ^4_2H3 + ^208_82Pb}$$\n",
    "* Spontaneous fission.\n",
    "$$\\ce{^252_98Cf -> 2^125_49In + 2^1_0n}$$\n",
    "\n",
    "### Kinetics of Radioactive Decay\n",
    "\n",
    "**Radiocarbon Dating** \n",
    "Radiocarbon ($\\ce{^14C}$) is constantly being created in the atmosphere by the interaction of cosmic rays with atmospheric nitrogen. The resulting radiocarbon combines with atmospheric oxygen to form radioactive carbon dioxide, which is incorporated into plants by photosynthesis; animals then acquire $\\ce{^14C}$ by eating the plants. When the animal or plant dies, it stops exchanging carbon with its environment, and from that point onwards the amount of $\\ce{^14C}$ it contains begins to decrease as the $\\ce{^14C}$ undergoes radioactive decay. Measuring the amount of $\\ce{^14C}$ in a sample from a dead plant or animal such as a piece of wood or a fragment of bone provides information that can be used to calculate when the animal or plant died. The older a sample is, the less $\\ce{^14C}$ there is to be detected, and because the half-life of $\\ce{^14C}$ is about 5,730 years, the oldest dates that can be reliably measured by radiocarbon dating are around 50,000 years ago.\n",
    "\n",
    "$$\\ce{^14_6C -> ^14_7N + ^0_{-1}\\beta}+\\gamma$$\n",
    "\n",
    "Since this reaction is a **first order** reaction, the **half-life** is a constant value. \n",
    "\n",
    "<img src=\"https://cnx.org/resources/4fceb8420fc146f12eb667424becd2fc09e71b79\" />"
   ]
  },
  {
   "cell_type": "markdown",
   "metadata": {},
   "source": [
    "<div class=example> \n",
    "    \n",
    "<b>Example:</b> A tiny piece of paper (produced from formerly living plant matter) taken from the Dead Sea Scrolls has an activity of 10.8 disintegrations per minute per gram of carbon. If the initial C-14 activity was 13.6 disintegrations/min/g of C, estimate the age of the Dead Sea Scrolls. (The half-life of C-14 is 5730 years:) <br>\n",
    "\n",
    "<b>Answer:</b> <br>\n",
    "\n",
    "The C-14 activity is proportional to its concentration. The information from the question tells the concentration of C-14 changed by a factor of 10.8/13.6 after this piece of paper was produced.     \n",
    "\n",
    "The decay of C-14 is a first order reaction. Thus,\n",
    "\\begin{align*}\n",
    "    t_{1/2}=\\frac{\\ln2}{k}\\\\\n",
    "    \\ln\\frac{c_0}{c}=kt\n",
    "\\end{align*}  \n",
    "    \n",
    "From the first equation we can calculate the reaction rate constant. From the second equation we can calculate the reaction time. \n",
    "    \n",
    "\\begin{align*}\n",
    "    k & =\\frac{\\ln2}{t_{1/2}}\\\\\n",
    "    & = \\frac{\\ln2}{5730\\text{ y}}\\\\\n",
    "    & = 1.210\\times10^{-4}\\text{ y}^{-1}\\\\\n",
    "    t & = \\frac{\\ln\\frac{c_0}{c}}{k}\\\\\n",
    "    & = \\frac{\\ln\\frac{13.6}{10.8}}{1.210\\times10^{-4}\\text{ y}^{-1}}\\\\\n",
    "    & = 1.90\\times10^3\\text{ y}\n",
    "\\end{align*}  \n",
    "    \n",
    "Thus, we can conclude that this piece of paper was produced around 1900 years ago.     \n",
    "    \n",
    "</div>  "
   ]
  },
  {
   "cell_type": "markdown",
   "metadata": {},
   "source": [
    "> **Requirements**\n",
    "> 1. Understand what are alpha decay and beta decay; \n",
    "> 2. Understand how to date a sample knowing the amount of $\\ce{^14C}$ it contains. Use the method discussed in Chapter 14 Chemical Kinetics. "
   ]
  },
  {
   "cell_type": "markdown",
   "metadata": {},
   "source": [
    "## 3. Nuclear Fission and Nuclear Fusion\n",
    "\n",
    "***Nuclear Fission*** is the process in which a heavy nucleus (mass number > 200) divides to form smaller nuclei of intermediate mass and one or more neutrons. \n",
    "\n",
    "**Example**  \n",
    "$$\\ce{^235_92U + ^1_0n -> ^90_38Sr + ^143_54Xe + 3^1_0n}$$\n",
    "<img src=\"https://cnx.org/resources/a913b1476e4234ab98ca56eacdf70772dd4fdb74\" />\n",
    "\n",
    "In this process, one neutron is captured while three neutrons are produced. The resulting neutons can trigger further reactions. This property makes possible a  *nuclear chain reaction*, which is a self-sustaining sequence of nuclear fission reactions. \n",
    "\n",
    "For such a chain reaction to occur, enough uranium-235 must be present in the sample to capture the neutrons generated in the fission reaction. Otherwise, many of the neutrons will escape from the sample and the chain reaction will not occur. In this situation, the mass of the sample is said to be *subcritical*. When the amount of the fissionable material is equal to or greater than the **critical mass**, the minimum mass of fissionable material required to generate a self-sustaining nuclear chain reaction, most of the neutrons will be captured by uranium-235 nuclei, and a chain reaction will occur.\n",
    "\n",
    "**Atomic Bomb** Two separated pieces of U-235 at subcritical masses. When triggered, those two pieces are pushed to merge and exceed the critical mass. Then chain reaction happens to cause explosion. \n",
    "\n",
    "**Nuclear Reactors** Several pieces of U-235 at subcritical masses. Nuclear fission happens mildly without causing explosion. Control rods are used to adjust the reaction speed. "
   ]
  },
  {
   "cell_type": "markdown",
   "metadata": {
    "collapsed": true
   },
   "source": [
    "***Nuclear Fusion*** is the combining of small nuclei into larger ones. Fusion reactions take place only at very high temperatures. \n",
    "\n",
    "Examples  \n",
    "Reactions happen in the **Sun**. \n",
    "\n",
    "$$\n",
    "\\begin{align*}\n",
    "& \\ce{^1_1H +^2_1H -> ^3_2He} \\\\\n",
    "& \\ce{^3_2He + ^3_2He -> ^4_2He + 2^1_1H} \\\\\n",
    "& \\ce{^1_1H + ^1_1H -> ^2_1H + ^0_{+1}\\beta}\n",
    "\\end{align*}\n",
    "$$\n",
    "\n",
    "Reactions happen in a **Hydrogen Bomb** \n",
    "\n",
    "$$\n",
    "\\begin{align*}\n",
    "& \\ce{^6_3Li +^2_1H -> 2^4_2\\alpha} \\\\\n",
    "& \\ce{^2_1H + ^2_1H -> ^3_1H + ^1_1H} \n",
    "\\end{align*}\n",
    "$$"
   ]
  },
  {
   "cell_type": "markdown",
   "metadata": {},
   "source": [
    "> **Requirements**\n",
    "> 1. Know what are nuclear fission and fusion; \n",
    "> 2. Understand what is critical mass and what is chain reaction; \n",
    "> 4. Be familiar with above examples. "
   ]
  },
  {
   "cell_type": "markdown",
   "metadata": {},
   "source": [
    "<div class=practice>\n",
    "    \n",
    "<b>Practice</b> <br>\n",
    "\n",
    "1. Predict the other product of the following nuclear transformation.\n",
    "    $$\\ce{^6_3Li + ^1_0n -> ? + ^4_2H3}$$\n",
    "    <br>\n",
    "    \n",
    "2. What are $\\alpha$ particles? What are $\\beta$ particles?<br>\n",
    "    \n",
    "3. Calculate the nuclear binding energy for the nuclide $\\ce{^16_8O}$ in (a) J per nucleus; (b) J per mole of nuclei; (c) MeV per nucleus; (d) MeV per nucleon. (The atomic mass of $\\ce{^16_8O}$ is 15.9949 amu.) <br>    \n",
    "    \n",
    "4. Charcoal found under a stone at Stonehenge, England, has a carbon-14 activity that is 0.48 that of new wood. How old is the charcoal? (The half-life of carbon-14 is 5730 years.)<br>    \n",
    "    \n",
    "</div>    "
   ]
  },
  {
   "cell_type": "markdown",
   "metadata": {
    "collapsed": true
   },
   "source": [
    "---"
   ]
  },
  {
   "cell_type": "raw",
   "metadata": {},
   "source": [
    "Please ignore the cell below. It just loads our style for the notebook."
   ]
  },
  {
   "cell_type": "code",
   "execution_count": 1,
   "metadata": {},
   "outputs": [
    {
     "data": {
      "text/html": [
       "<link href=\"https://fonts.googleapis.com/css?family=Lora:400,400i,700,700i|Open+Sans:400,400i|Raleway:400,400i,700,700i\" rel=\"stylesheet\" type='text/css'>\n",
       "<style  type=\"text/css\">\n",
       "div.text_cell_render {\n",
       "\tfont-family: Lora, serif;\n",
       "\tcolor: #222222;\n",
       "}\n",
       ".text_cell_render p {\n",
       "\tpadding-left: 1.5em;\n",
       "\ttext-align: justify;\n",
       "}\n",
       ".text_cell_render h3, h4, h6 {\n",
       "\tfont-family: Raleway, sans-serif;\n",
       "\tcolor: #005c99;\n",
       "}\n",
       ".text_cell_render h1 {\n",
       "\tfont-family: \"Open Sans\", sans-serif;\n",
       "\tfont-weight: 700;\n",
       "\tmargin: auto;\n",
       "\tdisplay: block;\n",
       "}\n",
       ".text_cell_render h2 {\n",
       "\tfont-family: Raleway, sans-serif;\n",
       "\tfont-weight: 700; \n",
       "\tmargin-top: 50px;\n",
       "\tdisplay:inline-block;\n",
       "\tpadding: 10px 15px;\n",
       "\tbackground-color: #007acc;\n",
       "\tcolor: #f8f8f8;\n",
       "\tborder-radius: 10px 40px 10px 40px;\n",
       "\tletter-spacing: 3px;\n",
       "\tfont-variant: small-caps;\n",
       "}\n",
       ".text_cell_render h5 {\n",
       "\tfont-family: \"Open Sans\", sans-serif;\n",
       "\tfont-weight: 400;\n",
       "\tborder-style: groove;\n",
       "\tpadding:0.5em 0.5em 0.5em 0.5em;\n",
       "\tmargin: 1em 0 1em 0;\n",
       "\tline-height: 1.6;\n",
       "}\n",
       "div #notebook {\n",
       "\tbackground-color: #f8f8f8;\n",
       "\twidth: 1110px;\t\n",
       "\tmargin: auto;\n",
       "\tpadding-left: 0em;\n",
       "\tborder: 3px solid #cbd3e5; \n",
       "\tbox-shadow: 0px 0px 7px 1px #cccccc;\n",
       "}\n",
       "div.example {\n",
       "    background-color:#007acc;\n",
       "    color: #ffffff;\n",
       "    margin: auto;\n",
       "    width: 100%; \n",
       "\tpadding: 1.4em; \n",
       "\tborder: 3px solid #007acc; \n",
       "\tborder-radius: 10px; \n",
       "\tmargin-bottom: 14px; \n",
       "\tmargin-top: 14px;  \n",
       "\tbox-shadow: 7px 7px 5px #cccccc; \n",
       "\toverflow: hidden;\n",
       "}\n",
       "div.practice {\n",
       "    background-color:#fbfbfb;\n",
       "    color: #007acc;\n",
       "    margin: auto;\n",
       "    width: 100%; \n",
       "\tpadding: 1.4em; \n",
       "\tborder: 3px solid #eeeeee; \n",
       "\tborder-radius: 10px; \n",
       "\tmargin-bottom: 14px; \n",
       "\tmargin-top: 14px;  \n",
       "\tbox-shadow: 7px 7px 5px #cccccc; \n",
       "\toverflow: hidden;\n",
       "}\n",
       "div #notebook-container {\n",
       "\tbackground-color: #ffffff;\n",
       "\tfont-size: 1.5em; \n",
       "\tline-height: 1.6;\n",
       "\twidth: 1100px;\n",
       "\tmargin: auto;\n",
       "\tpadding-right: 150px;\n",
       "}\n",
       ".CodeMirror-code {\n",
       "\tfont-size: 1.2em;\n",
       "\tline-height: 125%;\n",
       "\topacity: 0.9;\n",
       "}\n",
       "\n",
       ".text_cell_render td {\n",
       "    border-style: hidden;\n",
       "}\n",
       ".text_cell_render table {\n",
       "    border-style: hidden;\n",
       "\tborder-collapse: collapse;\n",
       "\twidth: 100%;\n",
       "    font-size: 80%;\n",
       "}\n",
       "\n",
       ".text_cell_render th, td {\n",
       "\tpadding: 8px;\n",
       "}\n",
       "\n",
       ".text_cell_render tr:nth-child(even){background-color: #e8e8e8}\n",
       "\n",
       ".text_cell_render th {\n",
       "    border-style: hidden;\n",
       "\tbackground-color: #007acc;\n",
       "\tcolor: #f8f8f8;\n",
       "}\n",
       "table td, table th, table tr {\n",
       "    text-align:left !important;\n",
       "}\n",
       "</style>\n",
       "\n"
      ],
      "text/plain": [
       "<IPython.core.display.HTML object>"
      ]
     },
     "execution_count": 1,
     "metadata": {},
     "output_type": "execute_result"
    }
   ],
   "source": [
    "from IPython.core.display import HTML\n",
    "def css_styling():\n",
    "    styles = open(\"custom.css\", \"r\").read()\n",
    "    return HTML(styles)\n",
    "css_styling()"
   ]
  },
  {
   "cell_type": "code",
   "execution_count": null,
   "metadata": {
    "collapsed": true
   },
   "outputs": [],
   "source": []
  }
 ],
 "metadata": {
  "anaconda-cloud": {},
  "kernelspec": {
   "display_name": "Python 3",
   "language": "python",
   "name": "python3"
  },
  "language_info": {
   "codemirror_mode": {
    "name": "ipython",
    "version": 3
   },
   "file_extension": ".py",
   "mimetype": "text/x-python",
   "name": "python",
   "nbconvert_exporter": "python",
   "pygments_lexer": "ipython3",
   "version": "3.7.6"
  }
 },
 "nbformat": 4,
 "nbformat_minor": 1
}
