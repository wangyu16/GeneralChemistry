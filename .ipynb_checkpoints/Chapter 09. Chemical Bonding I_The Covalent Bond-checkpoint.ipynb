{
 "cells": [
  {
   "cell_type": "code",
   "execution_count": 1,
   "metadata": {},
   "outputs": [
    {
     "data": {
      "text/html": [
       "<script src=\"https://cdn.rawgit.com/parente/4c3e6936d0d7a46fd071/raw/65b816fb9bdd3c28b4ddf3af602bfd6015486383/code_toggle.js\"></script>\n"
      ],
      "text/plain": [
       "<IPython.core.display.HTML object>"
      ]
     },
     "metadata": {},
     "output_type": "display_data"
    }
   ],
   "source": [
    "%%html\n",
    "<script src=\"https://cdn.rawgit.com/parente/4c3e6936d0d7a46fd071/raw/65b816fb9bdd3c28b4ddf3af602bfd6015486383/code_toggle.js\"></script>"
   ]
  },
  {
   "cell_type": "markdown",
   "metadata": {},
   "source": [
    "\n",
    "$$\\require{mhchem}$$\n",
    "\n",
    "### [HOME](https://wangyu16.github.io/GeneralChemistry/)\n",
    "\n",
    "# <center>General Chemistry Study Guide</center>\n",
    "\n",
    "### <center>Chapter 9. Chemical Bonding I: The Covalent Bond</center>\n",
    "\n",
    "---\n",
    "\n",
    "##### <b>OpenStax</b> 7 Chemical Bonding and Molecular Geometry 7.1 - 7.5. <b>Brown</b> 8 Basic Concepts of Chemical Bonding. #####"
   ]
  },
  {
   "cell_type": "markdown",
   "metadata": {
    "collapsed": true
   },
   "source": [
    "## 1. Ionic Bond and Covalent Bond\n",
    "\n",
    "### 1.1. Lewis Dot Symbols\n",
    "\n",
    "Atoms combine to achieve a more stable electron configuration. Maximum stability results when an atom is isoelectronic with a noble gas.\n",
    "\n",
    "Valence electrons are the outer shell electrons of an atom. The valence electrons are the electrons that participate in chemical bonding.\n",
    "\n",
    "A Lewis dot symbol consists of the symbol of an element and one dot for each valence electron in an atom of the element. \n",
    "\n",
    "\n",
    "<figure>\n",
    "<img src=\"https://cnx.org/resources/c7d8fb42087a4bc5245003783081923155a91ae1\" style=\"width:800px\"/>\n",
    "</figure>\n"
   ]
  },
  {
   "cell_type": "markdown",
   "metadata": {},
   "source": [
    "### 1.2. The Ionic Bond\n",
    "\n",
    "As a rule, the elements most likely to form cations in ionic compounds are the alkali metals and alkaline earth metals, and the elements most likely to form anions are the halogens and oxygen. \n",
    "\n",
    "An **ionic bond** is the electrostatic force that holds ions together in an ionic compound. The compound itself is electrically neutral.\n",
    "\n",
    "Examples (remember to balance the equation): \n",
    "\n",
    "<img src=\"https://cnx.org/resources/a752501f23b0d79683e2c9410d82a996361cc140\" />\n",
    "\n"
   ]
  },
  {
   "cell_type": "markdown",
   "metadata": {},
   "source": [
    "### 1.3. Lattice Energy of Ionic Compounds\n",
    "\n",
    "A quantitative measure of the stability of any ionic solid is its **lattice energy**, defined as the energy required to completely separate one mole of a solid ionic compound into gaseous ions.\n",
    "\n",
    "There is a rough correlation between lattice energy and melting point. The larger the lattice energy, the more stable the solid and the more tightly held the ions. It takes more energy to melt such a solid, and so the solid has a higher melting point than one with a smaller lattice energy. Note that $\\ce{MgCl2}$, $\\ce{MgO}$, and $\\ce{CaO}$ have unusually high lattice energies. The first of these ionic compounds has a doubly charged cation ($\\ce{Mg^{2+}}$) and in the second and third compounds there is an interaction between two doubly charged species ($\\ce{Mg^{2+}}$ or $\\ce{Ca^{2+}}$ and $\\ce{O^{2−}}$).\n",
    "* The coulombic attractions between two doubly charged species, or between a doubly charged ion and a singly charged ion, are much stronger than those between singly charged anions and cations. \n",
    "* The coulombic attractions between smaller ions are stronger than those between larger ions. "
   ]
  },
  {
   "cell_type": "markdown",
   "metadata": {},
   "source": [
    "### 1.4. The Covalent Bond\n",
    "\n",
    "**Covalent bond** is a bond in which two electrons are shared by two atoms. **Covalent compounds** are compounds that contain only covalent bonds. \n",
    "\n",
    "For the sake of simplicity, the shared pair of electrons is often represented by a single line. Thus, the covalent bond in the hydrogen molecule can be written as $\\ce{H-H}$. In a covalent bond, each electron in a shared pair is attracted to the nuclei of both atoms. This attraction holds the two atoms in $\\ce{H2}$ together and is responsible for the formation of covalent bonds in other molecules.\n",
    "\n",
    "**lone pairs**: pairs of valence electrons that are not involved in covalent bond formation. \n",
    "\n",
    "A **Lewis structure** is a representation of covalent bonding in which shared electron pairs are shown either as lines or as pairs of dots between two atoms, and lone pairs are shown as pairs of dots on individual atoms. \n",
    "\n",
    "**Octet rule**: An atom other than hydrogen tends to form bonds until it is surrounded by eight valence electrons. \n",
    "\n",
    "A **single bond**, two atoms are held together by one electron pair. If two atoms share two pairs of electrons, the covalent bond is called a **double bond**. A **triple bond** arises when two atoms share three pairs of electrons, as in the nitrogen molecule ($\\ce{N2}$). \n",
    "\n",
    "For the same pair of atoms, multiple bonds are shorter than single covalent bonds. **Bond length** is defined as the distance between the nuclei of two covalently bonded atoms in a molecule. Generally, shorter means stronger.  "
   ]
  },
  {
   "cell_type": "markdown",
   "metadata": {},
   "source": [
    "\n",
    "\n",
    "### 1.5. Electronegativity\n",
    "\n",
    "In a **Polar covalent bond**, or simply a polar bond, the electrons spend more time in the vicinity of one atom than the other.\n",
    "\n",
    "**Electronegativity** is the ability of an atom to attract toward itself the electrons in a chemical bond. \n",
    "\n",
    "Electronegativity is related to electron affinity and ionization energy. Thus, an atom such as fluorine, which has a high electron affinity (tends to pick up electrons easily) and a high ionization energy (does not lose electrons easily), has a high electronegativity. On the other hand, sodium has a low electron affinity, a low ionization energy, and a low electronegativity.\n",
    "\n",
    "In general, electronegativity increases from left to right across a period in the periodic table, as the metallic character of the elements decreases. Within each group, electronegativity decreases with increasing atomic number, and increasing metallic character.\n",
    "\n",
    "* An ionic bond forms when the electronegativity difference between the two bonding atoms is 2.0 or more. This rule applies to most but not all ionic compounds.\n",
    "* A polar covalent bond forms when the electronegativity difference between the atoms is in the range of 0.3–2.0. \n",
    "* If the electronegativity difference is below 0.3, the bond is normally classified as a covalent bond, with little or no polarity.\n",
    "\n",
    "Electronegativity and electron affinity are related but different concepts. Both indicate the tendency of an atom to attract electrons. However, electron affinity refers to an isolated atom's attraction for an additional electron, whereas electronegativity signifies the ability of an atom in a chemical bond (with another atom) to attract the shared electrons.\n",
    "\n",
    "**Oxidation number** refers to the number of charges an atom would have if electrons were transferred completely to the more electronegative of the bonded atoms in a molecule."
   ]
  },
  {
   "cell_type": "markdown",
   "metadata": {},
   "source": [
    "> #### Requirements\n",
    "> 1. Understand the concepts\n",
    "> 2. Understand how to distinguish ionic band and covalent bond based on the electronegtivities. "
   ]
  },
  {
   "cell_type": "markdown",
   "metadata": {},
   "source": [
    "## 2. Lewis Structure\n",
    "\n",
    "### 2.1. Writing Lewis Structures\n",
    "\n",
    "1. Write the skeletal structure of the compound, using chemical symbols and placing bonded atoms next to one another. \n",
    "2. Count the total number of valence electrons present, referring, if necessary, to Figure 9.1. For polyatomic anions, add the number of negative charges to that total.  For polyatomic cations, we subtract the number of positive charges from this total. \n",
    "3. Draw a single covalent bond between the central atom and each of the surrounding atoms. Complete the octets of the atoms bonded to the central atom. Electrons belonging to the central or surrounding atoms must be shown as lone pairs if they are not involved in bonding. The total number of electrons to be used is that determined in step 2.\n",
    "4. After completing steps 1–3, if the central atom has fewer than eight electrons, try adding double or triple bonds between the surrounding atoms and the central atom, using lone pairs from the surrounding atoms to complete the octet of the central atom.\n"
   ]
  },
  {
   "cell_type": "markdown",
   "metadata": {},
   "source": [
    "> #### Requirements \n",
    "> 1. Remember the Lewis structures of the example compounds in the textbook. "
   ]
  },
  {
   "cell_type": "markdown",
   "metadata": {},
   "source": [
    "### 2.2. Formal Charge and Lewis Structure\n",
    "\n",
    "An atom's **formal charge** is the electrical charge difference between the valence electrons in an isolated atom and the number of electrons assigned to that atom in a Lewis structure.\n",
    "\n",
    "To assign the number of electrons on an atom in a Lewis structure, we proceed as follows:\n",
    "* All the atom's nonbonding electrons are assigned to the atom.\n",
    "* We break the bond(s) between the atom and other atom(s) and assign half of the bonding electrons to the atom.\n",
    "\n",
    "$$\\text { formal charge }=\\# \\text { valence shell electrons (free atom) }-\\# \\text { lone pair electrons }-\\frac{1}{2} \\# \\text { bonding electrons }$$\n",
    "\n",
    "Example\n",
    "\n",
    "<img src=\"https://upload.wikimedia.org/wikipedia/commons/5/58/Co2-1.png\" style=\"width:200px\"/>\n",
    "\n",
    "<img src=\"https://upload.wikimedia.org/wikipedia/commons/2/25/Ls4.png\" style=\"width:400px\"/>"
   ]
  },
  {
   "cell_type": "markdown",
   "metadata": {},
   "source": [
    "> #### Requirements \n",
    "> 1. Learn how to count formal charge. "
   ]
  },
  {
   "cell_type": "markdown",
   "metadata": {},
   "source": [
    "### 2.3. The Concept of Resonance\n",
    "\n",
    "A **resonance structure** is one of two or more Lewis structures for a single molecule that cannot be represented accurately by only one Lewis structure.\n",
    "\n",
    "The term **resonance** itself means the use of two or more Lewis structures to represent a particular molecule.\n",
    "\n",
    "A common misconception about resonance is the notion that a molecule such as ozone somehow shifts quickly back and forth from one resonance structure to the other. Keep in mind that neither resonance structure adequately represents the actual molecule, which has its own unique, stable structure. “Resonance” is a human invention, designed to address the limitations in these simple bonding models.\n",
    "\n",
    "Examples\n",
    "\n",
    "<img src=\"https://upload.wikimedia.org/wikipedia/commons/0/09/Delocalization_ozone.svg\" />\n",
    "\n",
    "<img src=\"https://upload.wikimedia.org/wikipedia/commons/e/ed/Carbonate-ion-resonance-2D.png\" style=\"width:400px\"/>\n",
    "\n",
    "<img src=\"https://upload.wikimedia.org/wikipedia/commons/7/79/Benz3.svg\" style=\"width:300px\"/>\n",
    "\n",
    "<img src=\"https://upload.wikimedia.org/wikipedia/commons/d/d4/Nitrous-oxide-2D-VB.svg\" style=\"width:300px\"/>\n"
   ]
  },
  {
   "cell_type": "markdown",
   "metadata": {},
   "source": [
    "> #### Requirements \n",
    "> 1. Understand what is resonance structure and remember the examples. "
   ]
  },
  {
   "cell_type": "markdown",
   "metadata": {},
   "source": [
    "### 2.4. Exceptions to the Octet Rule\n",
    "\n",
    "The octet rule applies mainly to the *second-period elements*. Exceptions to the octet rule fall into three categories characterized by an incomplete octet, an odd number of electrons, or more than eight valence electrons around the central atom.\n",
    "\n",
    "#### The Incomplete Octet\n",
    "\n",
    "In some compounds, the number of electrons surrounding the central atom in a stable molecule is fewer than eight. Consider, for example, beryllium, and boron. \n",
    "\n",
    "Example, in boron trifluoride there are only six electrons around the boron atom\n",
    "\n",
    "<img src=\"https://chem.libretexts.org/@api/deki/files/43166/IMG00018.GIF?revision=1&size=bestfit&width=134&height=143\" />\n",
    "\n",
    "Although boron trifluoride is stable, it readily reacts with ammonia.\n",
    "\n",
    "<img src=\"https://chem.libretexts.org/@api/deki/files/43168/IMG00020.GIF?revision=1\" />\n",
    "\n",
    "The bond between $\\ce{N}$ and $\\ce{B}$ is called a **coordinate covalent bond**, defined as a covalent bond in which one of the atoms donates both electrons.  \n",
    "\n",
    "#### Odd-Electron Molecules\n",
    "\n",
    "Some molecules contain an odd number of electrons. Among them are nitric oxide ($\\ce{NO}$) and nitrogen dioxide ($\\ce{NO2}$). \n",
    "\n",
    "<img src=\"https://chem.libretexts.org/@api/deki/files/10211/NO.jpg?revision=2\" />\n",
    "\n",
    "Odd-electron molecules are sometimes called radicals. Many radicals are highly reactive. For example, when two nitrogen dioxide molecules collide, they can form dinitrogen tetroxide in which the octet rule is satisfied for both the N and O atoms:\n",
    "\n",
    "\n",
    "\n",
    "\n",
    "#### The Expanded Octet\n",
    "\n",
    "Atoms of the second-period elements cannot have more than eight valence electrons around the central atom, but atoms of elements in and beyond the third period of the periodic table form some compounds in which more than eight electrons surround the central atom. In addition to the $3s$ and $3p$ orbitals, elements in the third period also have $3d$ orbitals that can be used in bonding. These orbitals enable an atom to form an **expanded octet**. \n",
    "\n",
    "One compound in which there is an expanded octet is sulfur hexafluoride, a very stable compound. The electron configuration of sulfur is $[\\ce{Ne}]3s^23p^4$. In $\\ce{SF6}$, each of sulfur's six valence electrons forms a covalent bond with a fluorine atom, so there are twelve electrons around the central sulfur atom:\n",
    "\n",
    "<img src=\"https://cnx.org/resources/751589fc19ee4118adf16419497c7f36dcc3b7c0\" />"
   ]
  },
  {
   "cell_type": "markdown",
   "metadata": {},
   "source": [
    "> #### Requirements \n",
    "> 1. Understand the concepts.\n",
    "> 2. Remember the examples. "
   ]
  },
  {
   "cell_type": "markdown",
   "metadata": {},
   "source": [
    "## 3. Bond Enthalpy\n",
    "\n",
    "**Bond enthalpy** is the enthalpy change required to break a particular bond in 1 mole of gaseous molecules. \n",
    "\n",
    "The **bond enthalpy** of the same  bond, for example $\\ce{O-H}$, in two different molecules, such as methanol ($\\ce{CH3OH}$) and water ($\\ce{H2O}$), will not be the same because their environments are different. Thus, for polyatomic molecules we speak of the average bond enthalpy of a particular bond. Table 9.3 in the textbook. \n",
    "\n",
    "The enthalpy of reaction in the gas phase is given by\n",
    "\n",
    "$$\\Delta H=\\Sigma D_{\\text { bonds broken }}-\\Sigma D_{\\text { bonds formed }}$$\n",
    "\n",
    "The reason is\n",
    "\n"
   ]
  },
  {
   "cell_type": "markdown",
   "metadata": {},
   "source": [
    "> #### Requirements \n",
    "> 1. Understand the concepts."
   ]
  },
  {
   "cell_type": "markdown",
   "metadata": {},
   "source": [
    "<div class=practice>\n",
    "\n",
    "    \n",
    "<b>Practice:</b> <br>\n",
    "\n",
    "1. Which one of the following is most likely to be an ionic compound?<br>\n",
    "    \n",
    "(A) $\\ce{ClF3}$<br>\n",
    "(B) $\\ce{MgCl2}$<br> \n",
    "(C) $\\ce{NH3}$<br> \n",
    "(D) $\\ce{PF3}$<br> \n",
    "(E) $\\ce{SO3}$<br><br> \n",
    "\n",
    "2. Which one of the following is most likely to be a covalent compound?<br>\n",
    "\n",
    "(A) $\\ce{CsOH}$<br>\n",
    "(B) $\\ce{CaO}$<br> \n",
    "(C) $\\ce{NF3}$<br> \n",
    "(D) $\\ce{LiF}$<br> \n",
    "(E) $\\ce{Sr(NO3)2}$<br><br>\n",
    "    \n",
    "3. Draw the Lewis dot symbol for a chloride ion.<br><br>\n",
    "\n",
    "4. Which of the atoms listed below is the most electronegative?<br>\n",
    "\n",
    "(A) $\\ce{Li}$<br>\n",
    "(B) $\\ce{Cs}$<br> \n",
    "(C) $\\ce{P}$<br> \n",
    "(D) $\\ce{As}$<br> \n",
    "(E) $\\ce{Ge}$<br><br> \n",
    "\n",
    "5. A polar covalent bond would form in which one of the following pairs of atoms?<br>\n",
    "\n",
    "(A) $\\ce{Cl-Cl}$<br>\n",
    "(B) $\\ce{Si-Si}$<br> \n",
    "(C) $\\ce{P-Cl}$<br> \n",
    "(D) $\\ce{Ca-Cl}$<br> \n",
    "(E) $\\ce{Cr-Br}$<br><br> \n",
    "\n",
    "6. Which one of these polar covalent bonds would have the greatest percent ionic character?<br>\n",
    "    \n",
    "(A) $\\ce{H-C}$<br>\n",
    "(B) $\\ce{H-S}$<br> \n",
    "(C) $\\ce{H-O}$<br> \n",
    "(D) $\\ce{H-N}$<br> \n",
    "(E) cannot tell<br><br> \n",
    "\n",
    "7. What is the number of lone electron pairs in a $\\ce{N2}$ molecule?<br><br>\n",
    "\n",
    "8. Draw the Lewis structures for $\\ce{NH3}$, $\\ce{F2}$, $\\ce{N2}$, $\\ce{CH4}$, and $\\ce{H3O+}$.<br><br>\n",
    "\n",
    "9. Assuming the octet rule is obeyed, how many covalent bonds will a carbon atom form to give a formal charge of zero?<br><br>\n",
    "\n",
    "10. What is the formal charge on the oxygen atom in $\\ce{N2O}$ (the atomic order is $\\ce{N-N-O}$)?<br><br>\n",
    "\n",
    "</div>    "
   ]
  },
  {
   "cell_type": "markdown",
   "metadata": {
    "collapsed": true
   },
   "source": [
    "----"
   ]
  },
  {
   "cell_type": "code",
   "execution_count": 2,
   "metadata": {},
   "outputs": [
    {
     "data": {
      "text/html": [
       "<link href=\"https://fonts.googleapis.com/css?family=Lora:400,400i,700,700i|Open+Sans:400,400i|Raleway:400,400i,700,700i\" rel=\"stylesheet\" type='text/css'>\n",
       "<style  type=\"text/css\">\n",
       "div.text_cell_render {\n",
       "\tfont-family: Lora, serif;\n",
       "\tcolor: #222222;\n",
       "}\n",
       ".text_cell_render p {\n",
       "\tpadding-left: 1.5em;\n",
       "\ttext-align: justify;\n",
       "}\n",
       ".text_cell_render h3, h4, h6 {\n",
       "\tfont-family: Raleway, sans-serif;\n",
       "\tcolor: #005c99;\n",
       "}\n",
       ".text_cell_render h1 {\n",
       "\tfont-family: \"Open Sans\", sans-serif;\n",
       "\tfont-weight: 700;\n",
       "\tmargin: auto;\n",
       "\tdisplay: block;\n",
       "}\n",
       ".text_cell_render h2 {\n",
       "\tfont-family: Raleway, sans-serif;\n",
       "\tfont-weight: 700; \n",
       "\tmargin-top: 50px;\n",
       "\tdisplay:inline-block;\n",
       "\tpadding: 10px 15px;\n",
       "\tbackground-color: #007acc;\n",
       "\tcolor: #f8f8f8;\n",
       "\tborder-radius: 10px 40px 10px 40px;\n",
       "\tletter-spacing: 3px;\n",
       "\tfont-variant: small-caps;\n",
       "}\n",
       ".text_cell_render h5 {\n",
       "\tfont-family: \"Open Sans\", sans-serif;\n",
       "\tfont-weight: 400;\n",
       "\tborder-style: groove;\n",
       "\tpadding:0.5em 0.5em 0.5em 0.5em;\n",
       "\tmargin: 1em 0 1em 0;\n",
       "\tline-height: 1.6;\n",
       "}\n",
       "div #notebook {\n",
       "\tbackground-color: #f8f8f8;\n",
       "\twidth: 1110px;\t\n",
       "\tmargin: auto;\n",
       "\tpadding-left: 0em;\n",
       "\tborder: 3px solid #cbd3e5; \n",
       "\tbox-shadow: 0px 0px 7px 1px #cccccc;\n",
       "}\n",
       "div.example {\n",
       "    background-color:#007acc;\n",
       "    color: #ffffff;\n",
       "    margin: auto;\n",
       "    width: 100%; \n",
       "\tpadding: 1.4em; \n",
       "\tborder: 3px solid #007acc; \n",
       "\tborder-radius: 10px; \n",
       "\tmargin-bottom: 14px; \n",
       "\tmargin-top: 14px;  \n",
       "\tbox-shadow: 7px 7px 5px #cccccc; \n",
       "\toverflow: hidden;\n",
       "}\n",
       "div.practice {\n",
       "    background-color:#fbfbfb;\n",
       "    color: #007acc;\n",
       "    margin: auto;\n",
       "    width: 100%; \n",
       "\tpadding: 1.4em; \n",
       "\tborder: 3px solid #eeeeee; \n",
       "\tborder-radius: 10px; \n",
       "\tmargin-bottom: 14px; \n",
       "\tmargin-top: 14px;  \n",
       "\tbox-shadow: 7px 7px 5px #cccccc; \n",
       "\toverflow: hidden;\n",
       "}\n",
       "div #notebook-container {\n",
       "\tbackground-color: #ffffff;\n",
       "\tfont-size: 1.5em; \n",
       "\tline-height: 1.6;\n",
       "\twidth: 1100px;\n",
       "\tmargin: auto;\n",
       "\tpadding-right: 150px;\n",
       "}\n",
       ".CodeMirror-code {\n",
       "\tfont-size: 1.2em;\n",
       "\tline-height: 125%;\n",
       "\topacity: 0.9;\n",
       "}\n",
       "\n",
       ".text_cell_render td {\n",
       "    border-style: hidden;\n",
       "}\n",
       ".text_cell_render table {\n",
       "    border-style: hidden;\n",
       "\tborder-collapse: collapse;\n",
       "\twidth: 100%;\n",
       "    font-size: 80%;\n",
       "}\n",
       "\n",
       ".text_cell_render th, td {\n",
       "\tpadding: 8px;\n",
       "}\n",
       "\n",
       ".text_cell_render tr:nth-child(even){background-color: #e8e8e8}\n",
       "\n",
       ".text_cell_render th {\n",
       "    border-style: hidden;\n",
       "\tbackground-color: #004c80;\n",
       "\tcolor: #f8f8f8;\n",
       "}\n",
       "table td, table th, table tr {\n",
       "    text-align:left !important;\n",
       "}\n",
       "</style>"
      ],
      "text/plain": [
       "<IPython.core.display.HTML object>"
      ]
     },
     "execution_count": 2,
     "metadata": {},
     "output_type": "execute_result"
    }
   ],
   "source": [
    "from IPython.core.display import HTML\n",
    "def css_styling():\n",
    "    styles = open(\"custom.css\", \"r\").read()\n",
    "    return HTML(styles)\n",
    "css_styling()"
   ]
  },
  {
   "cell_type": "code",
   "execution_count": 3,
   "metadata": {},
   "outputs": [
    {
     "data": {
      "text/html": [
       "<p>Copyright (C) 2021 Yu Wang</p>\n",
       "\n",
       "<p><a rel=\"license\" href=\"http://creativecommons.org/licenses/by/4.0/\"><img alt=\"Creative Commons License\" style=\"border-width:0\" src=\"https://i.creativecommons.org/l/by/4.0/88x31.png\" /></a><br />This work is licensed under a <a rel=\"license\" href=\"http://creativecommons.org/licenses/by/4.0/\">Creative Commons Attribution 4.0 International License</a>.</p>\n",
       "\n",
       "<p>Contact: Dr. Yu Wang<br>\n",
       "Department of Chemistry<br>\n",
       "Institute for Materials Research and Innovation<br>\n",
       "University of Louisiana at Lafayette<br>\n",
       "Lafayette, LA 70504<br>\n",
       "Email: yuwang@louisiana.edu</p>\n"
      ],
      "text/plain": [
       "<IPython.core.display.HTML object>"
      ]
     },
     "execution_count": 3,
     "metadata": {},
     "output_type": "execute_result"
    }
   ],
   "source": [
    "import requests\n",
    "copyright = requests.get(\"https://raw.githubusercontent.com/wangyu16/GeneralChemistry/master/copyright.md\")\n",
    "HTML(copyright.text)"
   ]
  }
 ],
 "metadata": {
  "anaconda-cloud": {},
  "kernelspec": {
   "display_name": "Python 3 (ipykernel)",
   "language": "python",
   "name": "python3"
  },
  "language_info": {
   "codemirror_mode": {
    "name": "ipython",
    "version": 3
   },
   "file_extension": ".py",
   "mimetype": "text/x-python",
   "name": "python",
   "nbconvert_exporter": "python",
   "pygments_lexer": "ipython3",
   "version": "3.8.13"
  }
 },
 "nbformat": 4,
 "nbformat_minor": 1
}
