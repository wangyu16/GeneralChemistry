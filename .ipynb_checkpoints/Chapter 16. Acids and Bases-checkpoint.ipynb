{
 "cells": [
  {
   "cell_type": "code",
   "execution_count": 1,
   "metadata": {},
   "outputs": [
    {
     "data": {
      "text/html": [
       "<script src=\"https://raw.githubusercontent.com/wangyu16/GeneralChemistry/master/code_toggle.js\"></script>\n"
      ],
      "text/plain": [
       "<IPython.core.display.HTML object>"
      ]
     },
     "metadata": {},
     "output_type": "display_data"
    }
   ],
   "source": [
    "%%html\n",
    "<script src=\"https://raw.githubusercontent.com/wangyu16/GeneralChemistry/master/code_toggle.js\"></script>"
   ]
  },
  {
   "cell_type": "markdown",
   "metadata": {},
   "source": [
    "$$\\require{mhchem}$$\n",
    "\n",
    "### [HOME](https://wangyu16.github.io/GeneralChemistry/)\n",
    "\n",
    "# <center>General Chemistry Study Guide</center>\n",
    "\n",
    "### <center>Chapter 16. Acids and Bases</center>\n",
    "\n",
    "---\n",
    "\n"
   ]
  },
  {
   "cell_type": "markdown",
   "metadata": {},
   "source": [
    "## 1. General Concepts\n",
    "\n",
    "##### <b>OpenStax</b> 14.1 Brønsted Acids and Bases - 14.3 Relative Strengths of Acids and Bases. <b>Brown</b> 16 Acid-Base Equilibria. 17. Additional Aspects of Aqueous Equilibria. #####\n",
    "\n",
    "### Brønsted Acids and Bases\n",
    "\n",
    "Definations of Brønsted acids and bases are givin in Chapter 4. A Brønsted acid is a substance capable of donating a proton, and a Brønsted base is a substance capable of accepting a proton. \n",
    "\n",
    "**Conjugate acid-base pair** The conjugate base of a Brønsted acid is the species that remains when one proton has been removed from the acid. Conversely, a conjugate acid results from the addition of a proton to a Brønsted base."
   ]
  },
  {
   "cell_type": "markdown",
   "metadata": {},
   "source": [
    "<div class=example> \n",
    "    \n",
    "<b>Example:</b> Identify the conjugate acid-base pairs in the following reaction: \n",
    "    \n",
    "\\begin{align*}\n",
    "\\ce{CH3COOH (aq) + H2O (l) <=> CH3COO- (aq) + H3O+ (aq)}\n",
    "\\end{align*}\n",
    "\n",
    "<b>Answer:</b> <br>\n",
    "    \n",
    "In this reaction, $\\ce{CH3COOH}$ is an acid, and $\\ce{CH3COO-}$ is its conjugate base; $\\ce{H2O}$ is a base, and $\\ce{H3O+}$ is its conjugate acid. \n",
    "    \n",
    "</div> "
   ]
  },
  {
   "cell_type": "markdown",
   "metadata": {
    "collapsed": true
   },
   "source": [
    "**Diprotic and Polyprotic Acids** \n",
    "\n",
    "* May yield more than one hydrogen ion per molecule; \n",
    "* Ionize in a stepwise manner; \n",
    "* Each ionization step has a ionization constant. "
   ]
  },
  {
   "cell_type": "markdown",
   "metadata": {},
   "source": [
    "<div class=example> \n",
    "    \n",
    "<b>Example:</b> Give the reaction equations of the two-step ionization of $\\ce{H2CO3}$ in water. <br>\n",
    "\n",
    "<b>Answer:</b> <br>\n",
    "$$\\ce{H2CO3 (aq) + H2O (l) <=> H3O+ (aq) +HCO3- (aq)} \\quad \\textbf{(1)}$$ \n",
    "\n",
    "$$K_{a_1}=\\frac{[\\ce{H3O+}][\\ce{HCO3-}]}{[\\ce{H2CO3}]}$$\n",
    "\n",
    "$$\\ce{HCO3- (aq) + H2O (l) <=> H3O+ (aq) + CO3^2- (aq)} \\quad \\textbf{(2)}$$ \n",
    "\n",
    "$$K_{a_2}=\\frac{[\\ce{H3O+}][\\ce{CO3^2-}]}{[\\ce{HCO3-}]}$$\n",
    "    \n",
    "</div>     "
   ]
  },
  {
   "cell_type": "markdown",
   "metadata": {},
   "source": [
    "### The Acid and Base Properties of Water\n",
    "\n",
    "$$\\ce{H2O + H2O <=> H3O+ + OH-}$$\n",
    "\n",
    "or\n",
    "\n",
    "$$\\ce{H2O <=> H+ + OH-}$$\n",
    "\n",
    "at $25\\,^\\circ\\text{C}$\n",
    "\n",
    "$$K_w = [\\ce{H+}][\\ce{OH-}]=1.0\\times10^{-14}$$"
   ]
  },
  {
   "cell_type": "markdown",
   "metadata": {},
   "source": [
    "**pH - A Measure of Acidity** \n",
    "$$\\ce{pH}=-\\log [\\ce{H+}]$$\n",
    "\n",
    "In water, at $25\\,^\\circ\\text{C}$, $\\ce{pH}=7$ means the solution is neutral; $\\ce{pH}<7$, acidic; $\\ce{pH}>7$, basic. \n",
    "\n",
    "$\\ce{pOH}$ can be defined as \n",
    "$$\\ce{pOH}=-\\log [\\ce{OH-}]$$\n",
    "\n",
    "Since $K_w = [\\ce{H+}][\\ce{OH-}]=1.0\\times10^{-14}$, $\\ce{pH}+\\ce{pOH} = 14$. Knowing one of them means the other is also known. Only $\\ce{pH}$ is commonly used. "
   ]
  },
  {
   "cell_type": "markdown",
   "metadata": {},
   "source": [
    "### Strength of Acids and Bases\n",
    "\n",
    "**Strong acids and strong bases** are strong electrolytes which are assumed to ionize completely in water.  \n",
    "**Weak acids and weak bases** are weak electrolytes which would partially ionize in water.  \n",
    "**Important!** Memorize the following common strong acids and weak acids. \n",
    "\n",
    "Strong acids: $\\ce{HClO4}$, $\\ce{HI}$, $\\ce{HBr}$, $\\ce{HCl}$, $\\ce{H2SO4}$, $\\ce{HNO3}$. \n",
    "\n",
    "Weak acids: $\\ce{HSO4-}$, $\\ce{HF}$, $\\ce{HNO2}$, $\\ce{HCOOH}$, $\\ce{CH3COOH}$, $\\ce{NH4+}$, $\\ce{HCN}$.\n",
    "\n",
    "Remember the typical weak bases that would be considered in this general chemistry are mainly amines, such as $\\ce{NH3}$, $\\ce{N(CH3)3}$, $\\ce{C6H5NH2}$, etc. \n",
    "\n",
    "* A stronger acid has weaker conjugate base. \n",
    "* $\\ce{H3O+}$ or $\\ce{H+}$ is the strongest acid that can exist in aqueous solution.\n",
    "* $\\ce{OH-}$ is the strongest base that can exist in aqueous solution."
   ]
  },
  {
   "cell_type": "markdown",
   "metadata": {},
   "source": [
    "> **Requirements**  \n",
    "> 1. Understand the concepts, understand the meaning of $\\ce{pH}$ value;\n",
    "> 2. Remember the relavent strength of common acids and bases;\n",
    "> 3. Given an acid/base reaction, recognize which is the acid and which is the base, and tell what are their conjugate base and conjugate acid. "
   ]
  },
  {
   "cell_type": "markdown",
   "metadata": {
    "collapsed": true
   },
   "source": [
    "## 2. Structure and Property Correlation\n",
    "\n",
    "##### <b>OpenStax</b> 14.3. Relative Strengths of Acids and Bases - 14.5. Polyprotic Acids. <b>Brown</b> 16 Acid-Base Equilibria. 17. Additional Aspects of Aqueous Equilibria. #####\n",
    "\n",
    "### Molecular Structure and the Strength of Acids\n",
    "\n",
    "**Hydrohalic acids** Stronger bond, weaker acid.  \n",
    "$$\\ce{HF}\\ll\\ce{HCl}<\\ce{HBr}<\\ce{HI}$$\n",
    "\n",
    "**Oxoacids**  \n",
    "1. Oxoacids having different central atoms that are from the same group of the periodic table and that have the same oxidation number. Acid strength increases with increasing electronegativity of the central atom.  \n",
    "$$\\ce{HClO3}>\\ce{HBrO3}$$ \n",
    "2. Oxoacids having the same central atom but different numbers of attached groups. Acid strength increases as the oxidation number of the central atom increases. \n",
    "$$\\ce{HClO4}>\\ce{HClO3}>\\ce{HClO2}>\\ce{HClO}$$\n",
    "\n",
    "### Acid-Base Properties of Salts\n",
    "\n",
    "**Salts that produce neutral solutions**  A strong acid and a strong base generate a salt that produces neutral solution in water. For example, $\\ce{NaOH}$ and $\\ce{HCl}$ generate $\\ce{NaCl}$ which produces neutral solution in water. The $\\ce{pH}$ of $\\ce{NaCl}$ solution is $7$. \n",
    "\n",
    "**Salts that produce basic solutions** A strong base and a weak acid generate a salt  that produces basic solution in water. For example, $\\ce{NaOH}$ and $\\ce{CH3COOH}$ generate $\\ce{CH3COONa}$ which produces basic solution in water because $\\ce{CH3COO-}$ can hydrolyze. The $\\ce{pH}$ is larger than $7$.  \n",
    "\n",
    "**Salts that produce acidic solutions** A strong acid and a weak base generate a salt that produces acidic solution in water. For example, $\\ce{HCl}$ and $\\ce{NH3}$ generate $\\ce{NH4Cl}$ which produces acidic solution in water. The $\\ce{pH}$ is smaller than $7$.  Small and highly charged metal cations can hydrolyze to produce $\\ce{H+}$. For example, $\\ce{AlCl3, CrCl3, FeCl3, BiCl3, BeCl2}$ solutions are all acidic. \n",
    "\n",
    "*Note that  $\\ce{Al(H2O)6^3+}$ is roughly as strong an acid as $\\ce{CH3COOH}$.*\n",
    "\n",
    "**Salts in which both the cation and the anion hydrolyze** If the salt is generated from a weak acid and a weak base, the $\\ce{pH}$ of the solution depends on the $K_a$ of the cation and the $K_b$ of the anion.  \n",
    "* $K_b > K_a$ basic;\n",
    "* $K_b = K_a$ neutral;\n",
    "* $K_b < K_a$ acidic. \n",
    "\n",
    "### Acidic, Basic and Amphoteric Oxides \n",
    "\n",
    "Oxides can be classified as acidic, basic, or amphoteric, see following Figure.  \n",
    "\n",
    "\n",
    "The basic metallic oxides react with water to form metal hydroxides. Acidic oxides and water usually generate acids.  \n",
    "$$\\ce{Na2O(s) + H2O(l) -> 2NaOH(aq)}$$  \n",
    "$$\\ce{SO3(g) + H2O(l) -> H2SO4(aq)}$$  \n",
    "Reactions between acidic oxides and bases and those between basic oxides and acids resemble normal acid-base reactions  \n",
    "$$\\ce{CO2(g) + 2NaOH(aq) -> Na2CO3(aq) + H2O(l)}$$  \n",
    "$$\\ce{BaO(s) + 2HNO3(aq)-> Ba(NO3)2(aq) + H2O(l)}$$  \n",
    "aluminum oxide ($\\ce{Al2O3}$) is amphoteric.   Depending on the reaction conditions, it can behave either as an acidic oxide or as a basic oxide.  \n",
    "$$\\ce{Al2O3(s) + 6HCl(aq) -> 2AlCl3(aq) + 3H2O(l)}$$  \n",
    "$$\\ce{Al2O3(s) + 2NaOH(aq) + 3H2O(l) -> 2NaAl(OH)4(aq)}$$  "
   ]
  },
  {
   "cell_type": "markdown",
   "metadata": {},
   "source": [
    "> **Requirements** \n",
    "> 1. Remember the trends of the acidity strength of hydrohalic acids and oxoacids. \n",
    "> 2. Remember the examples of salts those produce neutral, acidic or basic solutions. Know how to determine the acidity of a salt solution when both the cation and the anion hydrolyze. \n",
    "> 3. Remember the examples and properties of acidic, basic and amphoteric oxides. "
   ]
  },
  {
   "cell_type": "markdown",
   "metadata": {},
   "source": [
    "## 3. Lewis Acids and Bases\n",
    "\n",
    "##### <b>OpenStax</b> 15.2. <b>Brown</b> 16 Acid-Base Equilibria. 17. Additional Aspects of Aqueous Equilibria. #####\n",
    "\n",
    "A **Lewis Base** is a substance that can donate a pair of electrons;  \n",
    "A **Lewis Acid** is a substance that can accept a pair of electrons.  \n",
    "\n",
    "Learn how to recognize Lewis acids and bases from the following examples: \n",
    "\n",
    "<figure>\n",
    "<img src=\"https://openstax.org/resources/923653f2a690059e75cddb4a4eb31c9c530ed91c\" style = \"width: 400px\"/>\n",
    "<img src=\"https://openstax.org/resources/bb3e9f8ede3e8dc3cb99338783731e9d49fadfbd\" style = \"width: 500px\"/>\n",
    "<img src=\"https://openstax.org/resources/08fda900da4adae9b465ffbd0750849b67011026\" style = \"width: 500px\"/>  \n",
    "<figcaption><center>Examples of Lewis acids and bases.</center></figcaption>\n",
    "</figure>"
   ]
  },
  {
   "cell_type": "markdown",
   "metadata": {},
   "source": [
    "> **Requirements**  \n",
    "> 1. Understand the defination of Lewis acid and base. Recognize the Lewis acids and bases in reactions. "
   ]
  },
  {
   "cell_type": "markdown",
   "metadata": {},
   "source": [
    "## 4. pH Related Calculations\n",
    "\n",
    "##### <b>OpenStax</b> 14.2. pH and pOH- 14.5. Polyprotic Acids. <b>Brown</b> 16 Acid-Base Equilibria. 17. Additional Aspects of Aqueous Equilibria. #####\n",
    "** Calculate $\\ce{pH}$ and $\\ce{pOH}$ from $[\\ce{H+}]$ or $[\\ce{OH-}]$**  \n",
    "Remember $[\\ce{H+}][\\ce{OH-}]=1.0\\times10^{-14}$ and $\\ce{pH}+\\ce{pOH} = 14$. Knowing the value of one of the following: $\\ce{pH}$, $\\ce{pOH}$, $[\\ce{H+}]$ and$[\\ce{OH-}]$, all other three values can be calculated. \n",
    "\n",
    "**Strong acids and strong bases**  \n",
    "Strong acids and strong bases ionize completely in water.  \n",
    "* For an acid $\\ce{HA}$, the concentration of $\\ce{H+}$ equals the initial concentration of $\\ce{HA}$.  \n",
    "* For a base $\\ce{BOH}$, the concentration of $\\ce{OH-}$ equals the initial concentration of $\\ce{BOH}$. For an acid $\\ce{B(OH)2}$, the concentration of $\\ce{OH-}$ equals DOUBLE of the initial concentration of $\\ce{B(OH)2}$.\n",
    "\n",
    "**Weak acids and weak bases**  \n",
    "Weak acids and weak bases ionize partially in water. 　\n",
    "The concentration of $\\ce{H+}$ depends on the initial concentraion of $\\ce{HA}$ and the value of $K_a$. \n",
    "\\begin{align*}\n",
    "& \\ce{HA(aq) + H2O(l) <=> H3O+(aq) + A- (aq)} \\quad K_a = \\frac{[\\ce{H3O+}][\\ce{A-}]}{[\\ce{HA}]}\\\\\n",
    "\\end{align*}\n",
    "or\n",
    "\\begin{align*}\n",
    "& \\ce{HA(aq) <=> H+(aq) + A- (aq)}\\quad K_a=\\frac{[\\ce{H+}][\\ce{A-}]}{[\\ce{HA}]}\n",
    "\\end{align*}\n",
    "\n",
    "**Percent Ionization**  \n",
    "\\begin{align*}\n",
    "& \\text{percent ionization}\\\\\n",
    "& =\\frac{\\text{ionized acid concentration at equilibrium}}{\\text{initial concentration of acid}}\\times 100\\%\n",
    "\\end{align*}"
   ]
  },
  {
   "cell_type": "markdown",
   "metadata": {},
   "source": [
    "<div class=example> \n",
    "    \n",
    "<b>Example:</b> Calculate the pH of 0.50 M HF solution at 25 $^\\circ$C ($K_a = 7.1\\times 10^{-4}$) <br>\n",
    "\n",
    "<b>Answer:</b> <br>\n",
    "Step 1. ICE Table:  \n",
    "<table class=\"tg\">\n",
    " <col width=\"150\">\n",
    " <col width=\"120\">\n",
    " <col width=\"120\">\n",
    " <col width=\"120\">\n",
    "  <tr>\n",
    "    <th class=\"tg-031e\"></th>\n",
    "    <th class=\"tg-031e\">$\\ce{HF}$</th>\n",
    "    <th class=\"tg-031e\">$\\ce{H+}$</th>\n",
    "    <th class=\"tg-031e\">$\\ce{F-}$</th>\n",
    "  </tr>\n",
    "  <tr>\n",
    "    <td class=\"tg-031e\">Initial (M): </td>\n",
    "    <td class=\"tg-031e\">$0.50$</td>\n",
    "    <td class=\"tg-031e\">$0$</td>\n",
    "    <td class=\"tg-031e\">$0$</td>\n",
    "  </tr>\n",
    "  <tr>\n",
    "    <td class=\"tg-031e\">Change (M): </td>\n",
    "    <td class=\"tg-031e\">$-x$</td>\n",
    "    <td class=\"tg-031e\">$+x$</td>\n",
    "    <td class=\"tg-031e\">$+x$</td>\n",
    "  </tr>\n",
    "  <tr>\n",
    "    <td class=\"tg-031e\">Equilibrium (M): </td>\n",
    "    <td class=\"tg-031e\">$(0.50-x)$</td>\n",
    "    <td class=\"tg-031e\">$x$</td>\n",
    "    <td class=\"tg-031e\">$x$</td>\n",
    "  </tr>\n",
    "</table>\n",
    "Step 2. Calculate $x$ \n",
    "$$K_a = \\frac{x\\cdot x}{0.50-x}=7.0\\times 10^{-4}$$  \n",
    "$$x = 0.0184\\,\\text{M}$$  \n",
    "Step 3. Calculate pH  \n",
    "$$[\\ce{H+}] = 0.0184\\,\\text{M}$$  \n",
    "$$\\ce{pH}=-\\log (0.0184) =1.74$$    \n",
    "    \n",
    "</div> "
   ]
  },
  {
   "cell_type": "markdown",
   "metadata": {},
   "source": [
    "The concentration of $\\ce{OH-}$ depends on the initial concentraion of the base and the value of $K_b$. Such as:  \n",
    "$$\\ce{NH3(aq) + H2O(l) <=> NH4+ (aq) + OH- (aq)}$$  \n",
    "$$K_b = \\frac{[\\ce{NH4+}][\\ce{OH-}]}{[\\ce{NH3}]}$$  "
   ]
  },
  {
   "cell_type": "markdown",
   "metadata": {},
   "source": [
    "<div class=example> \n",
    "    \n",
    "<b>Example:</b> What is the pH of a 0.40 M ammonia solution?  <br>\n",
    "\n",
    "<b>Answer:</b> <br>\n",
    "    \n",
    "Step 1. ICE Table:   \n",
    "\n",
    "<table class=\"tg\">\n",
    " <col width=\"150\">\n",
    " <col width=\"120\">\n",
    " <col width=\"120\">\n",
    " <col width=\"120\">\n",
    "  <col width=\"120\">\n",
    "  <tr>\n",
    "    <th class=\"tg-031e\"></th>\n",
    "    <th class=\"tg-031e\">$\\ce{NH3}$</th>\n",
    "    <th class=\"tg-031e\">$\\ce{H2O}$</th>\n",
    "    <th class=\"tg-031e\">$\\ce{NH4+}$</th>\n",
    "    <th class=\"tg-yw4l\">$\\ce{OH-}$</th>\n",
    "  </tr>\n",
    "  <tr>\n",
    "    <td class=\"tg-031e\">Initial (M): </td>\n",
    "    <td class=\"tg-031e\">$0.40$</td>\n",
    "    <td class=\"tg-031e\">N/A</td>\n",
    "    <td class=\"tg-031e\">$0$</td>\n",
    "    <td class=\"tg-yw4l\">$0$</td>\n",
    "  </tr>\n",
    "  <tr>\n",
    "    <td class=\"tg-031e\">Change (M): </td>\n",
    "    <td class=\"tg-031e\">$-x$</td>\n",
    "    <td class=\"tg-031e\">N/A</td>\n",
    "    <td class=\"tg-031e\">$+x$</td>\n",
    "    <td class=\"tg-yw4l\">$+x$</td>\n",
    "  </tr>\n",
    "  <tr>\n",
    "    <td class=\"tg-031e\">Equilibrium (M): </td>\n",
    "    <td class=\"tg-031e\">$(0.40-x)$</td>\n",
    "    <td class=\"tg-031e\">N/A</td>\n",
    "    <td class=\"tg-031e\">$x$</td>\n",
    "    <td class=\"tg-yw4l\">$x$</td>\n",
    "  </tr>\n",
    "</table>\n",
    "Step 2. Calculate $x$ \n",
    "$$K_b = \\frac{x\\cdot x}{0.40-x}=1.8\\times 10^{-5}$$  \n",
    "$$x = 0.00267\\,\\text{M}$$  \n",
    "Step 3. Calculate pH  \n",
    "$$[\\ce{OH-}] = 0.00267\\,\\text{M}$$  \n",
    "$$\\ce{pH}=14-(-\\log (0.00267) )=11.43$$\n",
    "</div>     "
   ]
  },
  {
   "cell_type": "code",
   "execution_count": 2,
   "metadata": {},
   "outputs": [
    {
     "data": {
      "text/plain": [
       "[-0.0190615605976626, 0.0183615605976626]"
      ]
     },
     "execution_count": 2,
     "metadata": {},
     "output_type": "execute_result"
    }
   ],
   "source": [
    "from sympy import *\n",
    "x,y= symbols('x y')\n",
    "# Solve an equation to get the value of x\n",
    "# 1. In calculation of the pH of a HF solution\n",
    "# You can go to the website [http://live.sympy.org/] \n",
    "# and try the following codes\n",
    "Ka = 0.0007\n",
    "C0=0.5\n",
    "solve(Ka*(C0-x)-x**2)\n",
    "# Ignore the nagtive value. "
   ]
  },
  {
   "cell_type": "code",
   "execution_count": 3,
   "metadata": {},
   "outputs": [
    {
     "data": {
      "text/plain": [
       "[-0.00269229666641615, 0.00267429666641615]"
      ]
     },
     "execution_count": 3,
     "metadata": {},
     "output_type": "execute_result"
    }
   ],
   "source": [
    "# 2. In calculatation of  the pH of an ammonia solution\n",
    "Kb=0.000018\n",
    "C0=0.4\n",
    "solve(Kb*(C0-x)-x**2)\n",
    "# Ignore the nagtive value. "
   ]
  },
  {
   "cell_type": "markdown",
   "metadata": {},
   "source": [
    "### Diprotic and Polyprotic Acids\n",
    "As discussed above, diprotic and polyprotic acids Ionize in a stepwise manner. Each step corresponds to an equilibrium constant. To understand the method to calculate the pH and the concentrations of all species, see the following example. "
   ]
  },
  {
   "cell_type": "markdown",
   "metadata": {},
   "source": [
    "<div class=example> \n",
    "    \n",
    "<b>Example:</b> Calculate the concentrations of all the species present at equilibrium in a 0.10 M solution of $\\ce{H2C2O4}$ ($K_{a_1} = 6.5\\times 10^{-2}$ and $K_{a_2} = 6.1\\times 10^{-5}$). <br>\n",
    "\n",
    "<b>Answer:</b> <br>\n",
    "\n",
    "Usually, the equilibrium constants of the later steps are much smaller than those of the early steps. $[\\ce{H+}]$ mainly depends on the first step. \n",
    "    \n",
    "Step 1. ICE table for the first step ionization(similar as examples above).  \n",
    "Step 2. Calculate $x$. \n",
    "$$K_a = \\frac{x\\cdot x}{0.10-x}=6.5\\times 10^{-2}$$  \n",
    "$$x =0.0544 \\,\\text{M}$$  \n",
    "Step 3. equilibrium concentrations after first step ionization.  \n",
    "$$\\begin{align*}\n",
    "& [\\ce{H+}]=0.054\\,\\text{M} \\\\\n",
    "& [\\ce{HC2O4-}]=0.054\\,\\text{M} \\\\\n",
    "& [\\ce{H2C2O4}]=(0.10-0.054)\\,\\text{M}=0.046\\,\\text{M}\n",
    "\\end{align*}$$  \n",
    "Step 4. ICE table for the second step ionization  \n",
    "\n",
    "<table class=\"tg\">\n",
    " <col width=\"150\">\n",
    " <col width=\"120\">\n",
    " <col width=\"120\">\n",
    " <col width=\"120\">\n",
    "  <tr>\n",
    "    <th class=\"tg-031e\"></th>\n",
    "    <th class=\"tg-031e\">$\\ce{HC2O4-}$</th>\n",
    "    <th class=\"tg-031e\">$\\ce{H+}$</th>\n",
    "    <th class=\"tg-031e\">$\\ce{C2O4^2-}$</th>\n",
    "  </tr>\n",
    "  <tr>\n",
    "    <td class=\"tg-031e\">Initial (M): </td>\n",
    "    <td class=\"tg-031e\">$0.054$</td>\n",
    "    <td class=\"tg-031e\">$0.054$</td>\n",
    "    <td class=\"tg-031e\">$0$</td>\n",
    "  </tr>\n",
    "  <tr>\n",
    "    <td class=\"tg-031e\">Change (M): </td>\n",
    "    <td class=\"tg-031e\">$-y$</td>\n",
    "    <td class=\"tg-031e\">$+y$</td>\n",
    "    <td class=\"tg-031e\">$+y$</td>\n",
    "  </tr>\n",
    "  <tr>\n",
    "    <td class=\"tg-031e\">Equilibrium (M): </td>\n",
    "    <td class=\"tg-031e\">$(0.054-y)$</td>\n",
    "    <td class=\"tg-031e\">$(0.054-y)$</td>\n",
    "    <td class=\"tg-031e\">$y$</td>\n",
    "  </tr>\n",
    "</table>  \n",
    "\n",
    "Step 5. Calculate $y$.  \n",
    "$$K_{a_2}=\\frac{[\\ce{H+}][\\ce{C2O4^2-}]}{[\\ce{HC2O4-}]}=\\frac{(0.054+y)\\times y}{0.054-y}=6.1\\times 10^{-5}$$  \n",
    "$$y=6.1\\times 10^{-5}$$  \n",
    "Step 6. Calculate the concentrations after second step ionization.  \n",
    "$$\\begin{align*}\n",
    "& [\\ce{H2C2O4}]=0.046\\,\\text{M} \\\\\n",
    "& [\\ce{HC2O4-}]=(0.054-6.1\\times 10^{-5})=0.054\\,\\text{M} \\\\\n",
    "& [\\ce{H+}]=(0.054+6.1\\times 10^{-5})=0.054\\,\\text{M} \\\\\n",
    "& [\\ce{C2O4^{2-}}]=6.1\\times 10^{-5}\\,\\text{M} \\\\\n",
    "& [\\ce{OH-}]=1.0\\times 10^{-14}/0.054=1.9\\times 10^{-13}\n",
    "\\end{align*}$$\n",
    "    \n",
    "</div> "
   ]
  },
  {
   "cell_type": "code",
   "execution_count": 4,
   "metadata": {},
   "outputs": [
    {
     "data": {
      "text/plain": [
       "[-0.119426693253569, 0.0544266932535686]"
      ]
     },
     "execution_count": 4,
     "metadata": {},
     "output_type": "execute_result"
    }
   ],
   "source": [
    "Ka1=0.065\n",
    "C0=0.1\n",
    "solve(Ka1*(C0-x)-x**2)"
   ]
  },
  {
   "cell_type": "code",
   "execution_count": 5,
   "metadata": {},
   "outputs": [
    {
     "data": {
      "text/plain": [
       "[-0.0541218626502987, 6.08626502987110e-5]"
      ]
     },
     "execution_count": 5,
     "metadata": {},
     "output_type": "execute_result"
    }
   ],
   "source": [
    "Ka2=0.000061\n",
    "C1=0.054\n",
    "solve(Ka2*(C1-y)-(C1+y)*y)"
   ]
  },
  {
   "cell_type": "markdown",
   "metadata": {},
   "source": [
    "### Calculate  pH  of a salt solution\n",
    "\n",
    "As discussed above, an anion from a weak acid or a cation from a weak base can hydrolyze in water to generate either $\\ce{OH-}$ or $\\ce{H+}$. "
   ]
  },
  {
   "cell_type": "markdown",
   "metadata": {},
   "source": [
    "<div class=example> \n",
    "    \n",
    "<b>Example:</b>Calculate the pH of a 0.24 M sodium formate solution ($\\ce{CH3COONa}$). <br>\n",
    "\n",
    "<b>Answer:</b> <br>\n",
    "    \n",
    "First, $\\ce{CH3COONa}$ would completely ionize to generate 0.24 M $\\ce{CH3COO-}$ and 0.24 M $\\ce{Na+}$.  \n",
    "Secondly, $\\ce{CH3COO-}$ would hydrolize with an equilibrium constant $K_b = 5.6\\times 10^{-10}$. This becomes a question of equilibrium concentrations. Draw the \"ICE\" table and get the following equation: \n",
    "$$K_b = 5.6\\times 10^{-10} = \\frac{[\\ce{CH3COOH}][\\ce{OH-}]}{[\\ce{CH3COO-}]} = \\frac{x^2}{0.24-x}$$  \n",
    "$$[\\ce{OH-}]=x= 1.16\\times 10^{-5}$$  \n",
    "$$\\ce{pH}=14-(-\\log [\\ce{OH-}])=9.1$$\n",
    "    \n",
    "</div> "
   ]
  },
  {
   "cell_type": "code",
   "execution_count": 6,
   "metadata": {},
   "outputs": [
    {
     "data": {
      "text/plain": [
       "[-1.15933814003329e-5, 1.15928214003329e-5]"
      ]
     },
     "execution_count": 6,
     "metadata": {},
     "output_type": "execute_result"
    }
   ],
   "source": [
    "Kb= 0.00000000056\n",
    "C0= 0.24\n",
    "solve(Kb*(C0-x)-x**2)"
   ]
  },
  {
   "cell_type": "markdown",
   "metadata": {},
   "source": [
    "### Correlation between $K_a$ and $K_b$ of conjugate acid-base \n",
    "$$K_aK_b=K_w$$"
   ]
  },
  {
   "cell_type": "markdown",
   "metadata": {},
   "source": [
    "> **Requirements**  \n",
    "> 1. Calculate $\\ce{pH}$ and $\\ce{pOH}$ from $[\\ce{H+}]$ or $[\\ce{OH-}]$;  \n",
    "> 2. Calculate $\\ce{pH}$ for a given concentration of a strong acid or a strong base; \n",
    "> 3. Calculate $\\ce{pH}$ for a given concentration of a weak acid ($K_a$) or a weak base ($K_b$);  \n",
    "> 4. Calculate the concentrations of ions for a given concentration of a weak diprotic acid ($K_a$);  \n",
    "> 5. Calculate $\\ce{pH}$ of a salt solution. \n",
    "> 6. Remember the correlation between $K_a$ and $K_b$ of conjugate acid-base. "
   ]
  },
  {
   "cell_type": "markdown",
   "metadata": {},
   "source": [
    "<div class=practice>\n",
    "    \n",
    "<b>Practice</b> <br>\n",
    "\n",
    "1. Calculate the concentrations of $[\\ce{H+}]$ and $[\\ce{OH-}]$ and the $\\ce{pH}$ and $\\ce{pOH}$ values for a solution of NaOH with the concentration of 0.00246 M. (Answer: pH = 11.4, pOH = 2.61, [H$^+$]=$4.06\\times 10^{-12}$ M, [OH$^-$]=0.00246 M.)<br>\n",
    "    \n",
    "2. Calculate the concentrations of $[\\ce{H+}]$ and $[\\ce{OH-}]$ and the $\\ce{pH}$ and $\\ce{pOH}$ values for a solution of HCl with the concentration of 0.0431 M. (Answer: pH = 1.36, pOH = 12.6, [OH$^-$]=$2.32\\times 10^{-13}$ M, [H$^+$]=0.0431 M.)<br>\n",
    "\n",
    "3. Calculate the $\\ce{pH}$ of a weak acid ($\\ce{HA <=> H+ + A-}$) solution with the concentration of 0.000147 M and $K_a=1.43\\times10^{-3}$. (Answer: pH = 3.87)<br>\n",
    "    \n",
    "4. Calculate the $\\ce{pH}$ of a weak base ($\\ce{BOH <=> B- + OH-}$) solution with the concentration of 0.00346 M and $K_b=7.22\\times10^{-5}$. (Answer: pH = 10.67) <br> \n",
    "    \n",
    "5. Calculate the $\\ce{pH}$ of a $\\ce{NH4Br}$ solution with the concentration of 0.0518 M, knowing $K_b=1.8\\times10^{-5}$ for $\\ce{NH3}$. (Answer: pH = 5.86)<br>    \n",
    "    \n",
    "6. Identify the conjugate acid-base pairs in the following reactions. <br>\n",
    "\\begin{align*}\n",
    "& \\ce{HNO3 + H2O <=> H3O+ + NO3-}\\\\\n",
    "& \\ce{H2S + NH2- <=> HS- + NH3}\\\\\n",
    "& \\ce{H2SO4 + Cl- <=> HCl + HSO4-}\\\\\n",
    "& \\ce{O^{2-} + H2O <=> 2OH-}\\\\\n",
    "\\end{align*}    \n",
    "    \n",
    "7. Compare the strength of each pair of acids: <br>\n",
    "\\begin{align*}\n",
    "& \\ce{H2O}\\text{ and }\\ce{HF}\\\\\n",
    "& \\ce{HCl}\\text{ and }\\ce{HI}\\\\\n",
    "& \\ce{HBrO2}\\text{ and }\\ce{HBrO3}\\\\\n",
    "& \\ce{H2SO3}\\text{ and }\\ce{H2SO4}\\\\\n",
    "\\end{align*} \n",
    "    \n",
    "8. Identify which salts will produce acidic solutions in water, which will be basic, and which will be neutral? <br>\n",
    "\\begin{align*}\n",
    "& \\ce{NaBr}\\\\\n",
    "& \\ce{KNO3}\\\\\n",
    "& \\ce{NaF}\\\\\n",
    "& \\ce{NH4Cl}\\\\\n",
    "\\end{align*}\n",
    "    \n",
    "9. Complete the following reactions (oxide + acid or oxide + base) <br>\n",
    "\\begin{align*}\n",
    "& \\ce{MgO + H2SO4 -> ?}\\\\\n",
    "& \\ce{SO3 + KOH -> ?}\\\\\n",
    "\\end{align*}\n",
    "    \n",
    "10. Identify the Lewis acid and Lewis base in each of the following reactions. <br>    \n",
    "\\begin{align*}\n",
    "& \\ce{CO2 + OH- -> HCO3-}\\\\\n",
    "& \\ce{AlCl3 + Cl- -> AlCl4-}\\\\\n",
    "\\end{align*}\n",
    "    \n",
    "</div>    "
   ]
  },
  {
   "cell_type": "markdown",
   "metadata": {},
   "source": [
    "---"
   ]
  },
  {
   "cell_type": "code",
   "execution_count": 7,
   "metadata": {},
   "outputs": [
    {
     "data": {
      "text/html": [
       "<link href=\"https://fonts.googleapis.com/css?family=Lora:400,400i,700,700i|Open+Sans:400,400i|Raleway:400,400i,700,700i\" rel=\"stylesheet\" type='text/css'>\n",
       "<style  type=\"text/css\">\n",
       "div.text_cell_render {\n",
       "\tfont-family: Lora, serif;\n",
       "\tcolor: #222222;\n",
       "}\n",
       ".text_cell_render p {\n",
       "\tpadding-left: 1.5em;\n",
       "\ttext-align: justify;\n",
       "}\n",
       ".text_cell_render h3, h4, h6 {\n",
       "\tfont-family: Raleway, sans-serif;\n",
       "\tcolor: #005c99;\n",
       "}\n",
       ".text_cell_render h1 {\n",
       "\tfont-family: \"Open Sans\", sans-serif;\n",
       "\tfont-weight: 700;\n",
       "\tmargin: auto;\n",
       "\tdisplay: block;\n",
       "}\n",
       ".text_cell_render h2 {\n",
       "\tfont-family: Raleway, sans-serif;\n",
       "\tfont-weight: 700; \n",
       "\tmargin-top: 50px;\n",
       "\tdisplay:inline-block;\n",
       "\tpadding: 10px 15px;\n",
       "\tbackground-color: #007acc;\n",
       "\tcolor: #f8f8f8;\n",
       "\tborder-radius: 10px 40px 10px 40px;\n",
       "\tletter-spacing: 3px;\n",
       "\tfont-variant: small-caps;\n",
       "}\n",
       ".text_cell_render h5 {\n",
       "\tfont-family: \"Open Sans\", sans-serif;\n",
       "\tfont-weight: 400;\n",
       "\tborder-style: groove;\n",
       "\tpadding:0.5em 0.5em 0.5em 0.5em;\n",
       "\tmargin: 1em 0 1em 0;\n",
       "\tline-height: 1.6;\n",
       "}\n",
       "div #notebook {\n",
       "\tbackground-color: #f8f8f8;\n",
       "\twidth: 1110px;\t\n",
       "\tmargin: auto;\n",
       "\tpadding-left: 0em;\n",
       "\tborder: 3px solid #cbd3e5; \n",
       "\tbox-shadow: 0px 0px 7px 1px #cccccc;\n",
       "}\n",
       "div.example {\n",
       "    background-color:#007acc;\n",
       "    color: #ffffff;\n",
       "    margin: auto;\n",
       "    width: 100%; \n",
       "\tpadding: 1.4em; \n",
       "\tborder: 3px solid #007acc; \n",
       "\tborder-radius: 10px; \n",
       "\tmargin-bottom: 14px; \n",
       "\tmargin-top: 14px;  \n",
       "\tbox-shadow: 7px 7px 5px #cccccc; \n",
       "\toverflow: hidden;\n",
       "}\n",
       "div.practice {\n",
       "    background-color:#fbfbfb;\n",
       "    color: #007acc;\n",
       "    margin: auto;\n",
       "    width: 100%; \n",
       "\tpadding: 1.4em; \n",
       "\tborder: 3px solid #eeeeee; \n",
       "\tborder-radius: 10px; \n",
       "\tmargin-bottom: 14px; \n",
       "\tmargin-top: 14px;  \n",
       "\tbox-shadow: 7px 7px 5px #cccccc; \n",
       "\toverflow: hidden;\n",
       "}\n",
       "div #notebook-container {\n",
       "\tbackground-color: #ffffff;\n",
       "\tfont-size: 1.5em; \n",
       "\tline-height: 1.6;\n",
       "\twidth: 1100px;\n",
       "\tmargin: auto;\n",
       "\tpadding-right: 150px;\n",
       "}\n",
       ".CodeMirror-code {\n",
       "\tfont-size: 1.2em;\n",
       "\tline-height: 125%;\n",
       "\topacity: 0.9;\n",
       "}\n",
       "\n",
       ".text_cell_render td {\n",
       "    border-style: hidden;\n",
       "}\n",
       ".text_cell_render table {\n",
       "    border-style: hidden;\n",
       "\tborder-collapse: collapse;\n",
       "\twidth: 100%;\n",
       "    font-size: 80%;\n",
       "}\n",
       "\n",
       ".text_cell_render th, td {\n",
       "\tpadding: 8px;\n",
       "}\n",
       "\n",
       ".text_cell_render tr:nth-child(even){background-color: #e8e8e8}\n",
       "\n",
       ".text_cell_render th {\n",
       "    border-style: hidden;\n",
       "\tbackground-color: #004c80;\n",
       "\tcolor: #f8f8f8;\n",
       "}\n",
       "table td, table th, table tr {\n",
       "    text-align:left !important;\n",
       "}\n",
       "</style>"
      ],
      "text/plain": [
       "<IPython.core.display.HTML object>"
      ]
     },
     "execution_count": 7,
     "metadata": {},
     "output_type": "execute_result"
    }
   ],
   "source": [
    "from IPython.core.display import HTML\n",
    "def css_styling():\n",
    "    styles = open(\"custom.css\", \"r\").read()\n",
    "    return HTML(styles)\n",
    "css_styling()"
   ]
  },
  {
   "cell_type": "code",
   "execution_count": 8,
   "metadata": {},
   "outputs": [
    {
     "data": {
      "text/html": [
       "<p>Copyright (C) 2021 Yu Wang</p>\n",
       "\n",
       "<p><a rel=\"license\" href=\"http://creativecommons.org/licenses/by/4.0/\"><img alt=\"Creative Commons License\" style=\"border-width:0\" src=\"https://i.creativecommons.org/l/by/4.0/88x31.png\" /></a><br />This work is licensed under a <a rel=\"license\" href=\"http://creativecommons.org/licenses/by/4.0/\">Creative Commons Attribution 4.0 International License</a>.</p>\n",
       "\n",
       "<p>Contact: Dr. Yu Wang<br>\n",
       "Department of Chemistry<br>\n",
       "Institute for Materials Research and Innovation<br>\n",
       "University of Louisiana at Lafayette<br>\n",
       "Lafayette, LA 70504<br>\n",
       "Email: yuwang@louisiana.edu</p>\n"
      ],
      "text/plain": [
       "<IPython.core.display.HTML object>"
      ]
     },
     "execution_count": 8,
     "metadata": {},
     "output_type": "execute_result"
    }
   ],
   "source": [
    "import requests\n",
    "copyright = requests.get(\"https://raw.githubusercontent.com/wangyu16/GeneralChemistry/master/copyright.md\")\n",
    "HTML(copyright.text)"
   ]
  }
 ],
 "metadata": {
  "anaconda-cloud": {},
  "kernelspec": {
   "display_name": "Python 3 (ipykernel)",
   "language": "python",
   "name": "python3"
  },
  "language_info": {
   "codemirror_mode": {
    "name": "ipython",
    "version": 3
   },
   "file_extension": ".py",
   "mimetype": "text/x-python",
   "name": "python",
   "nbconvert_exporter": "python",
   "pygments_lexer": "ipython3",
   "version": "3.8.13"
  },
  "latex_envs": {
   "bibliofile": "biblio.bib",
   "cite_by": "apalike",
   "current_citInitial": 1,
   "eqLabelWithNumbers": true,
   "eqNumInitial": 0
  }
 },
 "nbformat": 4,
 "nbformat_minor": 1
}
