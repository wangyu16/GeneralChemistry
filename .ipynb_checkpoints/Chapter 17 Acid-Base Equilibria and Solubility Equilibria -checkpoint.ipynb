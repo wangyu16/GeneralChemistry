{
 "cells": [
  {
   "cell_type": "markdown",
   "metadata": {},
   "source": [
    "$$\\require{mhchem}$$\n",
    "\n",
    "### [HOME](https://wangyu16.github.io/GeneralChemistry/)\n",
    "\n",
    "# <center>General Chemistry Study Guide</center>\n",
    "\n",
    "### <center>Chapter 17. Acid-Base Equilibria and Solubility Equilibria</center>\n",
    "\n",
    "---\n",
    "\n",
    "*<center>Yu Wang</center>*"
   ]
  },
  {
   "cell_type": "markdown",
   "metadata": {},
   "source": [
    "## 1. Buffer Solutions\n",
    "\n",
    "##### <b>OpenStax</b> 14.6. Buffers. <b>Brown</b> 16 Acid-Base Equilibria. 17. Additional Aspects of Aqueous Equilibria. #####\n",
    "\n",
    "A solution containing appreciable amounts of **a weak conjugate acid-base pair** is called a **buffer** solution. The solution has the ability to resist changes in $\\ce{pH}$ upon the addition of small amounts of either acid or base. Usually, a buffer solution can be prepared by using a weak acid or a weak base, and it's salt.\n",
    "\n",
    "Why a buffer solution can resist changes in $\\ce{pH}$?  \n",
    "Because both acid and base coexist in a buffer solution under equilibrium. The acid can react with any added $\\ce{OH-}$ and the base can react with any added $\\ce{H+}$.  \n",
    "An example is a solution with comparable amounts of $\\ce{CH3COOH}$ and $\\ce{CH3COONa}$. $\\ce{CH3COONa}$ ionize completely in water to give:  \n",
    "$$\\ce{CH3COONa ->[\\ce{H2O}] CH3COO- (aq) + Na+ (aq)}$$  \n",
    "If an acid is added, $\\ce{H+}$ will be consumed by $\\ce{CH3COO-}$  \n",
    "$$\\ce{CH3COO- (aq) + H+ (aq) -> CH3COOH (aq)}$$  \n",
    "If a base is added, $\\ce{OH-}$ will be consumed by $\\ce{CH3COOH}$  \n",
    "$$\\ce{CH3COOH(aq) + OH- (aq) -> CH3COO- (aq) + H2O (l)}$$  \n",
    "This buffer system can be written as either $\\ce{CH3COONa/CH3COOH}$ or $\\ce{CH3COO- /CH3COOH}$.\n",
    "\n",
    "<img src=\"https://openstax.org/resources/69d775f487a8032656110e087a7409eb50d4c373\" />"
   ]
  },
  {
   "cell_type": "markdown",
   "metadata": {},
   "source": [
    "**Calculate the $\\ce{pH}$ of a Buffer System**  "
   ]
  },
  {
   "cell_type": "markdown",
   "metadata": {},
   "source": [
    "<div class=example> \n",
    "    \n",
    "<b>Example:</b> (a) Calculate the pH of a buffer system containing 1.0 M $\\ce{CH3COOH}$ and 1.0 M $\\ce{CH3COONa}$.<br>\n",
    "\n",
    "<b>Answer:</b> <br>\n",
    "    \n",
    "Strategy: Note the initial concentrations of $\\ce{CH3COOH}$ and $\\ce{CH3COO-}$ are both 1.0 M. Then use ICE table and write the equation of $K_a$ under equilibrium.     \n",
    "\n",
    "\\begin{align*}\n",
    "    \\ce{CH3COOH <=> CH3COO- + H+}\n",
    "\\end{align*}    \n",
    "    \n",
    "ICE table\n",
    "\n",
    "<table class=\"tg\">\n",
    " <col width=\"150\">\n",
    " <col width=\"120\">\n",
    " <col width=\"120\">\n",
    " <col width=\"120\">\n",
    "  <tr>\n",
    "    <th class=\"tg-031e\"></th>\n",
    "    <th class=\"tg-031e\">$\\ce{CH3COOH}$</th>\n",
    "    <th class=\"tg-031e\">$\\ce{H+}$</th>\n",
    "    <th class=\"tg-031e\">$\\ce{CH3COO-}$</th>\n",
    "  </tr>\n",
    "  <tr>\n",
    "    <td class=\"tg-031e\">Initial (M): </td>\n",
    "    <td class=\"tg-031e\">$1.0$</td>\n",
    "    <td class=\"tg-031e\">$0$</td>\n",
    "    <td class=\"tg-031e\">$1.0$</td>\n",
    "  </tr>\n",
    "  <tr>\n",
    "    <td class=\"tg-031e\">Change (M): </td>\n",
    "    <td class=\"tg-031e\">$-x$</td>\n",
    "    <td class=\"tg-031e\">$+x$</td>\n",
    "    <td class=\"tg-031e\">$+x$</td>\n",
    "  </tr>\n",
    "  <tr>\n",
    "    <td class=\"tg-031e\">Equilibrium (M): </td>\n",
    "    <td class=\"tg-031e\">$(1.0-x)$</td>\n",
    "    <td class=\"tg-031e\">$x$</td>\n",
    "    <td class=\"tg-031e\">$(1.0+x)$</td>\n",
    "  </tr>\n",
    "</table>\n",
    "    \n",
    "$$K_a=\\frac{[\\ce{H+}][\\ce{CH3COO-}]}{[\\ce{CH3COOH}]}=\\frac{x(1.0+x)}{1.0-x}=1.8\\times 10^{-5}$$  \n",
    "Solve the equation and get $x=[\\ce{H+}]=1.8\\times 10^{-5}\\,\\text{M}$  \n",
    "Thus $\\ce{pH}=-\\log (1.8\\times 10^{-5})=4.74$\n",
    "    \n",
    "</div>  "
   ]
  },
  {
   "cell_type": "code",
   "execution_count": 2,
   "metadata": {},
   "outputs": [
    {
     "data": {
      "text/plain": [
       "[-1.00003599935203, 1.79993520349897e-5]"
      ]
     },
     "execution_count": 2,
     "metadata": {},
     "output_type": "execute_result"
    }
   ],
   "source": [
    "from sympy import *\n",
    "x= symbols('x')\n",
    "solve(x*(1.0+x)/(1.0-x)-1.8e-5)\n",
    "# Ignore the nagtive value. "
   ]
  },
  {
   "cell_type": "markdown",
   "metadata": {},
   "source": [
    "<div class=example> \n",
    "    \n",
    "<b>Example:</b> (b) Calculate the $\\ce{pH}$ of this system in the above question after adding of 0.10 mole of $\\ce{HCl}$ to 1.0 L of this buffer solution.<br>\n",
    "\n",
    "<b>Answer:</b> <br>\n",
    "\n",
    "Stragegy: (1) $\\ce{HCl}$ ionize completely to release equal amount of $\\ce{H+}$ and $\\ce{Cl-}$; (2) Assume $\\ce{CH3COO-}$ react with all $\\ce{H+}$, calculate $[\\ce{CH3COO-}]$ and $[\\ce{CH3COOH}]$; (3) Calculate the equilibrium concentration of $\\ce{H+}$ after partial ionization of $\\ce{CH3COOH}$. \n",
    "\n",
    "After addition of $\\ce{HCl}$, the concentration of $\\ce{CH3COO-}$ becomes $1.0-0.1=0.9$ M; the concentration of $[\\ce{CH3COOH}]$ becomes $1.0+0.1=1.1$ M.\n",
    "\n",
    "\\begin{align*}\n",
    "    \\ce{CH3COOH <=> CH3COO- + H+}\n",
    "\\end{align*}     \n",
    "    \n",
    "ICE table\n",
    "    \n",
    "<table class=\"tg\">\n",
    " <col width=\"150\">\n",
    " <col width=\"120\">\n",
    " <col width=\"120\">\n",
    " <col width=\"120\">\n",
    "  <tr>\n",
    "    <th class=\"tg-031e\"></th>\n",
    "    <th class=\"tg-031e\">$\\ce{CH3COOH}$</th>\n",
    "    <th class=\"tg-031e\">$\\ce{H+}$</th>\n",
    "    <th class=\"tg-031e\">$\\ce{CH3COO-}$</th>\n",
    "  </tr>\n",
    "  <tr>\n",
    "    <td class=\"tg-031e\">Initial (M): </td>\n",
    "    <td class=\"tg-031e\">$1.1$</td>\n",
    "    <td class=\"tg-031e\">$0$</td>\n",
    "    <td class=\"tg-031e\">$0.9$</td>\n",
    "  </tr>\n",
    "  <tr>\n",
    "    <td class=\"tg-031e\">Change (M): </td>\n",
    "    <td class=\"tg-031e\">$-x$</td>\n",
    "    <td class=\"tg-031e\">$+x$</td>\n",
    "    <td class=\"tg-031e\">$+x$</td>\n",
    "  </tr>\n",
    "  <tr>\n",
    "    <td class=\"tg-031e\">Equilibrium (M): </td>\n",
    "    <td class=\"tg-031e\">$(1.1-x)$</td>\n",
    "    <td class=\"tg-031e\">$x$</td>\n",
    "    <td class=\"tg-031e\">$(0.9+x)$</td>\n",
    "  </tr>\n",
    "</table>    \n",
    "    \n",
    "$$K_a=\\frac{[\\ce{H+}][\\ce{CH3COO-}]}{[\\ce{CH3COOH}]}=\\frac{x(0.90+x)}{1.1-x}=1.8\\times 10^{-5}$$  \n",
    "Solve the equation and get $x=[\\ce{H+}]=2.2\\times 10^{-5}\\,\\text{M}$  \n",
    "Thus $\\ce{pH}=- \\log (2.2\\times 10^{-5}) = 4.66$<br>\n",
    "\n",
    "Note: If you add same amount of $\\ce{HCl}$ to 1.0 L pure water, the $\\ce{pH}$ would decrease from $7$ to $1$!\n",
    "    \n",
    "</div>  "
   ]
  },
  {
   "cell_type": "code",
   "execution_count": 3,
   "metadata": {},
   "outputs": [
    {
     "data": {
      "text/plain": [
       "[-0.900039999022290, 2.19990222895745e-5]"
      ]
     },
     "execution_count": 3,
     "metadata": {},
     "output_type": "execute_result"
    }
   ],
   "source": [
    "solve(x*(0.9+x)/(1.1-x)-1.8e-5)\n",
    "# Ignore the nagtive value. "
   ]
  },
  {
   "cell_type": "markdown",
   "metadata": {},
   "source": [
    "**Preparing a Buffer Solution with a Specific $\\ce{pH}$**  \n",
    "\n",
    "$$\\ce{p}K_a=- \\log K_a$$  \n",
    "Because for an acid \n",
    "$$\\ce{acid <=> {conjugate base} + H+}$$\n",
    "the $K_a$ value equals\n",
    "$$K_a=\\frac{[\\text{conjugate base}][\\ce{H+}]}{[\\text{acid}]}$$  \n",
    "We have  \n",
    "$$[\\ce{H+}]=K_a\\times\\frac{[\\text{acid}]}{[\\text{conjugate base}]}$$\n",
    "Thus\n",
    "$$\\ce{pH}=\\ce{p}K_a - \\log\\frac{[\\text{acid}]}{[\\text{conjugate base}]}$$ \n",
    "or\n",
    "$$\\ce{pH}=\\ce{p}K_a + \\log\\frac{[\\text{conjugate base}]}{[\\text{acid}]}\\quad\\text{(1)}$$\n",
    "\n",
    "Use this equation to calculate the ratio between an acid and its conjugate base in order to prepare a buffer solution with a specific $\\ce{pH}$. \n",
    "\n",
    "*To prepare a buffer solution, we choose a weak acid whose $\\ce{p}K_a$ is close to the desired $\\ce{pH}$.* Thus the acid and its conjugate base would have comparable concentration in the buffer solution. "
   ]
  },
  {
   "cell_type": "markdown",
   "metadata": {},
   "source": [
    "<div class=example> \n",
    "    \n",
    "<b>Example:</b> (a) Calculate the pH of a buffer system containing 1.0 M $\\ce{CH3COOH}$ and 1.0 M $\\ce{CH3COONa}$. (b) Calculate the $\\ce{pH}$ of this system in the above question after adding of 0.10 mole of $\\ce{HCl}$ to 1.0 L of this buffer solution.<br>\n",
    "\n",
    "<b>Answer:</b> <br>\n",
    "This is the same question shown above. However, the calculation becomes much simpler using the new equation.\n",
    "    \n",
    "(a)\n",
    "    \n",
    "\\begin{align*}\n",
    "    \\ce{pH} & =\\ce{p}K_a + \\log\\frac{[\\ce{CH3COO-}]}{[\\ce{CH3COOH}]}\\\\\n",
    "    & = -\\log(1.8\\times10^{-5}) + \\log\\frac{1.0}{1.0}\\\\\n",
    "    & = 4.74\n",
    "\\end{align*} \n",
    "    \n",
    "(b)\n",
    "\n",
    "\\begin{align*}\n",
    "    \\ce{pH} & =\\ce{p}K_a + \\log\\frac{[\\ce{CH3COO-}]}{[\\ce{CH3COOH}]}\\\\\n",
    "    & = -\\log(1.8\\times10^{-5}) + \\log\\frac{1.0-0.1}{1.0+0.1}\\\\\n",
    "    & = 4.66\n",
    "\\end{align*}     \n",
    "    \n",
    "</div>    "
   ]
  },
  {
   "cell_type": "markdown",
   "metadata": {},
   "source": [
    "<div class=example> \n",
    "    \n",
    "<b>Example:</b> Calculate the pH of a buffer solution prepared from 0.155 mol of phosphoric acid, $\\ce{H3PO4}$, 0.250 mole of $\\ce{KH2PO4}$, and enough water to make 0.500 L of solution. (Phospohoric acid: $K_{a1}=7.5\\times10^{-3}$)<br>\n",
    "\n",
    "<b>Answer:</b> <br>\n",
    "    \n",
    "\\begin{align*}\n",
    "    \\ce{pH} & =\\ce{p}K_a + \\log\\frac{[\\ce{H2PO4-}]}{[\\ce{H3PO4}]}\\\\\n",
    "    & = -\\log(7.5\\times10^{-3})+\\log\\frac{0.250/0.500}{0.155/0.500}\\\\\n",
    "    & = 2.33\n",
    "\\end{align*}\n",
    "    \n",
    "</div>  "
   ]
  },
  {
   "cell_type": "markdown",
   "metadata": {},
   "source": [
    "<div class=example> \n",
    "    \n",
    "<b>Example:</b> What mass of $\\ce{NH4Cl}$ must be added to 0.750 L of a 0.100 M solution of $\\ce{NH3}$ to give a buffer solution with a pH of 9.30? (Hint: Assume a negligible change in volume as the solid is added.)<br>\n",
    "\n",
    "<b>Answer:</b> <br>\n",
    "    \n",
    "$K_b$ of $\\ce{NH3}$ is $1.8\\times10^{-5}$. Thus, $K_a$ of $\\ce{NH4+}$ is\n",
    "$$K_a = \\frac{1\\times10^{-14}}{1.8\\times10^{-5}}=5.6\\times10^{-10}$$\n",
    "Thus\n",
    "\\begin{align*}\n",
    "    \\ce{pH} & = \\ce{p}K_a + \\log\\frac{[\\ce{NH3}]}{[\\ce{NH4+}]}\\\\\n",
    "    \\log\\frac{[\\ce{NH3}]}{[\\ce{NH4+}]} & = \\ce{pH}-\\ce{p}K_a=0.05\\\\\n",
    "    \\frac{[\\ce{NH3}]}{[\\ce{NH4+}]} & = 10^{0.05} = 1.12\\\\\n",
    "    [\\ce{NH4+}] & =[\\ce{NH3}]/1.12 = 0.100/1.12 = 0.0893\\text{ M} \n",
    "\\end{align*}    \n",
    "    \n",
    "The moles of $\\ce{NH4Cl}$ to be added is \n",
    "    $$0.0893\\text{ M}\\times 0.750\\text{ L} = 0.0670\\text{ mol}$$\n",
    "    \n",
    "The mass of $\\ce{NH4Cl}$ to be added is \n",
    "    $$0.0670\\text{ mol}\\times 53.5\\text{ g/mol} = 3.58\\text{ g}$$\n",
    "    \n",
    "</div>  "
   ]
  },
  {
   "cell_type": "markdown",
   "metadata": {},
   "source": [
    "> **Requirements**  \n",
    "> 1. Understand what is a buffer solution and why a buffer solution can resist the change of $\\ce{pH}$.  \n",
    "> 2. Know how to calculate the $\\ce{pH}$ of a buffer solution and the $\\ce{pH}$ change after adding a little amount of acid or base.  \n",
    "> 3. Know how to prepare a buffer solution with a specific $\\ce{pH}$. "
   ]
  },
  {
   "cell_type": "markdown",
   "metadata": {},
   "source": [
    "## 2. Titrations\n",
    "\n",
    "##### <b>OpenStax</b> 14.7. Acid-Base Titrations. <b>Brown</b> 16 Acid-Base Equilibria. 17. Additional Aspects of Aqueous Equilibria. #####"
   ]
  },
  {
   "cell_type": "markdown",
   "metadata": {},
   "source": [
    "**Strong Acid-Strong Base Titrations**  \n",
    "The $\\ce{pH}$ value changes sharply around the equivalence point.  \n",
    "At the equivalence point, $\\ce{pH}=7$.  "
   ]
  },
  {
   "cell_type": "markdown",
   "metadata": {},
   "source": [
    "**Weak Acid-Strong Base Titrations**  \n",
    "At the equivalence point, $\\ce{pH}>7$.  "
   ]
  },
  {
   "cell_type": "markdown",
   "metadata": {},
   "source": [
    "**Strong Acid-Weak Base Titrations**  \n",
    "At the equivalence point, $\\ce{pH}<7$.  "
   ]
  },
  {
   "cell_type": "markdown",
   "metadata": {},
   "source": [
    "**Calculate the $\\ce{pH}$ during a titration process**  \n",
    "1. Reaction between a strong acid and a strong base results in a neutral salt which does not affect the $\\ce{pH}$ value. Use the remaining amount of acid or base and the total volumn to calculate the $\\ce{pH}$.  \n",
    "2. Weak acid and strong base react to give a salt which can hydrolyze to release $\\ce{OH-}$. The hydrolysis of the salt should be considered when performing calculation on $\\ce{pH}$. \n",
    "    1. Before reaching equivalence point, $\\ce{pH}$ can be calculated via Equation (1) (see above), knowing the ratio between [conjugate base] and [acid]. \n",
    "    2. At equivalence point, only the hydrolysis of the conjugate base affects the $\\ce{pH}$. \n",
    "    3. After equivalence point, only the excess amount of added strong base affects the $\\ce{pH}$. \n",
    "3. Strong acid-weak base titrations are similar as weak acid-strong base titrations. "
   ]
  },
  {
   "cell_type": "markdown",
   "metadata": {},
   "source": [
    "<div class=example> \n",
    "    \n",
    "<b>Example:</b> Calculate the $\\ce{pH}$ in the titration of 25.0 mL of 0.100 M HCl by NaOH after the addition to the acid solution of (a) 10.0 mL of 0.100 M NaOH, (b) 25.0 mL of 0.100 M NaOH, (c) 35.0 mL of 0.100 M NaOH.<br>\n",
    "\n",
    "<b>Answer:</b> <br>\n",
    "\n",
    "(a) At this moment, HCl is in excess.\n",
    "\n",
    "The moles of HCl remaining:\n",
    "    $$0.100\\text{ M}\\times 0.0250\\text{ L} - 0.100\\text{ M}\\times 0.0100\\text{ L} = 0.0015\\text{ mol}$$\n",
    "\n",
    "The total volume:\n",
    "    $$0.025\\text{ L} + 0.0100\\text{ L} = 0.0350\\text{ L}$$\n",
    "    \n",
    "The concentration of $\\ce{H+}$ equals the concentration of remaining HCl:     $$\\frac{0.0015\\text{ mol}}{0.0350\\text{ L}}=0.0428\\text{ M}$$\n",
    "    \n",
    "Thus\n",
    "    $$\\ce{pH} = -\\log(0.0428) = 1.37$$\n",
    "(b) At this moment, equal amount of acid and base result in a neutral solution with $\\ce{pH}=7$.\n",
    "\n",
    "(c) At this moment, NaOH is in excess.\n",
    "    \n",
    "The moles of NaOH in exess:\n",
    "    $$0.100\\text{ M}\\times 0.0350\\text{ L} - 0.100\\text{ M}\\times 0.0250\\text{ L} = 0.0010\\text{ mol}$$\n",
    "\n",
    "The total volume:\n",
    "    $$0.025\\text{ L} + 0.0350\\text{ L} = 0.0600\\text{ L}$$\n",
    "    \n",
    "The concentration of $\\ce{OH-}$ equals the concentration of excess NaOH:\n",
    "    $$\\frac{0.0010\\text{ mol}}{0.0600\\text{ L}}=0.0167\\text{ M}$$\n",
    "    \n",
    "Thus\n",
    "    $$\\ce{pH} = 14 -[-\\log(0.0167)] = 12.2$$    \n",
    "</div> "
   ]
  },
  {
   "cell_type": "markdown",
   "metadata": {},
   "source": [
    "<div class=example> \n",
    "    \n",
    "<b>Example:</b> Calculate the $\\ce{pH}$ in the titration of 25.0 mL of 0.100 M acetic acid by sodium hydroxide after the addition to the acid solution of (a) 10.0 mL of 0.100 M NaOH, (b) 25.0 mL of 0.100 M NaOH, (c) 35.0 mL of 0.100 M NaOH.<br>\n",
    "\n",
    "<b>Answer:</b> <br>\n",
    "\n",
    "(a) At this moment, At this moment, $\\ce{CH3COOH}$ is in excess.\n",
    "\n",
    "The moles of $\\ce{CH3COOH}$ remaining:\n",
    "    $$0.100\\text{ M}\\times 0.0250\\text{ L} - 0.100\\text{ M}\\times 0.0100\\text{ L} = 0.0015\\text{ mol}$$\n",
    "\n",
    "The total volume:\n",
    "    $$0.025\\text{ L} + 0.0100\\text{ L} = 0.0350\\text{ L}$$\n",
    "    \n",
    "The concentration of $\\ce{CH3COOH}$:     \n",
    "    $$\\frac{0.0015\\text{ mol}}{0.0350\\text{ L}}=0.0428\\text{ M}$$\n",
    "    \n",
    "The moles of $\\ce{CH3COONa}$\n",
    "    $$0.100\\text{ M}\\times 0.0100\\text{ L} = 0.0010\\text{ mol}$$\n",
    "    \n",
    "The concentration of $\\ce{CH3COO-}$ which equals that of $\\ce{CH3COONa}$ \n",
    "    $$\\frac{0.0010\\text{ mol}}{0.0350\\text{ L}}=0.0286\\text{ M}$$\n",
    "\n",
    "Thus\n",
    "    $$\\ce{pH}=\\ce{p}K_a+\\log\\frac{[\\ce{CH3COO-}]}{[\\ce{CH3COOH}]}=4.57$$\n",
    "(b) At this moment, equal amount of acid and base result in a solution with only $\\ce{CH3COONa}$. The concentration of $\\ce{CH3COONa}$ is\n",
    "    $$\\frac{0.100\\text{ M}\\times 0.0250\\text{ L}}{0.0250\\text{ L}+0.0250\\text{ L}}=0.050\\text{ M}$$\n",
    "\n",
    "\\begin{align*}\n",
    "    \\ce{CH3COO- + H2O <=> CH3COOH + OH-}\n",
    "\\end{align*}    \n",
    "\n",
    "ICE table\n",
    "    \n",
    "<table class=\"tg\">\n",
    " <col width=\"150\">\n",
    " <col width=\"120\">\n",
    " <col width=\"120\">\n",
    " <col width=\"120\">\n",
    "  <tr>\n",
    "    <th class=\"tg-031e\"></th>\n",
    "    <th class=\"tg-031e\">$\\ce{CH3COO-}$</th>\n",
    "    <th class=\"tg-031e\">$\\ce{CH3COOH}$</th>\n",
    "    <th class=\"tg-031e\">$\\ce{OH-}$</th>\n",
    "  </tr>\n",
    "  <tr>\n",
    "    <td class=\"tg-031e\">Initial (M): </td>\n",
    "    <td class=\"tg-031e\">$0.050$</td>\n",
    "    <td class=\"tg-031e\">$0$</td>\n",
    "    <td class=\"tg-031e\">$0$</td>\n",
    "  </tr>\n",
    "  <tr>\n",
    "    <td class=\"tg-031e\">Change (M): </td>\n",
    "    <td class=\"tg-031e\">$-x$</td>\n",
    "    <td class=\"tg-031e\">$+x$</td>\n",
    "    <td class=\"tg-031e\">$+x$</td>\n",
    "  </tr>\n",
    "  <tr>\n",
    "    <td class=\"tg-031e\">Equilibrium (M): </td>\n",
    "    <td class=\"tg-031e\">$(0.050-x)$</td>\n",
    "    <td class=\"tg-031e\">$x$</td>\n",
    "    <td class=\"tg-031e\">$(x)$</td>\n",
    "  </tr>\n",
    "</table>     \n",
    "    \n",
    "$$K_b = \\frac{x^2}{0.050-x}=\\frac{1\\times10^{-14}}{1.8\\times10^{-5}}$$  \n",
    "    \n",
    "Solve the equation and get\n",
    "    $$[\\ce{OH-}]=x=1.67\\times10^{-5}$$\n",
    "Thus\n",
    "    $$\\ce{pH}=14-[-\\log(1.67\\times10^{-5})]=9.22$$\n",
    "(c) At this moment, NaOH is in excess.\n",
    "    \n",
    "The moles of NaOH in exess:\n",
    "    $$0.100\\text{ M}\\times 0.0350\\text{ L} - 0.100\\text{ M}\\times 0.0250\\text{ L} = 0.0010\\text{ mol}$$\n",
    "\n",
    "The total volume:\n",
    "    $$0.025\\text{ L} + 0.0350\\text{ L} = 0.0600\\text{ L}$$\n",
    "    \n",
    "The concentration of $\\ce{OH-}$ equals the concentration of excess NaOH:\n",
    "    $$\\frac{0.0010\\text{ mol}}{0.0600\\text{ L}}=0.0167\\text{ M}$$\n",
    "    \n",
    "Thus\n",
    "    $$\\ce{pH} = 14 -[-\\log(0.0167)] = 12.2$$     \n",
    "    \n",
    "</div> "
   ]
  },
  {
   "cell_type": "markdown",
   "metadata": {},
   "source": [
    "**Acid Base Indicators**  \n",
    "\n",
    "**Indicators** are substances that have distinctly different colors in acidic and basic media.  \n",
    "A given indicator changes from the acid color to the base color in a certain $\\ce{pH}$ range.  \n",
    "The titration curve usually has a steep part around the equivalence point. Only when the indicator would change its color within this steep portion of the curve, the indicator can be used in such titration experiment. \n",
    "\n",
    "An indicator is typically a weak acid or weak base. The color change happens when $\\ce{pH}$ is close to its $\\ce{p}K_a$. The **color change interval** (or $\\ce{pH}$ interval) for an acid-base indicator is defined as the range of pH values over which a change in color is observed, and for most indicators this range is approximately $\\ce{p}K_a \\pm 1$."
   ]
  },
  {
   "cell_type": "markdown",
   "metadata": {},
   "source": [
    "> **Requirements**\n",
    "> 1. Calculate the $\\ce{pH}$ in a titration process. \n",
    "> 2. Tell which indicator or indicators could be used in given acid-base titration curves. "
   ]
  },
  {
   "cell_type": "markdown",
   "metadata": {},
   "source": [
    "## 3. Solubility Equilibria\n",
    "\n",
    "##### <b>OpenStax</b> 15.1. Precipitation and Dissolution. <b>Brown</b> 16 Acid-Base Equilibria. 17. Additional Aspects of Aqueous Equilibria. #####\n",
    "\n",
    "**Solubility Product**,$K_{sp}$ , is the product of the molar concentrations of the constituent ions, each raised to the power of its stoichiometric coefficient in the equilibrium equation.  \n",
    "Values of $K_{sp}$ of some slightly soluble ionic compounds are summerized in Table 17.2. \n",
    "\n",
    "In the reaction  \n",
    "$$\\ce{AgCl(s) <=> Ag+ (aq) + Cl- (aq)}$$  \n",
    "$$K_{sp}=[\\ce{Ag+}][\\ce{Cl-}]$$  \n",
    "\n",
    "Knowing the concentrations of $\\ce{Ag+}$ and $\\ce{Cl-}$, the ion product, $Q$, can be calculated as  \n",
    "\n",
    "$$Q=[\\ce{Ag+}][\\ce{Cl-}]$$  \n",
    "Compare $Q$ with $K_{sp}$.  \n",
    "\n",
    "* $Q < K_{sp}$ results in unsaturated solution; \n",
    "* $Q = K_{sp}$ saturated solution; \n",
    "* $Q > K_{sp}$ supersaturated solution. Precipitation will happen. \n",
    "\n",
    "**Molar solubility:** the number of moles of solute in 1 L of a saturated solution;  \n",
    "**Solubility:** the number of grams of solute in 1 L of a saturated solution.  \n",
    "\n",
    "Compared with pure water, the solubility of an ionic compound is less in aqueous solutions containing a common ion (one also produced by dissolution of the ionic compound). This is an example of a phenomenon known as the **common ion effect**, which is a consequence of the law of mass action that may be explained using Le ChÂtelier’s principle.  \n",
    "\n",
    "The common ion effect and solubility. One example is to calculate the molar solubility of $\\ce{AgCl}$ in a $\\ce{AgNO3}$ solution. "
   ]
  },
  {
   "cell_type": "markdown",
   "metadata": {},
   "source": [
    "Knowing the solubility, calculate the value of $K_{sp}$. "
   ]
  },
  {
   "cell_type": "markdown",
   "metadata": {},
   "source": [
    "<div class=example> \n",
    "    \n",
    "<b>Example:</b> $\\ce{Ca(OH)2}$ has a solubility of 0.511 g/L. What is the solubility product of $\\ce{Ca(OH)2}$?<br>\n",
    "\n",
    "<b>Answer:</b> <br>\n",
    "    \n",
    "The molar mass of $\\ce{Ca(OH)2}$ is 74.1 g/mol. The molarity of $\\ce{Ca(OH)2}$ at equilibrium is\n",
    "    \n",
    "\\begin{align*}\n",
    "    \\frac{0.511\\text{ g/L}}{74.1\\text{ g/mol}}= 6.90\\times10^{-3}\\text{ mol/L}\n",
    "\\end{align*} \n",
    "    \n",
    "\\begin{align*}\n",
    "    \\ce{Ca(OH)2(s) <=> Ca^{2+}(aq) + 2OH^{-}(aq)}\n",
    "\\end{align*}    \n",
    "\n",
    "Careful! Each unit of $\\ce{Ca(OH)2}$ results in 2 units of $\\ce{OH-}$.   \n",
    "    \n",
    "\\begin{align*}\n",
    "    K_\\text{sp} & = [\\ce{Ca^{2+}}][\\ce{OH-}]^2\\\\\n",
    "    & = 6.90\\times10^{-3}\\times(2\\times6.90\\times10^{-3})^2\\\\\n",
    "    & = 1.31\\times10^{-6}\n",
    "\\end{align*}    \n",
    "    \n",
    "</div>  "
   ]
  },
  {
   "cell_type": "markdown",
   "metadata": {},
   "source": [
    "Knowing the value of $K_{sp}$, calculate the solubility. "
   ]
  },
  {
   "cell_type": "markdown",
   "metadata": {},
   "source": [
    "<div class=example> \n",
    "    \n",
    "<b>Example:</b> $\\ce{CaCO3}$ has a solubility product $K_\\text{sp}=8.7\\times10^{-9}$. Calculate the solubility of $\\ce{CaCO3}$.<br>\n",
    "\n",
    "<b>Answer:</b> <br>\n",
    "    \n",
    "\\begin{align*}\n",
    "    \\ce{CaCO3(s) <=> Ca^{2+}(aq) + CO3^{2-}(aq)}\n",
    "\\end{align*}  \n",
    "    \n",
    "\\begin{align*}\n",
    "    K_\\text{sp} = [\\ce{Ca^{2+}}][\\ce{CO3^{2-}}]\n",
    "\\end{align*}     \n",
    "    \n",
    "\\begin{align*}\n",
    "[\\ce{Ca^{2+}}] = [\\ce{CO3^{2-}}] = \\sqrt{K_\\text{sp}} = 9.3\\times10^{-5}\n",
    "\\end{align*}    \n",
    "\n",
    "At equilibrium, $\\ce{CaCO3}$ has a concentration of $9.3\\times10^{-5}\\text{ M}$. The molar mass of $\\ce{CaCO3}$ is 100 g/mol. Thus, the solubility is \n",
    "    \n",
    "\\begin{align*}\n",
    "9.3\\times10^{-5}\\text{ mol/L}\\times 100\\text{ g/mol} = 9.3\\times10^{-3}\\text{ g/L}\n",
    "\\end{align*}    \n",
    "    \n",
    "</div> "
   ]
  },
  {
   "cell_type": "markdown",
   "metadata": {},
   "source": [
    "Predict precipitation reactions. Calculate the value of $Q$ and compare to $K_{sp}$ to determine whether precipitation would happen."
   ]
  },
  {
   "cell_type": "markdown",
   "metadata": {},
   "source": [
    "<div class=example> \n",
    "    \n",
    "<b>Example:</b> Does silver chloride precipitate when equal volumes of a $2.0\\times10^{–4}\\text{ M}$ solution of $\\ce{AgNO3}$ and a $2.0\\times10^{–4}\\text{ M}$ solution of $\\ce{NaCl}$ are mixed? (The solubility product of $\\ce{AgCl}$ is $1.6\\times10^{-10}$)<br>\n",
    "\n",
    "<b>Answer:</b> <br>\n",
    "    \n",
    "After mixing, the concentrations of $\\ce{Ag+}$ and $\\ce{Cl-}$ both equals $1.0\\times10^{–4}\\text{ M}$. (You can assume to mix 1 L $\\ce{NaCl}$ solution with 1 L $\\ce{AgNO3}$ and calculate the concentrations.)\n",
    "    \n",
    "\\begin{align*}\n",
    "    Q & = [\\ce{Ag+}][\\ce{Cl-}]\\\\\n",
    "    & = (1.0\\times10^{–4})\\times(1.0\\times10^{–4})\\\\\n",
    "    & = 1.0\\times10^{-8}\\\\\n",
    "    & > K_\\text{sp}\n",
    "\\end{align*}    \n",
    "    \n",
    "Thus, $\\ce{AgCl}$ will precipitate from the mixture. \n",
    "    \n",
    "</div> "
   ]
  },
  {
   "cell_type": "markdown",
   "metadata": {},
   "source": [
    "Calculate the concentration concerning common ion effect."
   ]
  },
  {
   "cell_type": "markdown",
   "metadata": {},
   "source": [
    "<div class=example> \n",
    "    \n",
    "<b>Example:</b> $\\ce{Mn(OH)2}$ has a solubility product $K_\\text{sp}=2\\times10^{-13}$. What $\\ce{pH}$ is required to limit the concentration of $\\ce{Mn^{2+}}$ to $1.8\\times10^{-6}\\text{ M}$? <br>\n",
    "\n",
    "<b>Answer:</b> <br>\n",
    "    \n",
    "\\begin{align*}\n",
    "    \\ce{Mn(OH)2(s) <=> Mn^{2+}(aq) + 2OH^{-}(aq)}\n",
    "\\end{align*}\n",
    "    \n",
    "\\begin{align*}\n",
    "    K_\\text{sp} & =[\\ce{Mn^{2+}}][\\ce{OH-}]^2\\\\\n",
    "    [\\ce{OH-}] & = \\sqrt{\\frac{K_\\text{sp}}{[\\ce{Mn^{2+}}]}}\\\\\n",
    "    & = \\sqrt{\\frac{2\\times10^{-13}}{1.8\\times10^{-6}}} \\\\\n",
    "    & = 3.3\\times10^{-4}\\\\\n",
    "    \\ce{pH} & = 14-[-\\log(3.3\\times10^{-4})]\\\\\n",
    "    & = 10.5\n",
    "\\end{align*}\n",
    "    \n",
    "</div> "
   ]
  },
  {
   "cell_type": "markdown",
   "metadata": {},
   "source": [
    "> **Requirements** \n",
    "> 1. Understand the concepts: solubility product, molar solubility, solubility. \n",
    "> 2. Predict whether precipitation would happen by comparing $Q$ with $K_{sp}$. \n",
    "> 3. Knowing the solubility, calculate the value of $K_{sp}$; or knowing the value of $K_{sp}$, calculate the solubility.\n",
    "> 4. Calculate the concentration concerning common ion effect."
   ]
  },
  {
   "cell_type": "markdown",
   "metadata": {},
   "source": [
    "## 4. Complex Equilibria\n",
    "\n",
    "##### <b>OpenStax</b> 15.2. Lewis Acids and Bases. <b>Brown</b> 16 Acid-Base Equilibria. 17. Additional Aspects of Aqueous Equilibria. #####\n",
    "\n",
    "**Complex ions** are formed when metal cations (Lewis acids which are electron-pair acceptors) combine with Lewis bases (electron-pair donors). An example is:  \n",
    "$$\\ce{Ag+ (aq) + 2NH3 (aq) <=> Ag(NH3)2^+ (aq)}\\qquad K_f=\\frac{[\\ce{Ag(NH3)2^+}]}{[\\ce{Ag+}][\\ce{NH3}]^2}$$    \n",
    "\n",
    "**Formation constant**, $K_f$, is the equilibrium constant for complex ion formation. The larger $K_f$ is, the more stable the complex ion is. \n",
    "\n",
    "Calculate the concentration of naked metal ions in an complex equilibrium. \n",
    "\n",
    "Phenomenon of $\\ce{Al(OH)3}$ reacts with acids and bases.  \n",
    "$$\\ce{Al(OH)3 (s) + 3H+ (aq) -> Al^3+ (aq) + 3H2O(l)}$$  \n",
    "$$\\ce{Al(OH)3 (s) + OH- (aq) <=> Al(OH)4^- (aq)}$$"
   ]
  },
  {
   "cell_type": "markdown",
   "metadata": {
    "collapsed": true
   },
   "source": [
    "> **Requirements**\n",
    "> 1. Understant what are complex ions and what is the formation constant. "
   ]
  },
  {
   "cell_type": "markdown",
   "metadata": {},
   "source": [
    "<div class=practice>\n",
    "    \n",
    "<b>Practice</b> <br>\n",
    "\n",
    "1. Calculate the pH of a buffer solution and the pH after adding of a small amount of acid or base.<br>\n",
    "    \n",
    "2. Calculate the amount of compounds needed to prepare a buffer solution with a specific pH.<br>\n",
    "    \n",
    "3. Calculate the pH change during a titration process (strong acid and strong base).<br>\n",
    "    \n",
    "4. Calculate the pH change during a titration process (strong acid and weak base, or weak acid and strong base).<br>\n",
    "    \n",
    "5. Knowing the solubility, calculate the value of $K_{sp}$.<br>\n",
    "    \n",
    "6. knowing the value of $K_{sp}$, calculate the solubility.<br>\n",
    "    \n",
    "7. Predict whether precipitation would happen by comparing $Q$ with $K_{sp}$. <br>     \n",
    "\n",
    "8. Calculate the concentration concerning common ion effect.<br>\n",
    "    \n",
    "9. Which of the following pairs can be classfied as buffer systems? (1) KF/HF; (2) KBr/HBr; (3) $\\ce{Na2CO3/NaHCO3}$; (4) $\\ce{NaH2PO4/Na3PO4}$. <br>\n",
    "\n",
    "10. Assuming equal concentrations of conjugate base and acid, which one of the following mixtures is suitable for making a buffer solution with an optimum pH of 7.4 to 7.5?<br>\n",
    "A. $\\ce{CH3COONa/CH3COOH}$ ($K_a = 1.8\\times10^{-5}$)<br>\n",
    "B. NH3/NH4Cl (Ka = 5:6 \u0002 10􀀀10)<br>\n",
    "C. NaOCl/HOCl (Ka = 3:2 \u0002 10􀀀8)<br>\n",
    "D. NaNO2/HNO2 (Ka = 4:5 \u0002 10􀀀4)<br>\n",
    "E. NaCl/HCl<br>\n",
    "    \n",
    "12. Acid base titration indication.<br>\n",
    "    \n",
    "13. Formation of complex. <br>     \n",
    "    \n",
    "</div>    "
   ]
  },
  {
   "cell_type": "markdown",
   "metadata": {
    "collapsed": true
   },
   "source": [
    "---"
   ]
  },
  {
   "cell_type": "raw",
   "metadata": {},
   "source": [
    "Please ignore the cell below. It just loads our style for the notebook."
   ]
  },
  {
   "cell_type": "code",
   "execution_count": 1,
   "metadata": {},
   "outputs": [
    {
     "data": {
      "text/html": [
       "<link href=\"https://fonts.googleapis.com/css?family=Lora:400,400i,700,700i|Open+Sans:400,400i|Raleway:400,400i,700,700i\" rel=\"stylesheet\" type='text/css'>\n",
       "<style  type=\"text/css\">\n",
       "div.text_cell_render {\n",
       "\tfont-family: Lora, serif;\n",
       "\tcolor: #222222;\n",
       "}\n",
       ".text_cell_render p {\n",
       "\tpadding-left: 1.5em;\n",
       "\ttext-align: justify;\n",
       "}\n",
       ".text_cell_render h3, h4, h6 {\n",
       "\tfont-family: Raleway, sans-serif;\n",
       "\tcolor: #005c99;\n",
       "}\n",
       ".text_cell_render h1 {\n",
       "\tfont-family: \"Open Sans\", sans-serif;\n",
       "\tfont-weight: 700;\n",
       "\tmargin: auto;\n",
       "\tdisplay: block;\n",
       "}\n",
       ".text_cell_render h2 {\n",
       "\tfont-family: Raleway, sans-serif;\n",
       "\tfont-weight: 700; \n",
       "\tmargin-top: 50px;\n",
       "\tdisplay:inline-block;\n",
       "\tpadding: 10px 15px;\n",
       "\tbackground-color: #007acc;\n",
       "\tcolor: #f8f8f8;\n",
       "\tborder-radius: 10px 40px 10px 40px;\n",
       "\tletter-spacing: 3px;\n",
       "\tfont-variant: small-caps;\n",
       "}\n",
       ".text_cell_render h5 {\n",
       "\tfont-family: \"Open Sans\", sans-serif;\n",
       "\tfont-weight: 400;\n",
       "\tborder-style: groove;\n",
       "\tpadding:0.5em 0.5em 0.5em 0.5em;\n",
       "\tmargin: 1em 0 1em 0;\n",
       "\tline-height: 1.6;\n",
       "}\n",
       "div #notebook {\n",
       "\tbackground-color: #f8f8f8;\n",
       "\twidth: 1110px;\t\n",
       "\tmargin: auto;\n",
       "\tpadding-left: 0em;\n",
       "\tborder: 3px solid #cbd3e5; \n",
       "\tbox-shadow: 0px 0px 7px 1px #cccccc;\n",
       "}\n",
       "div.example {\n",
       "    background-color:#007acc;\n",
       "    color: #ffffff;\n",
       "    margin: auto;\n",
       "    width: 100%; \n",
       "\tpadding: 1.4em; \n",
       "\tborder: 3px solid #007acc; \n",
       "\tborder-radius: 10px; \n",
       "\tmargin-bottom: 14px; \n",
       "\tmargin-top: 14px;  \n",
       "\tbox-shadow: 7px 7px 5px #cccccc; \n",
       "\toverflow: hidden;\n",
       "}\n",
       "div.practice {\n",
       "    background-color:#fbfbfb;\n",
       "    color: #007acc;\n",
       "    margin: auto;\n",
       "    width: 100%; \n",
       "\tpadding: 1.4em; \n",
       "\tborder: 3px solid #eeeeee; \n",
       "\tborder-radius: 10px; \n",
       "\tmargin-bottom: 14px; \n",
       "\tmargin-top: 14px;  \n",
       "\tbox-shadow: 7px 7px 5px #cccccc; \n",
       "\toverflow: hidden;\n",
       "}\n",
       "div #notebook-container {\n",
       "\tbackground-color: #ffffff;\n",
       "\tfont-size: 1.5em; \n",
       "\tline-height: 1.6;\n",
       "\twidth: 1100px;\n",
       "\tmargin: auto;\n",
       "\tpadding-right: 150px;\n",
       "}\n",
       ".CodeMirror-code {\n",
       "\tfont-size: 1.2em;\n",
       "\tline-height: 125%;\n",
       "\topacity: 0.9;\n",
       "}\n",
       "\n",
       ".text_cell_render td {\n",
       "    border-style: hidden;\n",
       "}\n",
       ".text_cell_render table {\n",
       "    border-style: hidden;\n",
       "\tborder-collapse: collapse;\n",
       "\twidth: 100%;\n",
       "    font-size: 80%;\n",
       "}\n",
       "\n",
       ".text_cell_render th, td {\n",
       "\tpadding: 8px;\n",
       "}\n",
       "\n",
       ".text_cell_render tr:nth-child(even){background-color: #e8e8e8}\n",
       "\n",
       ".text_cell_render th {\n",
       "    border-style: hidden;\n",
       "\tbackground-color: #004c80;\n",
       "\tcolor: #f8f8f8;\n",
       "}\n",
       "table td, table th, table tr {\n",
       "    text-align:left !important;\n",
       "}\n",
       "</style>\n",
       "\n"
      ],
      "text/plain": [
       "<IPython.core.display.HTML object>"
      ]
     },
     "execution_count": 1,
     "metadata": {},
     "output_type": "execute_result"
    }
   ],
   "source": [
    "from IPython.core.display import HTML\n",
    "def css_styling():\n",
    "    styles = open(\"custom.css\", \"r\").read()\n",
    "    return HTML(styles)\n",
    "css_styling()"
   ]
  },
  {
   "cell_type": "code",
   "execution_count": null,
   "metadata": {
    "collapsed": true
   },
   "outputs": [],
   "source": []
  }
 ],
 "metadata": {
  "anaconda-cloud": {},
  "kernelspec": {
   "display_name": "Python 3",
   "language": "python",
   "name": "python3"
  },
  "language_info": {
   "codemirror_mode": {
    "name": "ipython",
    "version": 3
   },
   "file_extension": ".py",
   "mimetype": "text/x-python",
   "name": "python",
   "nbconvert_exporter": "python",
   "pygments_lexer": "ipython3",
   "version": "3.7.6"
  },
  "latex_envs": {
   "bibliofile": "biblio.bib",
   "cite_by": "apalike",
   "current_citInitial": 1,
   "eqLabelWithNumbers": true,
   "eqNumInitial": 0
  }
 },
 "nbformat": 4,
 "nbformat_minor": 1
}
