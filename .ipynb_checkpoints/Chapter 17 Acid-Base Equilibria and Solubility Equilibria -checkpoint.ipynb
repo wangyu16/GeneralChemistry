{
 "cells": [
  {
   "cell_type": "markdown",
   "metadata": {},
   "source": [
    "$$\\require{mhchem}$$\n",
    "\n",
    "### [HOME](https://wangyu16.github.io/GeneralChemistry/)\n",
    "\n",
    "# <center>General Chemistry Study Guide</center>\n",
    "\n",
    "### <center>Chapter 17. Acid-Base Equilibria and Solubility Equilibria</center>\n",
    "\n",
    "---\n",
    "\n",
    "*<center>Yu Wang</center>*"
   ]
  },
  {
   "cell_type": "markdown",
   "metadata": {},
   "source": [
    "## 1. Buffer Solutions\n",
    "\n",
    "##### <b>OpenStax</b> 14.6. Buffers. <b>Brown</b> 16 Acid-Base Equilibria. 17. Additional Aspects of Aqueous Equilibria. #####\n",
    "\n",
    "A **buffer solution** is a solution of (1) a weak acid or a weak base and (2) its salt. The solution has the ability to resist changes in $\\ce{pH}$ upon the addition of small amounts of either acid or base. \n",
    "\n",
    "Why a buffer solution can resist changes in $\\ce{pH}$?  \n",
    "Because both acid and base coexist in a buffer solution under equilibrium. The acid can react with any added $\\ce{OH-}$ and the base can react with any added $\\ce{H+}$.  \n",
    "An example is a solution with comparable amounts of $\\ce{CH3COOH}$ and $\\ce{CH3COONa}$. $\\ce{CH3COONa}$ ionize completely in water to give:  \n",
    "$$\\ce{CH3COONa ->[\\ce{H2O}] CH3COO- (aq) + Na+ (aq)}$$  \n",
    "If an acid is added, $\\ce{H+}$ will be consumed by $\\ce{CH3COO-}$  \n",
    "$$\\ce{CH3COO- (aq) + H+ (aq) -> CH3COOH (aq)}$$  \n",
    "If a base is added, $\\ce{OH-}$ will be consumed by $\\ce{CH3COOH}$  \n",
    "$$\\ce{CH3COOH(aq) + OH- (aq) -> CH3COO- (aq) + H2O (l)}$$  \n",
    "This buffer system can be written as either $\\ce{CH3COONa/CH3COOH}$ or $\\ce{CH3COO- /CH3COOH}$."
   ]
  },
  {
   "cell_type": "markdown",
   "metadata": {},
   "source": [
    "**Calculate the $\\ce{pH}$ of a Buffer System**  "
   ]
  },
  {
   "cell_type": "markdown",
   "metadata": {},
   "source": [
    "<div class=example> \n",
    "    \n",
    "<b>Example:</b> (a) Calculate the pH of a buffer system containing 1.0 M $\\ce{CH3COOH}$ and 1.0 M $\\ce{CH3COONa}$.<br>\n",
    "\n",
    "<b>Answer:</b> <br>\n",
    "    \n",
    "Strategy: Note the initial concentrations of $\\ce{CH3COOH}$ and $\\ce{CH3COO-}$ are both 1.0 M. Then use ICE table and write the equation of $K_a$ under equilibrium.     \n",
    "\n",
    "$$K_a=\\frac{[\\ce{H+}][\\ce{CH3COO-}]}{[\\ce{CH3COOH}]}=\\frac{x(1.0+x)}{1.0-x}=1.8\\times 10^{-5}$$  \n",
    "Solve the equation and get $x=[\\ce{H+}]=1.8\\times 10^{-5}\\,\\text{M}$  \n",
    "Thus $\\ce{pH}=-\\log (1.8\\times 10^{-5})=4.74$\n",
    "    \n",
    "</div>  "
   ]
  },
  {
   "cell_type": "code",
   "execution_count": 2,
   "metadata": {},
   "outputs": [
    {
     "data": {
      "text/plain": [
       "[-1.00003599935203, 1.79993520349897e-5]"
      ]
     },
     "execution_count": 2,
     "metadata": {},
     "output_type": "execute_result"
    }
   ],
   "source": [
    "from sympy import *\n",
    "x= symbols('x')\n",
    "solve(x*(1.0+x)/(1.0-x)-1.8e-5)\n",
    "# Ignore the nagtive value. "
   ]
  },
  {
   "cell_type": "markdown",
   "metadata": {},
   "source": [
    "<div class=example> \n",
    "    \n",
    "<b>Example:</b> (b) Calculate the $\\ce{pH}$ of this system in the above question after adding of 0.10 mole of $\\ce{HCl}$ to 1.0 L of this buffer solution.<br>\n",
    "\n",
    "<b>Answer:</b> <br>\n",
    "\n",
    "Stragegy: (1) $\\ce{HCl}$ ionize completely to release equal amount of $\\ce{H+}$; (2) Assume $\\ce{CH3COO-}$ react with all $\\ce{H+}$, calculate $[\\ce{CH3COO-}]$ and $[\\ce{CH3COOH}]$; (3) Calculate the equilibrium concentration of $\\ce{H+}$ after partial ionization of $\\ce{CH3COOH}$. \n",
    "\n",
    "$$K_a=\\frac{[\\ce{H+}][\\ce{CH3COO-}]}{[\\ce{CH3COOH}]}=\\frac{x(0.90+x)}{1.1-x}=1.8\\times 10^{-5}$$  \n",
    "Solve the equation and get $x=[\\ce{H+}]=2.2\\times 10^{-5}\\,\\text{M}$  \n",
    "Thus $\\ce{pH}=- \\log (2.2\\times 10^{-5}) = 4.66$\n",
    "\n",
    "**Note** If you add same amount of $\\ce{HCl}$ to 1.0 L pure water, the $\\ce{pH}$ would decrease from $7$ to $1$!\n",
    "    \n",
    "</div>  "
   ]
  },
  {
   "cell_type": "code",
   "execution_count": 3,
   "metadata": {},
   "outputs": [
    {
     "data": {
      "text/plain": [
       "[-0.900039999022290, 2.19990222895745e-5]"
      ]
     },
     "execution_count": 3,
     "metadata": {},
     "output_type": "execute_result"
    }
   ],
   "source": [
    "solve(x*(0.9+x)/(1.1-x)-1.8e-5)\n",
    "# Ignore the nagtive value. "
   ]
  },
  {
   "cell_type": "markdown",
   "metadata": {},
   "source": [
    "**Preparing a Buffer Solution with a Specific $\\ce{pH}$**  \n",
    "\n",
    "$$\\ce{p}K_a=- \\log K_a$$  \n",
    "Because  \n",
    "$$K_a=\\frac{[\\text{conjugate base}][\\ce{H+}]}{[\\text{acid}]}$$  \n",
    "We have  \n",
    "$$\\begin{align}\\ce{pH}=\\ce{p}K_a + \\log\\frac{[\\text{conjugate base}]}{[\\text{acid}]}\\end{align}$$  \n",
    "Use this equation to calculate the ratio between an acid and its conjugate base in order to prepare a buffer solution with a specific $\\ce{pH}$. \n",
    "\n",
    "*To prepare a buffer solution, we choose a weak acid whose $\\ce{p}K_a$ is close to the desired $\\ce{pH}$.* Thus the acid and its conjugate base would have comparable concentration in the buffer solution. "
   ]
  },
  {
   "cell_type": "markdown",
   "metadata": {},
   "source": [
    "<div class=example> \n",
    "    \n",
    "<b>Example:</b> <br>\n",
    "\n",
    "<b>Answer:</b> <br>\n",
    "    \n",
    "    \n",
    "</div>  "
   ]
  },
  {
   "cell_type": "markdown",
   "metadata": {},
   "source": [
    "> **Requirements**  \n",
    "> 1. Understand what is a buffer solution and why a buffer solution can resist the change of $\\ce{pH}$.  \n",
    "> 2. Know how to calculate the $\\ce{pH}$ of a buffer solution and the $\\ce{pH}$ change after adding a little amount of acid or base (Textbook Example 17.2).  \n",
    "> 3. Know how to prepare a buffer solution with a specific $\\ce{pH}$ (Textbook Example 17.3). "
   ]
  },
  {
   "cell_type": "markdown",
   "metadata": {},
   "source": [
    "## 2. Titrations\n",
    "\n",
    "##### <b>OpenStax</b> 14.7. Acid-Base Titrations. <b>Brown</b> 16 Acid-Base Equilibria. 17. Additional Aspects of Aqueous Equilibria. #####"
   ]
  },
  {
   "cell_type": "markdown",
   "metadata": {},
   "source": [
    "**Strong Acid-Strong Base Titrations**  \n",
    "The $\\ce{pH}$ value changes sharply around the equivalence point.  \n",
    "At the equivalence point, $\\ce{pH}=7$.  "
   ]
  },
  {
   "cell_type": "markdown",
   "metadata": {},
   "source": [
    "**Weak Acid-Strong Base Titrations**  \n",
    "At the equivalence point, $\\ce{pH}>7$.  "
   ]
  },
  {
   "cell_type": "markdown",
   "metadata": {},
   "source": [
    "**Strong Acid-Weak Base Titrations**  \n",
    "At the equivalence point, $\\ce{pH}<7$.  "
   ]
  },
  {
   "cell_type": "markdown",
   "metadata": {},
   "source": [
    "**Calculate the $\\ce{pH}$ during a titration process**  \n",
    "1. Reaction between a strong acid and a strong base results in a neutral salt which does not affect the $\\ce{pH}$ value. Use the remaining amount of acid or base and the total volumn to calculate the $\\ce{pH}$.  \n",
    "2. Weak acid and strong base react to give a salt which can hydrolyze to release $\\ce{OH-}$. The hydrolysis of the salt should be considered when performing calculation on $\\ce{pH}$. \n",
    "    1. Before reaching equivalence point, $\\ce{pH}$ can be calculated via equation 1 (see above), knowing the ratio between [conjugate base] and [acid]. \n",
    "    2. At equivalence point, only the hydrolysis of the conjugate base affects the $\\ce{pH}$. \n",
    "    3. After equivalence point, only the excess amount of added strong base affects the $\\ce{pH}$. \n",
    "3. Strong acid-weak base titrations are similar as weak acid-strong base titrations. "
   ]
  },
  {
   "cell_type": "markdown",
   "metadata": {},
   "source": [
    "<div class=example> \n",
    "    \n",
    "<b>Example:</b> Calculate the $\\ce{pH}$ in the titration of 25.0 mL of 0.100 M acetic acid by sodium hydroxide after the addition to the acid solution of (a) 10.0 mL of 0.100 M NaOH, (b) 25.0 mL of 0.100 M NaOH, (c) 35.0 mL of 0.100 M NaOH.<br>\n",
    "\n",
    "<b>Answer:</b> <br>\n",
    "\n",
    "(a) At this moment, $[\\ce{CH3COO-}]/[\\ce{CH3COOH}]=1.00/1.50$, thus  \n",
    "$$\\ce{pH}=\\ce{p}K_a + \\log\\frac{[\\ce{CH3COO-}]}{[\\ce{CH3COOH}]}=-\\log \\left( 1.8\\times 10^{-5}+\\log \\frac{1.00}{1.50} \\right) = 4.57$$\n",
    "\n",
    "(b) At this moment, it is the same as to calculate the $\\ce{pH}$ of a 0.0500 M $\\ce{CH3COONa}$ solution. \n",
    "\n",
    "(c) There is 1.00 mol excessive $\\ce{NaOH}$. The $\\ce{pH}$ only depends on this amount of $\\ce{NaOH}$.     \n",
    "    \n",
    "</div> "
   ]
  },
  {
   "cell_type": "markdown",
   "metadata": {},
   "source": [
    "**Acid Base Indicators**  \n",
    "\n",
    "**Indicators** are substances that have distinctly different colors in acidic and basic media.  \n",
    "A given indicator changes from the acid color to the base color in a certain $\\ce{pH}$ range.  \n",
    "The titration curve usually has a steep part around the equivalence point. Only when the indicator would change its color within this steep portion of the curve, the indicator can be used in such titration experiment. "
   ]
  },
  {
   "cell_type": "markdown",
   "metadata": {},
   "source": [
    "> **Requirements**\n",
    "> 1. Calculate the pH in a titration process (Textbook Section \"Strong Acid-Strong Base Titrations\" and Example 17.4). \n",
    "> 2. Tell which indicator or indicators listed in Table 17.1 could be used in given acid-base titration curves (Textbook Example 17.5). "
   ]
  },
  {
   "cell_type": "markdown",
   "metadata": {},
   "source": [
    "## 3. Solubility Equilibria\n",
    "\n",
    "##### <b>OpenStax</b> 15.1. Precipitation and Dissolution. <b>Brown</b> 16 Acid-Base Equilibria. 17. Additional Aspects of Aqueous Equilibria. #####\n",
    "\n",
    "**Solubility Product**,$K_{sp}$ , is the product of the molar concentrations of the constituent ions, each raised to the power of its stoichiometric coefficient in the equilibrium equation.  \n",
    "Values of $K_{sp}$ of some slightly soluble ionic compounds are summerized in Table 17.2. \n",
    "\n",
    "In the reaction  \n",
    "$$\\ce{AgCl(s) <=> Ag+ (aq) + Cl- (aq)}$$  \n",
    "$$K_{sp}=[\\ce{Ag+}][\\ce{Cl-}]$$  \n",
    "\n",
    "Knowing the concentrations of $\\ce{Ag+}$ and $\\ce{Cl-}$, the ion product, $Q$, can be calculated as  \n",
    "\n",
    "$$Q=[\\ce{Ag+}][\\ce{Cl-}]$$  \n",
    "Compare $Q$ with $K_{sp}$.  \n",
    "\n",
    "* $Q < K_{sp}$ results in unsaturated solution; \n",
    "* $Q = K_{sp}$ saturated solution; \n",
    "* $Q > K_{sp}$ supersaturated solution. Precipitation will happen. \n",
    "\n",
    "**Molar solubility:** the number of moles of solute in 1 L of a saturated solution;  \n",
    "**Solubility:** the number of grams of solute in 1 L of a saturated solution.  \n",
    "\n",
    "Knowing the solubility, calculate the value of $K_{sp}$ (Textbook Example 17.6). \n",
    "\n",
    "Knowing the value of $K_{sp}$, calculate the solubility (Textbook Example 17.7). \n",
    "\n",
    "Predict precipitation reactions (Textbook Example 17.8). Calculate the value of $Q$ and compare to $K_{sp}$ to determine whether precipitation would happen. \n",
    "\n",
    "The common ion effect and solubility. One example is to calculate the molar solubility of $\\ce{AgCl}$ in a $\\ce{AgNO3}$ solution (Textbook Example 17.9). \n",
    "\n",
    "**Application of the solubility product principle to qualitative analysis**  \n",
    "**Qualitative analysis:** the determination of the types of ions present in a solution (Read Section 17.8). "
   ]
  },
  {
   "cell_type": "markdown",
   "metadata": {},
   "source": [
    "<div class=example> \n",
    "    \n",
    "<b>Example:</b> <br>\n",
    "\n",
    "<b>Answer:</b> <br>\n",
    "    \n",
    "    \n",
    "</div>  "
   ]
  },
  {
   "cell_type": "markdown",
   "metadata": {},
   "source": [
    "> **Requirements** \n",
    "> 1. Understand the concepts: solubility product, molar solubility, solubility. \n",
    "> 2. Predict whether precipitation would happen by comparing $Q$ with $K_{sp}$ (Textbook Example 17.8). \n",
    "> 3. Knowing the solubility, calculate the value of $K_{sp}$ (Textbook Example 17.6); or knowing the value of $K_{sp}$, calculate the solubility (Textbook Example 17.7)."
   ]
  },
  {
   "cell_type": "markdown",
   "metadata": {},
   "source": [
    "## 4. Complex Equilibria\n",
    "\n",
    "##### <b>OpenStax</b> 15.2. Lewis Acids and Bases. <b>Brown</b> 16 Acid-Base Equilibria. 17. Additional Aspects of Aqueous Equilibria. #####\n",
    "\n",
    "**Complex ions** are formed when metal cations (Lewis acids which are electron-pair acceptors) combine with Lewis bases (electron-pair donors). An example is:  \n",
    "$$\\ce{Ag+ (aq) + 2NH3 (aq) <=> Ag(NH3)2^+ (aq)}\\qquad K_f=\\frac{[\\ce{Ag(NH3)2^+}]}{[\\ce{Ag+}][\\ce{NH3}]^2}$$  \n",
    "More examples see Table 17.4.  \n",
    "\n",
    "**Formation constant**, $K_f$, is the equilibrium constant for complex ion formation. The larger $K_f$ is, the more stable the complex ion is. \n",
    "\n",
    "Calculate the concentration of naked metal ions in an complex equilibrium (Textbook Example 17.10). \n",
    "\n",
    "Phenomenon of $\\ce{Al(OH)3}$ reacts with acids and bases.  \n",
    "$$\\ce{Al(OH)3 (s) + 3H+ (aq) -> Al^3+ (aq) + 3H2O(l)}$$  \n",
    "$$\\ce{Al(OH)3 (s) + OH- (aq) <=> Al(OH)4^- (aq)}$$"
   ]
  },
  {
   "cell_type": "markdown",
   "metadata": {},
   "source": [
    "<div class=example> \n",
    "    \n",
    "<b>Example:</b> <br>\n",
    "\n",
    "<b>Answer:</b> <br>\n",
    "    \n",
    "    \n",
    "</div>  "
   ]
  },
  {
   "cell_type": "markdown",
   "metadata": {
    "collapsed": true
   },
   "source": [
    "> **Requirements**\n",
    "> 1. Understant what are complex ions and what is the formation constant. "
   ]
  },
  {
   "cell_type": "markdown",
   "metadata": {},
   "source": [
    "<div class=practice>\n",
    "    \n",
    "<b>Practice</b> <br>\n",
    "\n",
    "1. <br>\n",
    "2. <br>\n",
    "    \n",
    "</div>    "
   ]
  },
  {
   "cell_type": "markdown",
   "metadata": {
    "collapsed": true
   },
   "source": [
    "---"
   ]
  },
  {
   "cell_type": "raw",
   "metadata": {},
   "source": [
    "Please ignore the cell below. It just loads our style for the notebook."
   ]
  },
  {
   "cell_type": "code",
   "execution_count": 1,
   "metadata": {},
   "outputs": [
    {
     "data": {
      "text/html": [
       "<link href=\"https://fonts.googleapis.com/css?family=Lora:400,400i,700,700i|Open+Sans:400,400i|Raleway:400,400i,700,700i\" rel=\"stylesheet\" type='text/css'>\n",
       "<style  type=\"text/css\">\n",
       "div.text_cell_render {\n",
       "\tfont-family: Lora, serif;\n",
       "\tcolor: #222222;\n",
       "}\n",
       ".text_cell_render p {\n",
       "\tpadding-left: 1.5em;\n",
       "\ttext-align: justify;\n",
       "}\n",
       ".text_cell_render h3, h4, h6 {\n",
       "\tfont-family: Raleway, sans-serif;\n",
       "\tcolor: #005c99;\n",
       "}\n",
       ".text_cell_render h1 {\n",
       "\tfont-family: \"Open Sans\", sans-serif;\n",
       "\tfont-weight: 700;\n",
       "\tmargin: auto;\n",
       "\tdisplay: block;\n",
       "}\n",
       ".text_cell_render h2 {\n",
       "\tfont-family: Raleway, sans-serif;\n",
       "\tfont-weight: 700; \n",
       "\tmargin-top: 50px;\n",
       "\tdisplay:inline-block;\n",
       "\tpadding: 10px 15px;\n",
       "\tbackground-color: #007acc;\n",
       "\tcolor: #f8f8f8;\n",
       "\tborder-radius: 10px 40px 10px 40px;\n",
       "\tletter-spacing: 3px;\n",
       "\tfont-variant: small-caps;\n",
       "}\n",
       ".text_cell_render h5 {\n",
       "\tfont-family: \"Open Sans\", sans-serif;\n",
       "\tfont-weight: 400;\n",
       "\tborder-style: groove;\n",
       "\tpadding:0.5em 0.5em 0.5em 0.5em;\n",
       "\tmargin: 1em 0 1em 0;\n",
       "\tline-height: 1.6;\n",
       "}\n",
       "div #notebook {\n",
       "\tbackground-color: #f8f8f8;\n",
       "\twidth: 1110px;\t\n",
       "\tmargin: auto;\n",
       "\tpadding-left: 0em;\n",
       "\tborder: 3px solid #cbd3e5; \n",
       "\tbox-shadow: 0px 0px 7px 1px #cccccc;\n",
       "}\n",
       "div.example {\n",
       "    background-color:#007acc;\n",
       "    color: #ffffff;\n",
       "    margin: auto;\n",
       "    width: 100%; \n",
       "\tpadding: 1.4em; \n",
       "\tborder: 3px solid #007acc; \n",
       "\tborder-radius: 10px; \n",
       "\tmargin-bottom: 14px; \n",
       "\tmargin-top: 14px;  \n",
       "\tbox-shadow: 7px 7px 5px #cccccc; \n",
       "\toverflow: hidden;\n",
       "}\n",
       "div.practice {\n",
       "    background-color:#fbfbfb;\n",
       "    color: #007acc;\n",
       "    margin: auto;\n",
       "    width: 100%; \n",
       "\tpadding: 1.4em; \n",
       "\tborder: 3px solid #eeeeee; \n",
       "\tborder-radius: 10px; \n",
       "\tmargin-bottom: 14px; \n",
       "\tmargin-top: 14px;  \n",
       "\tbox-shadow: 7px 7px 5px #cccccc; \n",
       "\toverflow: hidden;\n",
       "}\n",
       "div #notebook-container {\n",
       "\tbackground-color: #ffffff;\n",
       "\tfont-size: 1.5em; \n",
       "\tline-height: 1.6;\n",
       "\twidth: 1100px;\n",
       "\tmargin: auto;\n",
       "\tpadding-right: 150px;\n",
       "}\n",
       ".CodeMirror-code {\n",
       "\tfont-size: 1.2em;\n",
       "\tline-height: 125%;\n",
       "\topacity: 0.9;\n",
       "}\n",
       "\n",
       ".text_cell_render td {\n",
       "    border-style: hidden;\n",
       "}\n",
       ".text_cell_render table {\n",
       "    border-style: hidden;\n",
       "\tborder-collapse: collapse;\n",
       "\twidth: 100%;\n",
       "    font-size: 80%;\n",
       "}\n",
       "\n",
       ".text_cell_render th, td {\n",
       "\tpadding: 8px;\n",
       "}\n",
       "\n",
       ".text_cell_render tr:nth-child(even){background-color: #e8e8e8}\n",
       "\n",
       ".text_cell_render th {\n",
       "    border-style: hidden;\n",
       "\tbackground-color: #004c80;\n",
       "\tcolor: #f8f8f8;\n",
       "}\n",
       "table td, table th, table tr {\n",
       "    text-align:left !important;\n",
       "}\n",
       "</style>\n",
       "\n"
      ],
      "text/plain": [
       "<IPython.core.display.HTML object>"
      ]
     },
     "execution_count": 1,
     "metadata": {},
     "output_type": "execute_result"
    }
   ],
   "source": [
    "from IPython.core.display import HTML\n",
    "def css_styling():\n",
    "    styles = open(\"custom.css\", \"r\").read()\n",
    "    return HTML(styles)\n",
    "css_styling()"
   ]
  },
  {
   "cell_type": "code",
   "execution_count": null,
   "metadata": {
    "collapsed": true
   },
   "outputs": [],
   "source": []
  }
 ],
 "metadata": {
  "anaconda-cloud": {},
  "kernelspec": {
   "display_name": "Python 3",
   "language": "python",
   "name": "python3"
  },
  "language_info": {
   "codemirror_mode": {
    "name": "ipython",
    "version": 3
   },
   "file_extension": ".py",
   "mimetype": "text/x-python",
   "name": "python",
   "nbconvert_exporter": "python",
   "pygments_lexer": "ipython3",
   "version": "3.7.6"
  },
  "latex_envs": {
   "bibliofile": "biblio.bib",
   "cite_by": "apalike",
   "current_citInitial": 1,
   "eqLabelWithNumbers": true,
   "eqNumInitial": 0
  }
 },
 "nbformat": 4,
 "nbformat_minor": 1
}
