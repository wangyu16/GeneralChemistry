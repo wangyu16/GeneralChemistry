{
 "cells": [
  {
   "cell_type": "markdown",
   "metadata": {},
   "source": [
    "\n",
    "$$\\require{mhchem}$$\n",
    "\n",
    "### [HOME](https://wangyu16.github.io/GeneralChemistry/)\n",
    "\n",
    "# <center>General Chemistry Study Guide</center>\n",
    "\n",
    "### <center>Chapter 18. Thermodynamics</center>\n",
    "\n",
    "---\n",
    "\n",
    "*<center>Yu Wang</center>*\n",
    "\n",
    "##### <b>OpenStax</b> 16 Thermodynamics. <b>Brown</b> 19 Chemical Thermodynamics. #####"
   ]
  },
  {
   "cell_type": "markdown",
   "metadata": {},
   "source": [
    "**Thermodynamics:** the branch of physical science that deals with the relations between heat and other forms of energy (such as mechanical, electrical, or chemical energy), and, by extension, of the relationships between all forms of energy."
   ]
  },
  {
   "cell_type": "markdown",
   "metadata": {},
   "source": [
    "## 1. Entropy \n",
    "\n",
    "**Spontaneous Processes**  \n",
    "A reaction that does occur under the given set of conditions is called a **spontaneous reaction**. \n",
    "\n",
    "Two factors determine if a process occur spontaneously.\n",
    "1. Release or absorb heat; \n",
    "2. Increase or decrease disordor. \n",
    "\n",
    "<style type=\"text/css\">\n",
    ".tg  {border-collapse:collapse;border-spacing:0;}\n",
    ".tg td{padding:10px 5px;border-style:solid;border-width:1px;overflow:hidden;word-break:normal;}\n",
    ".tg .tg-i6eq{background-color:#ffccc9;vertical-align:top}\n",
    ".tg .tg-a080{background-color:#9aff99;vertical-align:top}\n",
    ".tg .tg-c57o{background-color:#ecf4ff;vertical-align:top}\n",
    "</style>\n",
    "<table class=\"tg\">\n",
    "  <tr>\n",
    "    <td class=\"tg-a080\">Release heat<br>Increase disorder<br>**Spontaneous!**</td>\n",
    "    <td class=\"tg-c57o\">Absorb heat<br>Increase disorder<br>**Depends!**</td>\n",
    "  </tr>\n",
    "  <tr>\n",
    "    <td class=\"tg-c57o\">Release heat<br>Decrease disorder<br>**Depends!**</td>\n",
    "    <td class=\"tg-i6eq\">Absorb heat<br>Decrease disorder<br>**Never happen!**</td>\n",
    "  </tr>\n",
    "</table>\n"
   ]
  },
  {
   "cell_type": "markdown",
   "metadata": {},
   "source": [
    "**Entropy** ($S$) is a measure of the randomness or disorder of a system. The unit of entropy is J/K.  \n",
    "\n",
    "$$S = k \\ln W$$  \n",
    "where $k$ is Boltzmann constant ($1.38\\times 10^{-23}\\,\\text{J/K}$), $W$ is the number of microstates. \n",
    "\n",
    "**State functions** are properties that are determined by the state of the system, regardless of how that condition was achieved.\n",
    "\n",
    "Entropy is a state function. "
   ]
  },
  {
   "cell_type": "markdown",
   "metadata": {},
   "source": [
    "**Standard Entropy** ($S^\\ominus$) is the absolute entropy of a substance at 1 atm and usually quoted with its value at 25 $^\\circ$C. \n",
    "\n",
    "General trends: \n",
    "* Gas $\\gg$ Liquid $>$ Solid; \n",
    "* If the same state, more complex molecules result in higher entropy. "
   ]
  },
  {
   "cell_type": "markdown",
   "metadata": {},
   "source": [
    "**Standard Entropy of a Reaction**\n",
    "\n",
    "For a reaction:  \n",
    "\n",
    "$$\\ce{aA + bB -> cC + dD}$$  \n",
    "The standard entropy of reaction $\\Delta S^\\ominus_\\text{rxn}$ is:  \n",
    "\n",
    "$$\\Delta S^\\ominus_\\text{rxn}=[cS^\\ominus(\\ce{C})+dS^\\ominus(\\ce{D})]-[aS^\\ominus(\\ce{A})+dS^\\ominus(\\ce{B})]$$  \n",
    "The values of $S^\\ominus$ can be found in Appendix 2. \n",
    "\n",
    "Generally, \n",
    "* If a reaction produces more gas molecules than it consumes, $\\Delta S^\\ominus_\\text{rxn}$ is positive; \n",
    "* If the total number of gas molecules diminishes, $\\Delta S^\\ominus_\\text{rxn}$ is negative; \n",
    "* If there is no net change in the total number of gas molecules, then $\\Delta S^\\ominus_\\text{rxn}$ can be either positive or negative, but will be relatively small numerically. "
   ]
  },
  {
   "cell_type": "markdown",
   "metadata": {},
   "source": [
    "<div class=example> \n",
    "    \n",
    "<b>Example:</b> <br>\n",
    "\n",
    "<b>Answer:</b> <br>\n",
    "    \n",
    "    \n",
    "</div>  "
   ]
  },
  {
   "cell_type": "markdown",
   "metadata": {},
   "source": [
    "> **Requirements**\n",
    "> 1. Understand what is a spontaneous process. \n",
    "> 2. Understand what is entropy; what are state functions; what is the standard entropy of a given substance. \n",
    "> 2. Calculate the $\\Delta S^\\ominus_\\text{rxn}$ of a reaction. Predict whether the entropy change of a system is positive or negative. "
   ]
  },
  {
   "cell_type": "markdown",
   "metadata": {},
   "source": [
    "## 2. The Laws of Thermodynamics\n",
    "\n",
    "An alternate statement of the laws of thermodynamics:  \n",
    "- **Zeroth law of thermodynamics:** If two systems are in thermal equilibrium with a third system, they are in thermal equilibrium with each other.  \n",
    "- **First law of thermodynamics:** When energy passes, as work, as heat, or with matter, into or out from a system, the system's internal energy changes in accord with the law of conservation of energy.  \n",
    "- **Second law of thermodynamics:** In a natural thermodynamic process, the sum of the entropies of the interacting thermodynamic systems increases.  \n",
    "- **Third law of thermodynamics:** The entropy of a system approaches a constant value as the temperature approaches absolute zero. With the exception of non-crystalline solids (glasses) the entropy of a system at absolute zero is typically close to zero, and is equal to the logarithm of the product of the quantum ground states. "
   ]
  },
  {
   "cell_type": "markdown",
   "metadata": {},
   "source": [
    "**Second Law**\n",
    "\n",
    "Consider the universe as a whole, the total amount of energy is constant (First Law). The universe cannot release or gain energy from \"outside\". If a process can happen spontaneously, it must cause the total entropy of the universe increase (Second Law).  \n",
    "\n",
    "When the entropy of the universe reaches a maximum value, which means the universe reaches a thermodynamic equilibrium , no processes that increase entropy (including computation and life) can be sustained any more. This state is called the *heat death of the universe* which is a possible ultimate fate of the universe. \n",
    "\n",
    "**Third Law**\n",
    "\n",
    "The important point about the third law of thermodynamics is that it enables us to determine the absolute entropies of substances. \n",
    "\n",
    "Example: Diamond should have $S=0$ at 0 K. The value you find in Appendix II is the standard entropy $S^\\circ$ which means the entropy of 1 mol substance at 25 $^\\circ$C and 1 atm. For diamond the value is $S^\\ominus = 2.4$ J/K. Higher temperature results in higher entropy. "
   ]
  },
  {
   "cell_type": "markdown",
   "metadata": {},
   "source": [
    "<div class=example> \n",
    "    \n",
    "<b>Example:</b> <br>\n",
    "\n",
    "<b>Answer:</b> <br>\n",
    "    \n",
    "    \n",
    "</div>  "
   ]
  },
  {
   "cell_type": "markdown",
   "metadata": {},
   "source": [
    "> **Requirements**\n",
    "> 1. Understand"
   ]
  },
  {
   "cell_type": "markdown",
   "metadata": {},
   "source": [
    "## 3. Free Energy\n",
    "\n",
    "**Defination of Free Energy**\n",
    "\n",
    "If a system releases heat to the surroundings (the rest of the universe), the entropy of the surroundings will increase. If a system absorb heat from the surroundings, the entropy of the surroundings will decrease. Under constant temperature and pressure, we have: \n",
    "\n",
    "$$\\Delta S_\\text{surr}=-\\frac{\\Delta H_\\text{sys}}{T}$$\n",
    "\n",
    "A spontaneous process is a process that increases the total entropy of the universe, which means: \n",
    "\n",
    "$$\\Delta S_\\text{univ}=\\Delta S_\\text{sys}+\\Delta S_\\text{surr} > 0$$\n",
    "\n",
    "That is to say: \n",
    "\n",
    "$$\\Delta S_\\text{sys}-\\frac{\\Delta H_\\text{sys}}{T}>0$$\n",
    "\n",
    "or: \n",
    "\n",
    "$$\\Delta H_\\text{sys}-T\\Delta S_\\text{sys} < 0$$\n",
    "\n",
    "Define **Gibbs free energy** ($G$), which is the free energy at constant temperature and pressure, as: \n",
    "\n",
    "$$G = H -TS$$ \n",
    "\n",
    "A spontaneous process requires: \n",
    "\n",
    "$$\\Delta G_\\text{sys}=\\Delta H_\\text{sys}-T\\Delta S_\\text{sys} < 0$$\n",
    "\n",
    "After introducing the concept of free energy, the spontaneous processes can be defined more precisely as: A **spontaneous process** is the time-evolution of a system in which it releases free energy and moves to a lower, more thermodynamically stable energy state. Thus,  \n",
    "* $\\Delta G < 0$, the reaction is spontaneous in the forward direction;\n",
    "* $\\Delta G > 0$, the reaction is nonspontaneous, while the reverse reaction is spontaneous; \n",
    "* $\\Delta G = 0$, the system is at equilibrium. There is no net change. "
   ]
  },
  {
   "cell_type": "markdown",
   "metadata": {
    "collapsed": true
   },
   "source": [
    "**Standard Free Energy Changes**\n",
    "\n",
    "The standard free energy of reaction ($\\Delta G^\\ominus_\\text{rxn}$)  is the free energy change for a reaction when it occurs under standard-state conditions (25 °C and 1 atm). \n",
    "\n",
    "For a reaction:  \n",
    "\n",
    "$$\\ce{aA + bB -> cC + dD}$$  \n",
    "The standard free energy of reaction $\\Delta G^\\ominus_\\text{rxn}$ is:  \n",
    "\n",
    "$$\\Delta G^\\ominus_\\text{rxn}=[c\\Delta G^\\ominus_f(\\ce{C})+d\\Delta G^\\ominus_f(\\ce{D})]-[a\\Delta G^\\ominus_f(\\ce{A})+d\\Delta G^\\ominus_f(\\ce{B})]$$  \n",
    "Where $\\Delta G^\\ominus_f$ is the standard free energy of formation of a compound, that is, the free-energy change that occurs when 1 mole of the compound is synthesized from its elements in their standard states. We define the standard free energy of formation of any element in its stable allotropic form at 1 atm and 25 °C as zero.The values of $\\Delta G^\\ominus_f$ can be found in Appendix 2. \n"
   ]
  },
  {
   "cell_type": "markdown",
   "metadata": {},
   "source": [
    "**Temperature and Chemical Reactions**\n",
    "The forward direction of the following reaction is endothermic\n",
    "\n",
    "$$\\ce{CaCO3(s) <=> CaO(s) + CO2(g)}$$  \n",
    "\n",
    "According to LeChatelier's principle, the reaction shifts towards right side under higher temperature. Same conclusion should be obtained if we look at the free energy change. \n",
    "\n",
    "At 25 °C, $\\Delta H^\\ominus = 177.8\\,\\text{kJ/mol} > 0$; $\\Delta S^\\ominus = 160.5\\,\\text{J/K}\\cdot\\text{mol} > 0$. Thus, $\\Delta G^\\ominus= \\Delta H^\\ominus - T\\Delta S^\\ominus = 130.0\\,\\text{kJ/mol} > 0$. This reaction does not take place spontaneously at room temperature. \n",
    "\n",
    "At what temperature will this reaction occur? Let $\\Delta G^\\ominus= \\Delta H^\\ominus - T\\Delta S^\\ominus = 0$, assuming $\\Delta H^\\ominus$ and $\\Delta S^\\ominus$ does not change, we get $T = 1108\\,\\text{K}$ which is 835 °C. At this temperature the equilibrium pressure of $\\ce{CO2}$ reaches 1 atm. Above 835 °C, the equilibrium pressure of $\\ce{CO2}$ exceeds 1 atm. "
   ]
  },
  {
   "cell_type": "markdown",
   "metadata": {},
   "source": [
    "**Phase Transitions** \n",
    "\n",
    "The melting point of ice is 0 °C means at this temperature the change between water and ice is at equilibrium ($\\Delta G = 0$). \n",
    "\n",
    "$$\\Delta G = \\Delta H - T\\Delta S=0$$\n",
    "\n",
    "$$\\Delta S = \\frac{\\Delta H}{T}$$\n",
    "\n",
    "At 0 °C the phase change from ice to water has $\\Delta H = 6.01\\,\\text{kJ/mol}$ and $\\Delta S = 22.0\\,\\text{J/K}\\cdot\\text{mol}$"
   ]
  },
  {
   "cell_type": "markdown",
   "metadata": {},
   "source": [
    "**Free Energy and Chemical Equilibrium**\n",
    "\n",
    "$$\\Delta G = \\Delta G^\\ominus + RT \\ln Q$$\n",
    "\n",
    "where $Q$ is the reaction quotient. \n",
    "\n",
    "When the reaction reaches equilibrium $\\Delta G = 0$ and $Q= K$, thus\n",
    "\n",
    "$$0 = \\Delta G^\\ominus + RT \\ln K$$\n",
    "\n",
    "$$\\Delta G^\\ominus =- RT \\ln K$$\n",
    "\n",
    "If $Q < K$, then $\\Delta G < 0$ and the reaction proceeds from left to right;  \n",
    "If $Q > K$, then $\\Delta G > 0$ and the reaction proceeds from right to left."
   ]
  },
  {
   "cell_type": "markdown",
   "metadata": {},
   "source": [
    "<div class=example> \n",
    "    \n",
    "<b>Example:</b> <br>\n",
    "\n",
    "<b>Answer:</b> <br>\n",
    "    \n",
    "    \n",
    "</div>  "
   ]
  },
  {
   "cell_type": "markdown",
   "metadata": {},
   "source": [
    "> **Requirements**\n",
    "> 1. Understand how to determine if a process is spontaneous; \n",
    "> 2. Know how to calculate standard free energy of reaction; \n",
    "> 3. Calculate how would $\\Delta G^\\ominus$ change with temperature; Know the correlation between $\\Delta H$ and $\\Delta S$ at melting point or boiling point; \n",
    "> 4. Calculate $\\Delta G^\\ominus$ from $K$, or calculate $K$ from $\\Delta G^\\ominus$. \n",
    "> 4. Calculate the $\\Delta G$ value with known concentrations of all species in a reaction, predict the reaction direction. "
   ]
  },
  {
   "cell_type": "markdown",
   "metadata": {},
   "source": [
    "<div class=practice>\n",
    "    \n",
    "<b>Practice</b> <br>\n",
    "\n",
    "1. <br>\n",
    "2. <br>\n",
    "    \n",
    "</div>    "
   ]
  },
  {
   "cell_type": "markdown",
   "metadata": {
    "collapsed": true
   },
   "source": [
    "---"
   ]
  },
  {
   "cell_type": "raw",
   "metadata": {},
   "source": [
    "Please ignore the cell below. It just loads our style for the notebook."
   ]
  },
  {
   "cell_type": "code",
   "execution_count": 1,
   "metadata": {},
   "outputs": [
    {
     "data": {
      "text/html": [
       "<link href=\"https://fonts.googleapis.com/css?family=Lora:400,400i,700,700i|Open+Sans:400,400i|Raleway:400,400i,700,700i\" rel=\"stylesheet\" type='text/css'>\n",
       "<style  type=\"text/css\">\n",
       "div.text_cell_render {\n",
       "\tfont-family: Lora, serif;\n",
       "\tcolor: #222222;\n",
       "}\n",
       ".text_cell_render p {\n",
       "\tpadding-left: 1.5em;\n",
       "\ttext-align: justify;\n",
       "}\n",
       ".text_cell_render h3, h4, h6 {\n",
       "\tfont-family: Raleway, sans-serif;\n",
       "\tcolor: #005c99;\n",
       "}\n",
       ".text_cell_render h1 {\n",
       "\tfont-family: \"Open Sans\", sans-serif;\n",
       "\tfont-weight: 700;\n",
       "\tmargin: auto;\n",
       "\tdisplay: block;\n",
       "}\n",
       ".text_cell_render h2 {\n",
       "\tfont-family: Raleway, sans-serif;\n",
       "\tfont-weight: 700; \n",
       "\tmargin-top: 50px;\n",
       "\tdisplay:inline-block;\n",
       "\tpadding: 10px 15px;\n",
       "\tbackground-color: #007acc;\n",
       "\tcolor: #f8f8f8;\n",
       "\tborder-radius: 10px 40px 10px 40px;\n",
       "\tletter-spacing: 3px;\n",
       "\tfont-variant: small-caps;\n",
       "}\n",
       ".text_cell_render h5 {\n",
       "\tfont-family: \"Open Sans\", sans-serif;\n",
       "\tfont-weight: 400;\n",
       "\tborder-style: groove;\n",
       "\tpadding:0.5em 0.5em 0.5em 0.5em;\n",
       "\tmargin: 1em 0 1em 0;\n",
       "\tline-height: 1.6;\n",
       "}\n",
       "div #notebook {\n",
       "\tbackground-color: #f8f8f8;\n",
       "\twidth: 1110px;\t\n",
       "\tmargin: auto;\n",
       "\tpadding-left: 0em;\n",
       "\tborder: 3px solid #cbd3e5; \n",
       "\tbox-shadow: 0px 0px 7px 1px #cccccc;\n",
       "}\n",
       "div.example {\n",
       "    background-color:#007acc;\n",
       "    color: #ffffff;\n",
       "    margin: auto;\n",
       "    width: 100%; \n",
       "\tpadding: 1.4em; \n",
       "\tborder: 3px solid #007acc; \n",
       "\tborder-radius: 10px; \n",
       "\tmargin-bottom: 14px; \n",
       "\tmargin-top: 14px;  \n",
       "\tbox-shadow: 7px 7px 5px #cccccc; \n",
       "\toverflow: hidden;\n",
       "}\n",
       "div.practice {\n",
       "    background-color:#fbfbfb;\n",
       "    color: #007acc;\n",
       "    margin: auto;\n",
       "    width: 100%; \n",
       "\tpadding: 1.4em; \n",
       "\tborder: 3px solid #eeeeee; \n",
       "\tborder-radius: 10px; \n",
       "\tmargin-bottom: 14px; \n",
       "\tmargin-top: 14px;  \n",
       "\tbox-shadow: 7px 7px 5px #cccccc; \n",
       "\toverflow: hidden;\n",
       "}\n",
       "div #notebook-container {\n",
       "\tbackground-color: #ffffff;\n",
       "\tfont-size: 1.5em; \n",
       "\tline-height: 1.6;\n",
       "\twidth: 1100px;\n",
       "\tmargin: auto;\n",
       "\tpadding-right: 150px;\n",
       "}\n",
       ".CodeMirror-code {\n",
       "\tfont-size: 1.2em;\n",
       "\tline-height: 125%;\n",
       "\topacity: 0.9;\n",
       "}\n",
       "\n",
       ".text_cell_render td {\n",
       "    border-style: hidden;\n",
       "}\n",
       ".text_cell_render table {\n",
       "    border-style: hidden;\n",
       "\tborder-collapse: collapse;\n",
       "\twidth: 100%;\n",
       "    font-size: 80%;\n",
       "}\n",
       "\n",
       ".text_cell_render th, td {\n",
       "\tpadding: 8px;\n",
       "}\n",
       "\n",
       ".text_cell_render tr:nth-child(even){background-color: #e8e8e8}\n",
       "\n",
       ".text_cell_render th {\n",
       "    border-style: hidden;\n",
       "\tbackground-color: #007acc;\n",
       "\tcolor: #f8f8f8;\n",
       "}\n",
       "table td, table th, table tr {\n",
       "    text-align:left !important;\n",
       "}\n",
       "</style>\n",
       "\n"
      ],
      "text/plain": [
       "<IPython.core.display.HTML object>"
      ]
     },
     "execution_count": 1,
     "metadata": {},
     "output_type": "execute_result"
    }
   ],
   "source": [
    "from IPython.core.display import HTML\n",
    "def css_styling():\n",
    "    styles = open(\"custom.css\", \"r\").read()\n",
    "    return HTML(styles)\n",
    "css_styling()"
   ]
  },
  {
   "cell_type": "code",
   "execution_count": null,
   "metadata": {
    "collapsed": true
   },
   "outputs": [],
   "source": []
  }
 ],
 "metadata": {
  "anaconda-cloud": {},
  "kernelspec": {
   "display_name": "Python 3",
   "language": "python",
   "name": "python3"
  },
  "language_info": {
   "codemirror_mode": {
    "name": "ipython",
    "version": 3
   },
   "file_extension": ".py",
   "mimetype": "text/x-python",
   "name": "python",
   "nbconvert_exporter": "python",
   "pygments_lexer": "ipython3",
   "version": "3.7.6"
  },
  "latex_envs": {
   "bibliofile": "biblio.bib",
   "cite_by": "apalike",
   "current_citInitial": 1,
   "eqLabelWithNumbers": true,
   "eqNumInitial": 0
  }
 },
 "nbformat": 4,
 "nbformat_minor": 1
}
